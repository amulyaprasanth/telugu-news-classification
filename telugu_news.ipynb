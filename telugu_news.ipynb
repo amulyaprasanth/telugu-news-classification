{
  "cells": [
    {
      "cell_type": "markdown",
      "source": [
        "# Telugu News Article Classification Using Natural Language Processing\n",
        "\n",
        "**Problem Statement:** In this notebook, I tried to classify news paper articles using Natural Language Processing in TensorFlow\n",
        "\n",
        "* **Data:** The data is taken from Kaggle datasets. You can find the data [here]('https://www.kaggle.com/sudalairajkumar/telugu-nlp?select=telugu_news').\n",
        "\n",
        "* **Evaluation:** We used accuracy to evaluate the model\n",
        "\n",
        "I've tried various models for text classification like\n",
        "* Naive Bayes model\n",
        "* FeedForward Neural Network\n",
        "* LSTM\n",
        "* GRU\n",
        "* Bidirectional GRU\n",
        "\n",
        "and found that GRU model performs better with accuracy of ***93.69%*** accuracy."
      ],
      "metadata": {
        "id": "nxYI5xWyW0cH"
      },
      "id": "nxYI5xWyW0cH"
    },
    {
      "cell_type": "code",
      "execution_count": 2,
      "id": "2710c1d9",
      "metadata": {
        "id": "2710c1d9",
        "colab": {
          "base_uri": "https://localhost:8080/"
        },
        "outputId": "9626d277-d7ef-497d-a615-b11df626f7fd"
      },
      "outputs": [
        {
          "output_type": "stream",
          "name": "stdout",
          "text": [
            "--2022-02-19 13:30:52--  https://raw.githubusercontent.com/mrdbourke/tensorflow-deep-learning/main/extras/helper_functions.py\n",
            "Resolving raw.githubusercontent.com (raw.githubusercontent.com)... 185.199.109.133, 185.199.110.133, 185.199.108.133, ...\n",
            "Connecting to raw.githubusercontent.com (raw.githubusercontent.com)|185.199.109.133|:443... connected.\n",
            "HTTP request sent, awaiting response... 200 OK\n",
            "Length: 10246 (10K) [text/plain]\n",
            "Saving to: ‘helper_functions.py’\n",
            "\n",
            "\rhelper_functions.py   0%[                    ]       0  --.-KB/s               \rhelper_functions.py 100%[===================>]  10.01K  --.-KB/s    in 0s      \n",
            "\n",
            "2022-02-19 13:30:52 (83.2 MB/s) - ‘helper_functions.py’ saved [10246/10246]\n",
            "\n"
          ]
        }
      ],
      "source": [
        "import tensorflow as tf\n",
        "import numpy as np\n",
        "import pandas as pd\n",
        "%matplotlib inline\n",
        "import seaborn as sns\n",
        "from sklearn.model_selection import train_test_split\n",
        "\n",
        "!wget https://raw.githubusercontent.com/mrdbourke/tensorflow-deep-learning/main/extras/helper_functions.py\n",
        "from helper_functions import create_tensorboard_callback\n",
        "SAVE_DIR = \"model_logs\""
      ]
    },
    {
      "cell_type": "code",
      "execution_count": 3,
      "id": "a80af5f1",
      "metadata": {
        "id": "a80af5f1"
      },
      "outputs": [],
      "source": [
        "# Function to evaluate: accuracy, precision, recall, f1-score\n",
        "from sklearn.metrics import accuracy_score, precision_recall_fscore_support\n",
        "\n",
        "def calculate_results(y_true, y_pred):\n",
        "  \"\"\"\n",
        "  Calculates model accuracy, precision, recall and f1 score of a binary classification model.\n",
        "\n",
        "  Args:\n",
        "  -----\n",
        "  y_true = true labels in the form of a 1D array\n",
        "  y_pred = predicted labels in the form of a 1D array\n",
        "\n",
        "  Returns a dictionary of accuracy, precision, recall, f1-score.\n",
        "  \"\"\"\n",
        "  # Calculate model accuracy\n",
        "  model_accuracy = accuracy_score(y_true, y_pred) * 100\n",
        "  # Calculate model precision, recall and f1 score using \"weighted\" average\n",
        "  model_precision, model_recall, model_f1, _ = precision_recall_fscore_support(y_true, y_pred, average=\"weighted\")\n",
        "  model_results = {\"accuracy\": model_accuracy,\n",
        "                  \"precision\": model_precision,\n",
        "                  \"recall\": model_recall,\n",
        "                  \"f1\": model_f1}\n",
        "  return model_results"
      ]
    },
    {
      "cell_type": "code",
      "execution_count": 68,
      "id": "453c14cd",
      "metadata": {
        "id": "453c14cd"
      },
      "outputs": [],
      "source": [
        "# Function to convert pred probs into labels\n",
        "def make_preds(model):\n",
        "    \"\"\"\n",
        "    This function make predictions on the validation data and returns the prediction labels\n",
        "    \"\"\"\n",
        "    pred_probs = model.predict(test_data)\n",
        "    preds = tf.argmax(pred_probs, axis=1)\n",
        "    \n",
        "    return preds"
      ]
    },
    {
      "cell_type": "code",
      "execution_count": 69,
      "id": "6f1886b0",
      "metadata": {
        "id": "6f1886b0"
      },
      "outputs": [],
      "source": [
        "# Make a function some predictions on test data and visualize them\n",
        "def visualize_random_preds(model):\n",
        "    \"\"\"\n",
        "    Make predictions with our model and visualize them with their labels\n",
        "    r\n",
        "    Args:\n",
        "        model: model you want to predict the labels with\n",
        "         \n",
        "    \"\"\"\n",
        "    \n",
        "    \n",
        "    # Selecting a random sentence from our validation dataset\n",
        "    random_number = random.randint(0, len(test_sentences))\n",
        "    y_preds = make_preds(model)\n",
        "    print(f\"Text: \\n{test_sentences[random_number]}\\n\")\n",
        "    print(f\"Predicted label: {class_names[y_preds[random_number]]}\\n\")\n",
        "    print(f\"Original label: {test_labels[random_number]}\\n\" )\n",
        "\n"
      ]
    },
    {
      "cell_type": "code",
      "execution_count": 6,
      "id": "d3c6ed49",
      "metadata": {
        "id": "d3c6ed49"
      },
      "outputs": [],
      "source": [
        "train = pd.read_csv(\"https://raw.githubusercontent.com/amulyaprasanth/telugu-news-nlp/main/train_telugu_news.csv?token=GHSAT0AAAAAABRUD26EMMTNW7DJCP2RMRSMYQ2HQIA\")\n",
        "test = pd.read_csv(\"https://raw.githubusercontent.com/amulyaprasanth/telugu-news-nlp/main/test_telugu_news.csv?token=GHSAT0AAAAAABRUD26FEIFCFECPDR4QRQWIYQ2HSFQ\")"
      ]
    },
    {
      "cell_type": "code",
      "execution_count": 8,
      "id": "24f359fb",
      "metadata": {
        "id": "24f359fb",
        "scrolled": true,
        "colab": {
          "base_uri": "https://localhost:8080/",
          "height": 206
        },
        "outputId": "ed00617e-964e-484e-d887-8926cbde95da"
      },
      "outputs": [
        {
          "output_type": "execute_result",
          "data": {
            "text/html": [
              "\n",
              "  <div id=\"df-c1b674c7-6d0b-4221-813d-59b70dfebfab\">\n",
              "    <div class=\"colab-df-container\">\n",
              "      <div>\n",
              "<style scoped>\n",
              "    .dataframe tbody tr th:only-of-type {\n",
              "        vertical-align: middle;\n",
              "    }\n",
              "\n",
              "    .dataframe tbody tr th {\n",
              "        vertical-align: top;\n",
              "    }\n",
              "\n",
              "    .dataframe thead th {\n",
              "        text-align: right;\n",
              "    }\n",
              "</style>\n",
              "<table border=\"1\" class=\"dataframe\">\n",
              "  <thead>\n",
              "    <tr style=\"text-align: right;\">\n",
              "      <th></th>\n",
              "      <th>SNo</th>\n",
              "      <th>date</th>\n",
              "      <th>heading</th>\n",
              "      <th>body</th>\n",
              "      <th>topic</th>\n",
              "    </tr>\n",
              "  </thead>\n",
              "  <tbody>\n",
              "    <tr>\n",
              "      <th>0</th>\n",
              "      <td>414</td>\n",
              "      <td>11-05-2017 00:39:13</td>\n",
              "      <td>ఐడిబిఐపై ఆర్‌బిఐ నజర్‌</td>\n",
              "      <td>భారీ ఎత్తున మొండిబకాయిలు పెరిగిపోవడంతో ఐడిబిఐ ...</td>\n",
              "      <td>business</td>\n",
              "    </tr>\n",
              "    <tr>\n",
              "      <th>1</th>\n",
              "      <td>2668</td>\n",
              "      <td>12-06-2017 00:40:32</td>\n",
              "      <td>బ్యాంకింగ్‌ చీఫ్‌లతో నేడు జైట్లీ భేటీ</td>\n",
              "      <td>న్యూఢిల్లీ : ఆర్థిక మంత్రి అరుణ్‌ జైట్లీ సోమవా...</td>\n",
              "      <td>business</td>\n",
              "    </tr>\n",
              "    <tr>\n",
              "      <th>2</th>\n",
              "      <td>19923</td>\n",
              "      <td>19-01-2017 19:51:31</td>\n",
              "      <td>కీలక వికెట్ తీసిన జడేజా..</td>\n",
              "      <td>కటక్: ఇంగ్లండ్‌తో జరుగుతున్న సెకండ్ వన్డే మ్యా...</td>\n",
              "      <td>sports</td>\n",
              "    </tr>\n",
              "    <tr>\n",
              "      <th>3</th>\n",
              "      <td>15762</td>\n",
              "      <td>23-11-2017 17:29:04</td>\n",
              "      <td>మరో రెచ్చగొట్టే చర్యకు దిగిన పాకిస్థాన్</td>\n",
              "      <td>\\nఇస్లామాబాద్ : పాకిస్థాన్ అంతర్జాతీయ ఉగ్రవాది...</td>\n",
              "      <td>nation</td>\n",
              "    </tr>\n",
              "    <tr>\n",
              "      <th>4</th>\n",
              "      <td>8624</td>\n",
              "      <td>03-04-2017 15:48:23</td>\n",
              "      <td>గోవాలో కొడుకుతో కలిసి అల్లు అర్జున్ స్విమ్మింగ్!</td>\n",
              "      <td>స్టార్‌ హీరోగా వరుస సినిమాలతో బిజీగా ఉన్నప్పటి...</td>\n",
              "      <td>entertainment</td>\n",
              "    </tr>\n",
              "  </tbody>\n",
              "</table>\n",
              "</div>\n",
              "      <button class=\"colab-df-convert\" onclick=\"convertToInteractive('df-c1b674c7-6d0b-4221-813d-59b70dfebfab')\"\n",
              "              title=\"Convert this dataframe to an interactive table.\"\n",
              "              style=\"display:none;\">\n",
              "        \n",
              "  <svg xmlns=\"http://www.w3.org/2000/svg\" height=\"24px\"viewBox=\"0 0 24 24\"\n",
              "       width=\"24px\">\n",
              "    <path d=\"M0 0h24v24H0V0z\" fill=\"none\"/>\n",
              "    <path d=\"M18.56 5.44l.94 2.06.94-2.06 2.06-.94-2.06-.94-.94-2.06-.94 2.06-2.06.94zm-11 1L8.5 8.5l.94-2.06 2.06-.94-2.06-.94L8.5 2.5l-.94 2.06-2.06.94zm10 10l.94 2.06.94-2.06 2.06-.94-2.06-.94-.94-2.06-.94 2.06-2.06.94z\"/><path d=\"M17.41 7.96l-1.37-1.37c-.4-.4-.92-.59-1.43-.59-.52 0-1.04.2-1.43.59L10.3 9.45l-7.72 7.72c-.78.78-.78 2.05 0 2.83L4 21.41c.39.39.9.59 1.41.59.51 0 1.02-.2 1.41-.59l7.78-7.78 2.81-2.81c.8-.78.8-2.07 0-2.86zM5.41 20L4 18.59l7.72-7.72 1.47 1.35L5.41 20z\"/>\n",
              "  </svg>\n",
              "      </button>\n",
              "      \n",
              "  <style>\n",
              "    .colab-df-container {\n",
              "      display:flex;\n",
              "      flex-wrap:wrap;\n",
              "      gap: 12px;\n",
              "    }\n",
              "\n",
              "    .colab-df-convert {\n",
              "      background-color: #E8F0FE;\n",
              "      border: none;\n",
              "      border-radius: 50%;\n",
              "      cursor: pointer;\n",
              "      display: none;\n",
              "      fill: #1967D2;\n",
              "      height: 32px;\n",
              "      padding: 0 0 0 0;\n",
              "      width: 32px;\n",
              "    }\n",
              "\n",
              "    .colab-df-convert:hover {\n",
              "      background-color: #E2EBFA;\n",
              "      box-shadow: 0px 1px 2px rgba(60, 64, 67, 0.3), 0px 1px 3px 1px rgba(60, 64, 67, 0.15);\n",
              "      fill: #174EA6;\n",
              "    }\n",
              "\n",
              "    [theme=dark] .colab-df-convert {\n",
              "      background-color: #3B4455;\n",
              "      fill: #D2E3FC;\n",
              "    }\n",
              "\n",
              "    [theme=dark] .colab-df-convert:hover {\n",
              "      background-color: #434B5C;\n",
              "      box-shadow: 0px 1px 3px 1px rgba(0, 0, 0, 0.15);\n",
              "      filter: drop-shadow(0px 1px 2px rgba(0, 0, 0, 0.3));\n",
              "      fill: #FFFFFF;\n",
              "    }\n",
              "  </style>\n",
              "\n",
              "      <script>\n",
              "        const buttonEl =\n",
              "          document.querySelector('#df-c1b674c7-6d0b-4221-813d-59b70dfebfab button.colab-df-convert');\n",
              "        buttonEl.style.display =\n",
              "          google.colab.kernel.accessAllowed ? 'block' : 'none';\n",
              "\n",
              "        async function convertToInteractive(key) {\n",
              "          const element = document.querySelector('#df-c1b674c7-6d0b-4221-813d-59b70dfebfab');\n",
              "          const dataTable =\n",
              "            await google.colab.kernel.invokeFunction('convertToInteractive',\n",
              "                                                     [key], {});\n",
              "          if (!dataTable) return;\n",
              "\n",
              "          const docLinkHtml = 'Like what you see? Visit the ' +\n",
              "            '<a target=\"_blank\" href=https://colab.research.google.com/notebooks/data_table.ipynb>data table notebook</a>'\n",
              "            + ' to learn more about interactive tables.';\n",
              "          element.innerHTML = '';\n",
              "          dataTable['output_type'] = 'display_data';\n",
              "          await google.colab.output.renderOutput(dataTable, element);\n",
              "          const docLink = document.createElement('div');\n",
              "          docLink.innerHTML = docLinkHtml;\n",
              "          element.appendChild(docLink);\n",
              "        }\n",
              "      </script>\n",
              "    </div>\n",
              "  </div>\n",
              "  "
            ],
            "text/plain": [
              "     SNo  ...          topic\n",
              "0    414  ...       business\n",
              "1   2668  ...       business\n",
              "2  19923  ...         sports\n",
              "3  15762  ...         nation\n",
              "4   8624  ...  entertainment\n",
              "\n",
              "[5 rows x 5 columns]"
            ]
          },
          "metadata": {},
          "execution_count": 8
        }
      ],
      "source": [
        "train.head()"
      ]
    },
    {
      "cell_type": "code",
      "execution_count": 9,
      "id": "f5efa780",
      "metadata": {
        "colab": {
          "base_uri": "https://localhost:8080/",
          "height": 206
        },
        "id": "f5efa780",
        "outputId": "892d9c53-f513-4e65-ad88-854fc88e1cb5"
      },
      "outputs": [
        {
          "output_type": "execute_result",
          "data": {
            "text/html": [
              "\n",
              "  <div id=\"df-5e76040a-8c28-4d90-ab32-1d1828ae7ace\">\n",
              "    <div class=\"colab-df-container\">\n",
              "      <div>\n",
              "<style scoped>\n",
              "    .dataframe tbody tr th:only-of-type {\n",
              "        vertical-align: middle;\n",
              "    }\n",
              "\n",
              "    .dataframe tbody tr th {\n",
              "        vertical-align: top;\n",
              "    }\n",
              "\n",
              "    .dataframe thead th {\n",
              "        text-align: right;\n",
              "    }\n",
              "</style>\n",
              "<table border=\"1\" class=\"dataframe\">\n",
              "  <thead>\n",
              "    <tr style=\"text-align: right;\">\n",
              "      <th></th>\n",
              "      <th>SNo</th>\n",
              "      <th>date</th>\n",
              "      <th>heading</th>\n",
              "      <th>body</th>\n",
              "      <th>topic</th>\n",
              "    </tr>\n",
              "  </thead>\n",
              "  <tbody>\n",
              "    <tr>\n",
              "      <th>0</th>\n",
              "      <td>7771</td>\n",
              "      <td>19-05-2017 13:44:10</td>\n",
              "      <td>కేశవ</td>\n",
              "      <td>హీరోగా తెలుగు సినిమాల్లోకి ఎంట్రీ ఇచ్చిన నిఖిల...</td>\n",
              "      <td>entertainment</td>\n",
              "    </tr>\n",
              "    <tr>\n",
              "      <th>1</th>\n",
              "      <td>9591</td>\n",
              "      <td>01-08-2017 13:58:24</td>\n",
              "      <td>డబ్బుల కోసం ప్రాణాల మీదకు తెచ్చుకుంటారా.. హీరో...</td>\n",
              "      <td>సినిమాల్లో యాక్షన్ స్టంట్లు చేసేటప్పుడు ఎక్కు...</td>\n",
              "      <td>entertainment</td>\n",
              "    </tr>\n",
              "    <tr>\n",
              "      <th>2</th>\n",
              "      <td>12622</td>\n",
              "      <td>05-04-2017 00:31:58</td>\n",
              "      <td>దక్షిణాదిన బీజేపీ పప్పులుడకవ్‌</td>\n",
              "      <td>దక్షిణ భారతాన్ని ఆక్రమించేందుకు బీజేపీ పంచెలు ...</td>\n",
              "      <td>nation</td>\n",
              "    </tr>\n",
              "    <tr>\n",
              "      <th>3</th>\n",
              "      <td>16401</td>\n",
              "      <td>30-08-2017 03:34:37</td>\n",
              "      <td>పీఎస్‌ఎల్వీ-సీ39కి గ్రీన్‌సిగ్నల్‌</td>\n",
              "      <td>నేటి మధ్యాహ్నం 1.59కి కౌంట్‌డౌన్‌ షురూశ్రీహరి...</td>\n",
              "      <td>nation</td>\n",
              "    </tr>\n",
              "    <tr>\n",
              "      <th>4</th>\n",
              "      <td>10422</td>\n",
              "      <td>10-04-2017 09:00:48</td>\n",
              "      <td>ఏయ్ జయప్రకాష్ అనే కేక వినిపించింది.. వెనక్కి త...</td>\n",
              "      <td>‘ఏమి రా... అబ్బి... యాడికి పోయినావు’ అంటూ రాయ...</td>\n",
              "      <td>entertainment</td>\n",
              "    </tr>\n",
              "  </tbody>\n",
              "</table>\n",
              "</div>\n",
              "      <button class=\"colab-df-convert\" onclick=\"convertToInteractive('df-5e76040a-8c28-4d90-ab32-1d1828ae7ace')\"\n",
              "              title=\"Convert this dataframe to an interactive table.\"\n",
              "              style=\"display:none;\">\n",
              "        \n",
              "  <svg xmlns=\"http://www.w3.org/2000/svg\" height=\"24px\"viewBox=\"0 0 24 24\"\n",
              "       width=\"24px\">\n",
              "    <path d=\"M0 0h24v24H0V0z\" fill=\"none\"/>\n",
              "    <path d=\"M18.56 5.44l.94 2.06.94-2.06 2.06-.94-2.06-.94-.94-2.06-.94 2.06-2.06.94zm-11 1L8.5 8.5l.94-2.06 2.06-.94-2.06-.94L8.5 2.5l-.94 2.06-2.06.94zm10 10l.94 2.06.94-2.06 2.06-.94-2.06-.94-.94-2.06-.94 2.06-2.06.94z\"/><path d=\"M17.41 7.96l-1.37-1.37c-.4-.4-.92-.59-1.43-.59-.52 0-1.04.2-1.43.59L10.3 9.45l-7.72 7.72c-.78.78-.78 2.05 0 2.83L4 21.41c.39.39.9.59 1.41.59.51 0 1.02-.2 1.41-.59l7.78-7.78 2.81-2.81c.8-.78.8-2.07 0-2.86zM5.41 20L4 18.59l7.72-7.72 1.47 1.35L5.41 20z\"/>\n",
              "  </svg>\n",
              "      </button>\n",
              "      \n",
              "  <style>\n",
              "    .colab-df-container {\n",
              "      display:flex;\n",
              "      flex-wrap:wrap;\n",
              "      gap: 12px;\n",
              "    }\n",
              "\n",
              "    .colab-df-convert {\n",
              "      background-color: #E8F0FE;\n",
              "      border: none;\n",
              "      border-radius: 50%;\n",
              "      cursor: pointer;\n",
              "      display: none;\n",
              "      fill: #1967D2;\n",
              "      height: 32px;\n",
              "      padding: 0 0 0 0;\n",
              "      width: 32px;\n",
              "    }\n",
              "\n",
              "    .colab-df-convert:hover {\n",
              "      background-color: #E2EBFA;\n",
              "      box-shadow: 0px 1px 2px rgba(60, 64, 67, 0.3), 0px 1px 3px 1px rgba(60, 64, 67, 0.15);\n",
              "      fill: #174EA6;\n",
              "    }\n",
              "\n",
              "    [theme=dark] .colab-df-convert {\n",
              "      background-color: #3B4455;\n",
              "      fill: #D2E3FC;\n",
              "    }\n",
              "\n",
              "    [theme=dark] .colab-df-convert:hover {\n",
              "      background-color: #434B5C;\n",
              "      box-shadow: 0px 1px 3px 1px rgba(0, 0, 0, 0.15);\n",
              "      filter: drop-shadow(0px 1px 2px rgba(0, 0, 0, 0.3));\n",
              "      fill: #FFFFFF;\n",
              "    }\n",
              "  </style>\n",
              "\n",
              "      <script>\n",
              "        const buttonEl =\n",
              "          document.querySelector('#df-5e76040a-8c28-4d90-ab32-1d1828ae7ace button.colab-df-convert');\n",
              "        buttonEl.style.display =\n",
              "          google.colab.kernel.accessAllowed ? 'block' : 'none';\n",
              "\n",
              "        async function convertToInteractive(key) {\n",
              "          const element = document.querySelector('#df-5e76040a-8c28-4d90-ab32-1d1828ae7ace');\n",
              "          const dataTable =\n",
              "            await google.colab.kernel.invokeFunction('convertToInteractive',\n",
              "                                                     [key], {});\n",
              "          if (!dataTable) return;\n",
              "\n",
              "          const docLinkHtml = 'Like what you see? Visit the ' +\n",
              "            '<a target=\"_blank\" href=https://colab.research.google.com/notebooks/data_table.ipynb>data table notebook</a>'\n",
              "            + ' to learn more about interactive tables.';\n",
              "          element.innerHTML = '';\n",
              "          dataTable['output_type'] = 'display_data';\n",
              "          await google.colab.output.renderOutput(dataTable, element);\n",
              "          const docLink = document.createElement('div');\n",
              "          docLink.innerHTML = docLinkHtml;\n",
              "          element.appendChild(docLink);\n",
              "        }\n",
              "      </script>\n",
              "    </div>\n",
              "  </div>\n",
              "  "
            ],
            "text/plain": [
              "     SNo  ...          topic\n",
              "0   7771  ...  entertainment\n",
              "1   9591  ...  entertainment\n",
              "2  12622  ...         nation\n",
              "3  16401  ...         nation\n",
              "4  10422  ...  entertainment\n",
              "\n",
              "[5 rows x 5 columns]"
            ]
          },
          "metadata": {},
          "execution_count": 9
        }
      ],
      "source": [
        "test.head()"
      ]
    },
    {
      "cell_type": "code",
      "execution_count": 10,
      "id": "d0f957c9",
      "metadata": {
        "colab": {
          "base_uri": "https://localhost:8080/"
        },
        "id": "d0f957c9",
        "outputId": "f9f1ca6a-b477-4867-a065-ad6ffa66f719"
      },
      "outputs": [
        {
          "output_type": "execute_result",
          "data": {
            "text/plain": [
              "nation           6628\n",
              "entertainment    5145\n",
              "business         2572\n",
              "sports           1908\n",
              "editorial        1059\n",
              "Name: topic, dtype: int64"
            ]
          },
          "metadata": {},
          "execution_count": 10
        }
      ],
      "source": [
        "# How many classes are there\n",
        "train[\"topic\"].value_counts()"
      ]
    },
    {
      "cell_type": "code",
      "execution_count": 11,
      "id": "1dc6c9ff",
      "metadata": {
        "colab": {
          "base_uri": "https://localhost:8080/"
        },
        "id": "1dc6c9ff",
        "outputId": "06c71bfd-428a-487d-c6d4-32bd9d9b4081"
      },
      "outputs": [
        {
          "output_type": "execute_result",
          "data": {
            "text/plain": [
              "((17312, 5), (4329, 5))"
            ]
          },
          "metadata": {},
          "execution_count": 11
        }
      ],
      "source": [
        "# Check the data types and shapes of our datasets\n",
        "train.shape, test.shape"
      ]
    },
    {
      "cell_type": "code",
      "execution_count": 12,
      "id": "dc573b78",
      "metadata": {
        "id": "dc573b78"
      },
      "outputs": [],
      "source": [
        "# Before preprocessing our data let's extract the features we need to work with \n",
        "features = train[\"body\"].to_numpy()\n",
        "labels = train[\"topic\"].to_numpy()\n",
        "\n",
        "test_sentences = test[\"body\"].to_numpy()\n",
        "test_labels = test[\"topic\"].to_numpy()"
      ]
    },
    {
      "cell_type": "code",
      "execution_count": 13,
      "id": "14f9e501",
      "metadata": {
        "id": "14f9e501",
        "colab": {
          "base_uri": "https://localhost:8080/"
        },
        "outputId": "c4afbe50-7971-4e34-87a8-e16be857bb3c"
      },
      "outputs": [
        {
          "output_type": "execute_result",
          "data": {
            "text/plain": [
              "(13849, 13849, 3463, 3463)"
            ]
          },
          "metadata": {},
          "execution_count": 13
        }
      ],
      "source": [
        "# Split our data into train and validation_sets\n",
        "train_sentences, val_sentences, train_labels, val_labels = train_test_split(features, labels, test_size=0.2, random_state=42)\n",
        "\n",
        "# Check the length of valid and train datasets\n",
        "len(train_sentences), len(train_labels), len(val_sentences), len(val_labels)"
      ]
    },
    {
      "cell_type": "code",
      "execution_count": 14,
      "id": "2b098f44",
      "metadata": {
        "scrolled": true,
        "id": "2b098f44"
      },
      "outputs": [],
      "source": [
        "# Convert our labels into numbers\n",
        "from sklearn.preprocessing import LabelEncoder\n",
        "enc = LabelEncoder()\n",
        "train_labels_encoded = enc.fit_transform(train_labels)\n",
        "val_labels_encoded = enc.transform(val_labels)\n",
        "test_labels_encoded = enc.transform(test_labels)"
      ]
    },
    {
      "cell_type": "code",
      "execution_count": 15,
      "id": "24381bb3",
      "metadata": {
        "colab": {
          "base_uri": "https://localhost:8080/"
        },
        "id": "24381bb3",
        "outputId": "4b2ffe9f-a82e-4ddf-e16e-fb21acbf4de5"
      },
      "outputs": [
        {
          "output_type": "execute_result",
          "data": {
            "text/plain": [
              "array(['business', 'editorial', 'entertainment', 'nation', 'sports'],\n",
              "      dtype=object)"
            ]
          },
          "metadata": {},
          "execution_count": 15
        }
      ],
      "source": [
        "class_names = np.unique(train_labels)\n",
        "class_names"
      ]
    },
    {
      "cell_type": "markdown",
      "id": "806586ef",
      "metadata": {
        "id": "806586ef"
      },
      "source": [
        "## Becoming one with the data (Inspecting the data)"
      ]
    },
    {
      "cell_type": "code",
      "execution_count": 16,
      "id": "ddddce7f",
      "metadata": {
        "colab": {
          "base_uri": "https://localhost:8080/"
        },
        "id": "ddddce7f",
        "outputId": "96aec0c7-3ecb-49ff-dd6e-b3d9fa1ec072"
      },
      "outputs": [
        {
          "output_type": "execute_result",
          "data": {
            "text/plain": [
              "17312"
            ]
          },
          "metadata": {},
          "execution_count": 16
        }
      ],
      "source": [
        "len(features)"
      ]
    },
    {
      "cell_type": "code",
      "execution_count": 17,
      "id": "92c2a963",
      "metadata": {
        "scrolled": true,
        "colab": {
          "base_uri": "https://localhost:8080/"
        },
        "id": "92c2a963",
        "outputId": "856a5267-8da1-4ff4-bc6a-02470621252a"
      },
      "outputs": [
        {
          "output_type": "stream",
          "name": "stdout",
          "text": [
            "విడాకులు తీసుకున్న హీరోయిన్ కు అవకాశాలు ఏమోస్తాయో అనుకున్న వారంతా ఆమె స్కిన్ షో చూసి తమ అభిప్రాయం మార్చుకుంటున్నారట. రీసెంట్‌గా అందాల ఆరబోతలో మరో మెట్టు పైకి ఎక్కిందట ఆ ముద్దుగుమ్మ. అందాల భామలు హాట్‌గా కనిపిస్తుంటారు. అందులో ఆశ్చర్యపోవాల్సి పని కూడా లేదు. కానీ కొందరు హీరోయిన్లు మోతాదుకు మించి అందాలు ఆరబోస్తే అది స్పెషల్ అట్రాక్షన్‌గా మారుతుంది. రీసెంట్‌గా ఓ మ్యాగజైన్‌కు అమలా పాల్ రెచ్చిపోయి ఫోజులు ఇవ్వడం కూడా చాలామంది దృష్టిని ఆకర్షిస్తోంది. పెళ్లి తరువాత కూడా హీరోయిన్‌గా నటించాలని భావించిన అమలా పాల్... అందుకు తన పెళ్లి బంధం అడ్డురావడంతో భర్త నుంచి విడిపోవడానికి కూడా వెనకాడలేదు. పెళ్ళి పెటాకులు అయిన తర్వాత ఫ్రీ బర్డ్ అయిన ఈ అందాల భామ... ఆ మధ్య వచ్చిన కన్నడ మూవీలో ఫుల్లుగా గ్లామర్ ఒలకబోసిందనే ప్రచారం జరిగింది. సుదీప్ హీరోగా తెరకెక్కిన ఈ సినిమాలో అమలను అందాల ప్రదర్శన కోసమే తీసుకున్నారనే గుసగుసలు కూడా వినిపించాయి. అయితే తనకు కావాల్సింది కూడా అలాంటి అవకాశాలే కావడంతో ఇందుకోసం మరోసారి ఫోటోషూట్‌లో రెచ్చిపోయి స్కిన్ షో చేసింది ఈ మలయాళ భామ. రీసెంట్‌గా జేఎఫ్‌డబ్ల్యూ మ్యాగజైన్ కోసం ఫోటో షూట్‌లో పాల్గొన్న అమలా... ఇందుకోసం అమ్మడు మరింత హాట్‌గా మారిపోయింది. ఇక ఇదే సందర్భంలో తన విడాకుల విషయాన్ని కూడా పరోక్షంగా ప్రస్తావించిందట అమలా పాల్... తాను మంచి జ్ఞాపకాలను మాత్రమే గుర్తు పెట్టుకుంటానని, కొన్ని విషయాలను గతంలోనే వదిలిపెట్టి ముందుకు వెళ్లడానికి ప్రయత్నిస్తుంటానని ఇండైరెక్ట్‌గా తన విడాకుల విషయాన్ని లైట్ తీసుకుందట. చూస్తుంటే ఇక ముందు ముందు అమలా పాల్ నుంచి ఇలాంటి హాట్ ఫోజులు మరిన్ని ఎక్స్ పెక్ట్ చేయొచ్చేమో అనిపిస్తోంది... ఏమంటారు?\n"
          ]
        }
      ],
      "source": [
        "# visuolise random train data and its labels\n",
        "import random \n",
        "random_sentence = random.choice(features)\n",
        "print(random_sentence)"
      ]
    },
    {
      "cell_type": "markdown",
      "id": "42f2f1e1",
      "metadata": {
        "id": "42f2f1e1"
      },
      "source": [
        "### Creating a baseline model\n",
        "\n",
        "This is a model we've to beat\n"
      ]
    },
    {
      "cell_type": "code",
      "execution_count": 18,
      "id": "0275a7b2",
      "metadata": {
        "colab": {
          "base_uri": "https://localhost:8080/"
        },
        "id": "0275a7b2",
        "outputId": "b36974c9-c219-4bb1-fc2a-c80270bc1791"
      },
      "outputs": [
        {
          "output_type": "execute_result",
          "data": {
            "text/plain": [
              "Pipeline(steps=[('tfidf_vectorizer', TfidfVectorizer()),\n",
              "                ('naive_bayes', MultinomialNB())])"
            ]
          },
          "metadata": {},
          "execution_count": 18
        }
      ],
      "source": [
        "# Let's train a naive bayes model using tf-idf-vectorizer\n",
        "\n",
        "from sklearn.pipeline import Pipeline\n",
        "from sklearn.feature_extraction.text import TfidfVectorizer\n",
        "from sklearn.naive_bayes import MultinomialNB\n",
        "\n",
        "baseline_model = Pipeline([\n",
        "    (\"tfidf_vectorizer\", TfidfVectorizer()),\n",
        "    (\"naive_bayes\", MultinomialNB())\n",
        "])\n",
        "\n",
        "baseline_model.fit(train_sentences, train_labels_encoded)"
      ]
    },
    {
      "cell_type": "code",
      "execution_count": 19,
      "id": "8a3b9c05",
      "metadata": {
        "colab": {
          "base_uri": "https://localhost:8080/"
        },
        "id": "8a3b9c05",
        "outputId": "cb03ab13-feb1-48b8-988d-b56bcf5c32f3"
      },
      "outputs": [
        {
          "output_type": "execute_result",
          "data": {
            "text/plain": [
              "0.7403984984117817"
            ]
          },
          "metadata": {},
          "execution_count": 19
        }
      ],
      "source": [
        "# Evaluate the base model \n",
        "baseline_model.score(val_sentences, val_labels_encoded)"
      ]
    },
    {
      "cell_type": "code",
      "execution_count": 20,
      "id": "34b9e86e",
      "metadata": {
        "colab": {
          "base_uri": "https://localhost:8080/"
        },
        "id": "34b9e86e",
        "outputId": "01ee4cab-1d14-4eb0-e925-c88d19062d9f"
      },
      "outputs": [
        {
          "output_type": "execute_result",
          "data": {
            "text/plain": [
              "(array([2, 3, 3, 3, 2, 3, 3, 3, 3, 3]), 3463)"
            ]
          },
          "metadata": {},
          "execution_count": 20
        }
      ],
      "source": [
        "# Making predictions with our model\n",
        "baseline_preds = baseline_model.predict(val_sentences)\n",
        "baseline_preds[:10], len(baseline_preds)"
      ]
    },
    {
      "cell_type": "code",
      "execution_count": 21,
      "id": "19a5fb74",
      "metadata": {
        "colab": {
          "base_uri": "https://localhost:8080/"
        },
        "id": "19a5fb74",
        "outputId": "2fc17bf7-c133-44e7-98a5-faa26940b865"
      },
      "outputs": [
        {
          "output_type": "stream",
          "name": "stderr",
          "text": [
            "/usr/local/lib/python3.7/dist-packages/sklearn/metrics/_classification.py:1318: UndefinedMetricWarning: Precision and F-score are ill-defined and being set to 0.0 in labels with no predicted samples. Use `zero_division` parameter to control this behavior.\n",
            "  _warn_prf(average, modifier, msg_start, len(result))\n"
          ]
        },
        {
          "output_type": "execute_result",
          "data": {
            "text/plain": [
              "{'accuracy': 74.03984984117817,\n",
              " 'f1': 0.7024314343853166,\n",
              " 'precision': 0.766110761383885,\n",
              " 'recall': 0.7403984984117817}"
            ]
          },
          "metadata": {},
          "execution_count": 21
        }
      ],
      "source": [
        "# Get basemodel results\n",
        "baseline_results = calculate_results(val_labels_encoded, baseline_preds)\n",
        "baseline_results"
      ]
    },
    {
      "cell_type": "code",
      "execution_count": 22,
      "id": "dc20c207",
      "metadata": {
        "colab": {
          "base_uri": "https://localhost:8080/"
        },
        "id": "dc20c207",
        "outputId": "e3c6b76e-5c68-4d2c-c8f2-4cadda4ac8d3"
      },
      "outputs": [
        {
          "output_type": "stream",
          "name": "stdout",
          "text": [
            "Text: \n",
            "హైదరాబాద్: అమర్‌నాథ్ యాత్రికులపై ఉగ్రవాదులు జరిపిన పాశవిక దాడిని ఏఐఎంఐఎం నేత అసదుద్దీన్ ఒవైసీ ఖండించారు. పాకిస్థాన్‌పై నిప్పులు చెరిగారు. ఈ దాడి వెనుక పాక్ ఉగ్రవాద గ్రూపులు ఉన్నాయన్నారు. సోమవారం రాత్రి భక్తులు అమర్‌నాథ్ యాత్ర ముగించుకుని బస్సులో వెళ్తుండగా అనంతనాగ్ జిల్లాల్లో ఉగ్రవాదులు కాల్పులతో విరుచుకుపడ్డారు. ఈ ఘటనలో ఆరుగురు మహిళలతో సహా ఏడుగురు ప్రాణాలు కోల్పోయారు. మరో 32 మందికి పైగా గాయపడ్డారు. ఈ ఘటనను ఖండించిన ఒవైసీ...లష్కర్, ఐఎస్ఐల దుష్టపన్నాగాలను సాగనీయమని అన్నారు. దేశం ఐక్యంగా ఉందన్నారు. ఉగ్రవాదుల దాడి అత్యంత హేయమైనదని తూర్పారబట్టారు. కాగా, అమర్‌నాథ్ యాత్రపై 2001లోనూ ఉగ్రవాదాలు దాడి జరిపారు. అమర్‌నాథ్‌ గుహకు సమీపంలోని శేష్‌నాగ్ ఏరియాలో ఉగ్రవాదులు జరిపిన దాడిలో 13 మంది యాత్రికులు మృతిచెందారు. దీనికి ముందు 2000, ఆగస్టు 1న పహల్‌గామ్ ఏరియాలో అమర్‌నాథ్ యాత్రికులపై ఉగ్రవాదాలు జరిపిన కాల్పుల్లో పోర్టర్లతో సహా 30 మంది ప్రాణాలు కోల్పోయారు.\n",
            "\n",
            "Predicted label: nation\n",
            "\n",
            "Original label: nation\n",
            "\n"
          ]
        }
      ],
      "source": [
        "# Visualize predictions\n",
        "visualize_random_preds(baseline_model, baseline_preds)"
      ]
    },
    {
      "cell_type": "markdown",
      "id": "9fd9906e",
      "metadata": {
        "id": "9fd9906e"
      },
      "source": [
        "## Preprocess the data\n",
        "\n",
        "Before going to Neural Networks we need to turn our data into numerical format in which our model can understand\n",
        "\n",
        "* TextVectorization  (Converting our text into numbers)\n",
        "* Embedding layer ( Creating embeddings from the text vectors)"
      ]
    },
    {
      "cell_type": "code",
      "execution_count": 23,
      "id": "550c908d",
      "metadata": {
        "id": "550c908d"
      },
      "outputs": [],
      "source": [
        "from tensorflow.keras.layers import TextVectorization, Embedding"
      ]
    },
    {
      "cell_type": "code",
      "execution_count": 24,
      "id": "bce09605",
      "metadata": {
        "colab": {
          "base_uri": "https://localhost:8080/"
        },
        "id": "bce09605",
        "outputId": "7531ff2a-082c-4489-f782-69780954e7b4"
      },
      "outputs": [
        {
          "output_type": "execute_result",
          "data": {
            "text/plain": [
              "172"
            ]
          },
          "metadata": {},
          "execution_count": 24
        }
      ],
      "source": [
        "# Find average number of tokens (words) in training Tweets\n",
        "round(sum([len(i.split()) for i in train_sentences])/len(train_sentences))"
      ]
    },
    {
      "cell_type": "code",
      "execution_count": 25,
      "id": "82468976",
      "metadata": {
        "id": "82468976"
      },
      "outputs": [],
      "source": [
        "# Instantiating our text vectorization layer with required parameters\n",
        "max_vocab_length = 10000 # Max number of words in our vocabulary\n",
        "max_length = 173 # Output sequence length\n",
        "text_vectorizer = TextVectorization(max_tokens=max_vocab_length,\n",
        "                                   output_sequence_length=max_length)"
      ]
    },
    {
      "cell_type": "code",
      "execution_count": 26,
      "id": "28b1f81f",
      "metadata": {
        "id": "28b1f81f"
      },
      "outputs": [],
      "source": [
        "# Fit the text vectorizer\n",
        "text_vectorizer.adapt(train_sentences)"
      ]
    },
    {
      "cell_type": "code",
      "execution_count": 27,
      "id": "cf4b9b01",
      "metadata": {
        "id": "cf4b9b01"
      },
      "outputs": [],
      "source": [
        "# Test out the text vectorization layer\n",
        "# sample_sentence = \"ఇండియ‌న్ వారెన్ బ‌ఫెట్ రాకేష్ ఝున్‌ఝున్ వాలా ఐటీ ఉద్యోగాల‌పై ఆస‌క్తిక‌ర విష‌యాల్ని వెల్ల‌డించారు.\"\n",
        "# text_vectorizer([sample_sentence]) # The text vectorization layer is working fine"
      ]
    },
    {
      "cell_type": "code",
      "execution_count": 28,
      "id": "0da228ad",
      "metadata": {
        "id": "0da228ad"
      },
      "outputs": [],
      "source": [
        "# Creating embedding layer\n",
        "embedding_1 = Embedding(input_dim=max_vocab_length,\n",
        "                       output_dim=128,\n",
        "                       embeddings_initializer='uniform',\n",
        "                       input_length=max_length,\n",
        "                       name=\"embedding_1\")"
      ]
    },
    {
      "cell_type": "code",
      "execution_count": 29,
      "id": "890d2895",
      "metadata": {
        "id": "890d2895"
      },
      "outputs": [],
      "source": [
        "# Test out the embedding layer\n",
        "# sample_sentence = \"ఇండియ‌న్ వారెన్ బ‌ఫెట్ రాకేష్ ఝున్‌ఝున్ వాలా ఐటీ ఉద్యోగాల‌పై ఆస‌క్తిక‌ర విష‌యాల్ని వెల్ల‌డించారు.\"\n",
        "# sample_embedding = embedding_1(text_vectorizer([sample_sentence]))\n",
        "# sample_embedding"
      ]
    },
    {
      "cell_type": "code",
      "execution_count": 30,
      "id": "869618bd",
      "metadata": {
        "colab": {
          "base_uri": "https://localhost:8080/"
        },
        "id": "869618bd",
        "outputId": "86202409-4fe2-49a3-f0f5-168ec55a55a2"
      },
      "outputs": [
        {
          "output_type": "execute_result",
          "data": {
            "text/plain": [
              "(<PrefetchDataset element_spec=(TensorSpec(shape=(None,), dtype=tf.string, name=None), TensorSpec(shape=(None,), dtype=tf.int64, name=None))>,\n",
              " <PrefetchDataset element_spec=(TensorSpec(shape=(None,), dtype=tf.string, name=None), TensorSpec(shape=(None,), dtype=tf.int64, name=None))>,\n",
              " <PrefetchDataset element_spec=(TensorSpec(shape=(None,), dtype=tf.string, name=None), TensorSpec(shape=(None,), dtype=tf.int64, name=None))>)"
            ]
          },
          "metadata": {},
          "execution_count": 30
        }
      ],
      "source": [
        "# turn our data into tensorflow datasets\n",
        "train_sentences_dataset = tf.data.Dataset.from_tensor_slices(train_sentences)\n",
        "train_labels_encoded_dataset = tf.data.Dataset.from_tensor_slices(train_labels_encoded)\n",
        "train_data = tf.data.Dataset.zip((train_sentences_dataset, train_labels_encoded_dataset)).batch(32).prefetch(tf.data.AUTOTUNE)\n",
        "\n",
        "val_sentences_dataset = tf.data.Dataset.from_tensor_slices(val_sentences)\n",
        "val_labels_encoded_dataset = tf.data.Dataset.from_tensor_slices(val_labels_encoded)\n",
        "val_data = tf.data.Dataset.zip((val_sentences_dataset, val_labels_encoded_dataset)).batch(32).prefetch(tf.data.AUTOTUNE)\n",
        "\n",
        "test_sentences_dataset = tf.data.Dataset.from_tensor_slices(test_sentences)\n",
        "test_labels_encoded_dataset = tf.data.Dataset.from_tensor_slices(test_labels_encoded)\n",
        "test_data = tf.data.Dataset.zip((test_sentences_dataset, test_labels_encoded_dataset)).batch(32).prefetch(tf.data.AUTOTUNE)\n",
        "\n",
        "train_data, val_data, test_data"
      ]
    },
    {
      "cell_type": "markdown",
      "id": "e0e764cf",
      "metadata": {
        "id": "e0e764cf"
      },
      "source": [
        "## Let's build some models\n",
        "We've converted our text into numbers.\n",
        "Now let's build some models\n",
        "* Dense model\n",
        "* LSTM\n",
        "* GRU\n",
        "* Bidirectional LSTM\n",
        "* 1D Conv network\n",
        "* Transfer Learning"
      ]
    },
    {
      "cell_type": "markdown",
      "id": "3f7d7bec",
      "metadata": {
        "id": "3f7d7bec"
      },
      "source": [
        "### Dense model"
      ]
    },
    {
      "cell_type": "code",
      "execution_count": 31,
      "id": "fe4f5cbf",
      "metadata": {
        "id": "fe4f5cbf"
      },
      "outputs": [],
      "source": [
        "from tensorflow.keras.models import Sequential, Model\n",
        "from tensorflow.keras.layers import Dense, LSTM, GRU, Conv1D, Bidirectional, Input, GlobalAveragePooling1D, GlobalMaxPooling1D"
      ]
    },
    {
      "cell_type": "code",
      "execution_count": 32,
      "id": "26e6ef01",
      "metadata": {
        "id": "26e6ef01"
      },
      "outputs": [],
      "source": [
        "# Create dense model with Functinal API\n",
        "inputs = Input(shape=(1,), dtype=\"string\", name=\"input_layer\")\n",
        "x = text_vectorizer(inputs)\n",
        "x = embedding_1(x)\n",
        "x = GlobalAveragePooling1D(name='global_pooling_layer')(x)\n",
        "outputs = Dense(5, activation=\"softmax\", name=\"output_layer\")(x)\n",
        "\n",
        "model_1 = Model(inputs, outputs, name=\"dense_model\")"
      ]
    },
    {
      "cell_type": "code",
      "execution_count": 33,
      "id": "d42b229f",
      "metadata": {
        "colab": {
          "base_uri": "https://localhost:8080/"
        },
        "id": "d42b229f",
        "outputId": "49f8822a-21a8-4b0f-8c7f-4b86994c320f"
      },
      "outputs": [
        {
          "output_type": "stream",
          "name": "stdout",
          "text": [
            "Model: \"dense_model\"\n",
            "_________________________________________________________________\n",
            " Layer (type)                Output Shape              Param #   \n",
            "=================================================================\n",
            " input_layer (InputLayer)    [(None, 1)]               0         \n",
            "                                                                 \n",
            " text_vectorization (TextVec  (None, 173)              0         \n",
            " torization)                                                     \n",
            "                                                                 \n",
            " embedding_1 (Embedding)     (None, 173, 128)          1280000   \n",
            "                                                                 \n",
            " global_pooling_layer (Globa  (None, 128)              0         \n",
            " lAveragePooling1D)                                              \n",
            "                                                                 \n",
            " output_layer (Dense)        (None, 5)                 645       \n",
            "                                                                 \n",
            "=================================================================\n",
            "Total params: 1,280,645\n",
            "Trainable params: 1,280,645\n",
            "Non-trainable params: 0\n",
            "_________________________________________________________________\n"
          ]
        }
      ],
      "source": [
        "# Check the summary of the model\n",
        "model_1.summary()"
      ]
    },
    {
      "cell_type": "code",
      "execution_count": 34,
      "id": "4b5b9502",
      "metadata": {
        "id": "4b5b9502"
      },
      "outputs": [],
      "source": [
        "# Compile the model\n",
        "model_1.compile(loss=\"sparse_categorical_crossentropy\",\n",
        "               optimizer='adam',\n",
        "               metrics=[\"accuracy\"])"
      ]
    },
    {
      "cell_type": "code",
      "execution_count": 35,
      "id": "58987671",
      "metadata": {
        "id": "58987671"
      },
      "outputs": [],
      "source": [
        "# Create callbacks\n",
        "early_stopping = tf.keras.callbacks.EarlyStopping(patience=5,\n",
        "                                                 restore_best_weights=True,\n",
        "                                                 monitor=\"val_accuracy\")"
      ]
    },
    {
      "cell_type": "code",
      "execution_count": 36,
      "id": "8e32310a",
      "metadata": {
        "colab": {
          "base_uri": "https://localhost:8080/"
        },
        "id": "8e32310a",
        "outputId": "dd97eb1c-382d-4d7f-a8b9-c9c852f8538b"
      },
      "outputs": [
        {
          "output_type": "stream",
          "name": "stdout",
          "text": [
            "Saving TensorBoard log files to: model_logs/dense_model/20220219-133216\n",
            "Epoch 1/10\n",
            "433/433 [==============================] - 8s 12ms/step - loss: 1.0697 - accuracy: 0.6338 - val_loss: 0.6355 - val_accuracy: 0.8031\n",
            "Epoch 2/10\n",
            "433/433 [==============================] - 5s 12ms/step - loss: 0.4397 - accuracy: 0.8841 - val_loss: 0.3568 - val_accuracy: 0.8929\n",
            "Epoch 3/10\n",
            "433/433 [==============================] - 8s 18ms/step - loss: 0.2640 - accuracy: 0.9307 - val_loss: 0.2702 - val_accuracy: 0.9116\n",
            "Epoch 4/10\n",
            "433/433 [==============================] - 5s 12ms/step - loss: 0.1879 - accuracy: 0.9508 - val_loss: 0.2282 - val_accuracy: 0.9261\n",
            "Epoch 5/10\n",
            "433/433 [==============================] - 6s 14ms/step - loss: 0.1424 - accuracy: 0.9636 - val_loss: 0.2042 - val_accuracy: 0.9339\n",
            "Epoch 6/10\n",
            "433/433 [==============================] - 5s 12ms/step - loss: 0.1116 - accuracy: 0.9737 - val_loss: 0.1898 - val_accuracy: 0.9396\n",
            "Epoch 7/10\n",
            "433/433 [==============================] - 7s 16ms/step - loss: 0.0892 - accuracy: 0.9795 - val_loss: 0.1811 - val_accuracy: 0.9417\n",
            "Epoch 8/10\n",
            "433/433 [==============================] - 8s 19ms/step - loss: 0.0723 - accuracy: 0.9838 - val_loss: 0.1761 - val_accuracy: 0.9446\n",
            "Epoch 9/10\n",
            "433/433 [==============================] - 8s 18ms/step - loss: 0.0593 - accuracy: 0.9866 - val_loss: 0.1738 - val_accuracy: 0.9428\n",
            "Epoch 10/10\n",
            "433/433 [==============================] - 8s 17ms/step - loss: 0.0490 - accuracy: 0.9897 - val_loss: 0.1735 - val_accuracy: 0.9428\n"
          ]
        }
      ],
      "source": [
        "# Fit the model\n",
        "dense_model_history = model_1.fit(train_data,\n",
        "                                 epochs=10,\n",
        "                                 steps_per_epoch=len(train_data),\n",
        "                                 validation_data=val_data,\n",
        "                                 validation_steps=len(val_data),\n",
        "                                 callbacks=[create_tensorboard_callback(SAVE_DIR, model_1.name)])"
      ]
    },
    {
      "cell_type": "code",
      "execution_count": 63,
      "id": "64304742",
      "metadata": {
        "colab": {
          "base_uri": "https://localhost:8080/"
        },
        "id": "64304742",
        "outputId": "4b9011db-e720-4adc-995f-04d1c5d5d44d"
      },
      "outputs": [
        {
          "output_type": "stream",
          "name": "stdout",
          "text": [
            "136/136 [==============================] - 1s 10ms/step - loss: 0.2770 - accuracy: 0.9023\n"
          ]
        },
        {
          "output_type": "execute_result",
          "data": {
            "text/plain": [
              "[0.27703845500946045, 0.9022868871688843]"
            ]
          },
          "metadata": {},
          "execution_count": 63
        }
      ],
      "source": [
        "# calculate results\n",
        "dense_results = model_1.evaluate(test_data)\n",
        "dense_results"
      ]
    },
    {
      "cell_type": "code",
      "execution_count": 39,
      "id": "e3a5f260",
      "metadata": {
        "scrolled": true,
        "colab": {
          "base_uri": "https://localhost:8080/"
        },
        "id": "e3a5f260",
        "outputId": "6494432b-e416-4b84-b855-4428cc71ee9f"
      },
      "outputs": [
        {
          "output_type": "stream",
          "name": "stdout",
          "text": [
            "Text: \n",
            "హైదరాబాద్‌ (ఆంధ్రజ్యోతి): యుఎస్‌ఐఎస్‌సి ఫోరం ప్రతినిధులు తెలంగాణ రాష్ట్ర ఐటి, పరిశ్రమల శాఖ  మంత్రి కె తారక రామారావుతో సమావేశమయ్యారు. నవంబరులో జరగనున్న ప్రపంచ ఔత్సాహిక పారిశ్రామికవేత్తల సదస్సుపై ఈ భేటీలో చర్చించారు.  అమెరికా-భారత్‌ సంయుక్తంగా తొలిసారిగా ఈ సదస్సును నిర్వహించనున్నాయి.  ఈ సదస్సుకి ప్రధాన మంత్రి నరేంద్ర మోదీతో పాటు అమెరికా అధ్యక్షుడు డొనాల్డ్‌ ట్రంప్‌ కుమార్తె  ఇవాంకా హాజరుకానున్నారు. ఈ నేపఽథ్యంలో సదస్సు నిర్వహణపై ఫోరం అధ్యక్షుడు ముకే్‌షతో పాటు పలువురు ప్రతినిధులు మంత్రితో సమావేశమయ్యారు.\n",
            "\n",
            "Predicted label: business\n",
            "\n",
            "Original label: business\n",
            "\n"
          ]
        }
      ],
      "source": [
        "# Visualise predictons\n",
        "visualize_random_preds(model_1, model_1_preds)"
      ]
    },
    {
      "cell_type": "markdown",
      "id": "41d437bb",
      "metadata": {
        "id": "41d437bb"
      },
      "source": [
        "### LSTM model"
      ]
    },
    {
      "cell_type": "code",
      "execution_count": 45,
      "id": "bce036ed",
      "metadata": {
        "colab": {
          "base_uri": "https://localhost:8080/"
        },
        "id": "bce036ed",
        "outputId": "b468afde-933d-467a-b57d-ded0cdb9b837"
      },
      "outputs": [
        {
          "output_type": "stream",
          "name": "stdout",
          "text": [
            "Saving TensorBoard log files to: model_logs/lstm_model/20220219-134350\n",
            "Epoch 1/10\n",
            "433/433 [==============================] - 23s 48ms/step - loss: 1.3655 - accuracy: 0.4058 - val_loss: 1.3029 - val_accuracy: 0.4369\n",
            "Epoch 2/10\n",
            "433/433 [==============================] - 19s 45ms/step - loss: 1.1429 - accuracy: 0.5174 - val_loss: 1.5652 - val_accuracy: 0.3921\n",
            "Epoch 3/10\n",
            "433/433 [==============================] - 20s 45ms/step - loss: 1.1706 - accuracy: 0.5033 - val_loss: 1.0904 - val_accuracy: 0.5316\n",
            "Epoch 4/10\n",
            "433/433 [==============================] - 19s 45ms/step - loss: 1.2285 - accuracy: 0.4755 - val_loss: 1.1685 - val_accuracy: 0.4895\n",
            "Epoch 5/10\n",
            "433/433 [==============================] - 19s 44ms/step - loss: 0.8922 - accuracy: 0.6482 - val_loss: 0.9721 - val_accuracy: 0.5585\n",
            "Epoch 6/10\n",
            "433/433 [==============================] - 20s 45ms/step - loss: 0.8256 - accuracy: 0.6514 - val_loss: 0.7751 - val_accuracy: 0.6904\n",
            "Epoch 7/10\n",
            "433/433 [==============================] - 19s 44ms/step - loss: 0.5924 - accuracy: 0.7897 - val_loss: 0.6606 - val_accuracy: 0.7499\n",
            "Epoch 8/10\n",
            "433/433 [==============================] - 19s 44ms/step - loss: 0.4693 - accuracy: 0.8595 - val_loss: 0.5814 - val_accuracy: 0.8236\n",
            "Epoch 9/10\n",
            "433/433 [==============================] - 19s 44ms/step - loss: 0.4137 - accuracy: 0.8881 - val_loss: 0.6256 - val_accuracy: 0.8146\n",
            "Epoch 10/10\n",
            "433/433 [==============================] - 19s 44ms/step - loss: 0.8652 - accuracy: 0.6895 - val_loss: 1.2282 - val_accuracy: 0.4999\n"
          ]
        }
      ],
      "source": [
        "# Recreate another embedding layer\n",
        "embedding_2 = Embedding(input_dim=max_vocab_length,\n",
        "                       output_dim=128,\n",
        "                        input_length=max_length,\n",
        "                       name=\"embedding_2\")\n",
        "\n",
        "# Create LSTM model with functional API\n",
        "inputs = Input(shape=(1,), dtype=\"string\", name=\"input_layer\")\n",
        "x = text_vectorizer(inputs)\n",
        "x = embedding_2(x)\n",
        "# x = LSTM(64, return_sequences=True)(x)\n",
        "x = LSTM(64)(x)\n",
        "outputs = Dense(5, activation=\"softmax\", name=\"output_layer\")(x)\n",
        "\n",
        "model_2 = Model(inputs, outputs, name=\"lstm_model\")\n",
        "\n",
        "# Compile the model\n",
        "model_2.compile(loss=\"sparse_categorical_crossentropy\",\n",
        "               optimizer='adam',\n",
        "               metrics=[\"accuracy\"])\n",
        "\n",
        "\n",
        "# Fit the model\n",
        "lstm_model_history = model_2.fit(train_data,\n",
        "                                 epochs=10,\n",
        "                                 steps_per_epoch=len(train_data),\n",
        "                                 validation_data=val_data,\n",
        "                                 validation_steps=len(val_data),\n",
        "                                 callbacks=[create_tensorboard_callback(SAVE_DIR, model_2.name)])"
      ]
    },
    {
      "cell_type": "code",
      "execution_count": 46,
      "id": "b559e809",
      "metadata": {
        "colab": {
          "base_uri": "https://localhost:8080/"
        },
        "id": "b559e809",
        "outputId": "18fbc4b2-edd8-4148-90af-030125e41bce"
      },
      "outputs": [
        {
          "output_type": "execute_result",
          "data": {
            "text/plain": [
              "{'accuracy': 49.98556165174704,\n",
              " 'f1': 0.445103750336797,\n",
              " 'precision': 0.6565135544381686,\n",
              " 'recall': 0.4998556165174704}"
            ]
          },
          "metadata": {},
          "execution_count": 46
        }
      ],
      "source": [
        "# Calculate results\n",
        "lstm_results = calculate_results(val_labels_encoded, make_preds(model_2))\n",
        "lstm_results"
      ]
    },
    {
      "cell_type": "code",
      "source": [
        "# Evaluate on test data\n",
        "model_2.evaluate(test_data)"
      ],
      "metadata": {
        "colab": {
          "base_uri": "https://localhost:8080/"
        },
        "id": "r0AHNDclViO0",
        "outputId": "c77c5c60-468e-4dd1-bfa6-a91b2142f961"
      },
      "id": "r0AHNDclViO0",
      "execution_count": 64,
      "outputs": [
        {
          "output_type": "stream",
          "name": "stdout",
          "text": [
            "136/136 [==============================] - 3s 21ms/step - loss: 1.2455 - accuracy: 0.5040\n"
          ]
        },
        {
          "output_type": "execute_result",
          "data": {
            "text/plain": [
              "[1.2455335855484009, 0.5040425062179565]"
            ]
          },
          "metadata": {},
          "execution_count": 64
        }
      ]
    },
    {
      "cell_type": "markdown",
      "source": [
        "### GRU model"
      ],
      "metadata": {
        "id": "szB3CaSdNfDE"
      },
      "id": "szB3CaSdNfDE"
    },
    {
      "cell_type": "code",
      "execution_count": 47,
      "id": "c41e1841",
      "metadata": {
        "colab": {
          "base_uri": "https://localhost:8080/"
        },
        "id": "c41e1841",
        "outputId": "6cf210b0-9e97-4005-e0f1-f0dfc4a365b3"
      },
      "outputs": [
        {
          "output_type": "stream",
          "name": "stdout",
          "text": [
            "Saving TensorBoard log files to: model_logs/gru_model/20220219-134736\n",
            "Epoch 1/10\n",
            "433/433 [==============================] - 22s 46ms/step - loss: 1.3840 - accuracy: 0.3988 - val_loss: 1.2557 - val_accuracy: 0.4531\n",
            "Epoch 2/10\n",
            "433/433 [==============================] - 19s 45ms/step - loss: 0.4823 - accuracy: 0.8358 - val_loss: 0.2314 - val_accuracy: 0.9327\n",
            "Epoch 3/10\n",
            "433/433 [==============================] - 19s 45ms/step - loss: 0.1192 - accuracy: 0.9655 - val_loss: 0.2130 - val_accuracy: 0.9353\n",
            "Epoch 4/10\n",
            "433/433 [==============================] - 19s 44ms/step - loss: 0.0527 - accuracy: 0.9853 - val_loss: 0.2512 - val_accuracy: 0.9307\n",
            "Epoch 5/10\n",
            "433/433 [==============================] - 19s 45ms/step - loss: 0.0273 - accuracy: 0.9934 - val_loss: 0.2572 - val_accuracy: 0.9373\n",
            "Epoch 6/10\n",
            "433/433 [==============================] - 20s 45ms/step - loss: 0.0153 - accuracy: 0.9960 - val_loss: 0.2853 - val_accuracy: 0.9353\n",
            "Epoch 7/10\n",
            "433/433 [==============================] - 20s 45ms/step - loss: 0.0094 - accuracy: 0.9973 - val_loss: 0.2958 - val_accuracy: 0.9344\n",
            "Epoch 8/10\n",
            "433/433 [==============================] - 19s 45ms/step - loss: 0.0069 - accuracy: 0.9981 - val_loss: 0.3269 - val_accuracy: 0.9344\n",
            "Epoch 9/10\n",
            "433/433 [==============================] - 19s 45ms/step - loss: 0.0045 - accuracy: 0.9987 - val_loss: 0.3603 - val_accuracy: 0.9336\n",
            "Epoch 10/10\n",
            "433/433 [==============================] - 19s 45ms/step - loss: 0.0060 - accuracy: 0.9981 - val_loss: 0.3713 - val_accuracy: 0.9295\n"
          ]
        }
      ],
      "source": [
        "# Recreate another embedding layer\n",
        "embedding_3 = Embedding(input_dim=max_vocab_length,\n",
        "                       output_dim=128,\n",
        "                        input_length=max_length,\n",
        "                       name=\"embedding_3\")\n",
        "\n",
        "# Create LSTM model with functional API\n",
        "inputs = Input(shape=(1,), dtype=\"string\", name=\"input_layer\")\n",
        "x = text_vectorizer(inputs)\n",
        "x = embedding_3(x)\n",
        "x = GRU(64)(x)\n",
        "outputs = Dense(5, activation=\"softmax\", name=\"output_layer\")(x)\n",
        "\n",
        "model_3 = Model(inputs, outputs, name=\"gru_model\")\n",
        "\n",
        "# Compile the model\n",
        "model_3.compile(loss=\"sparse_categorical_crossentropy\",\n",
        "               optimizer='adam',\n",
        "               metrics=[\"accuracy\"])\n",
        "\n",
        "\n",
        "# Fit the model\n",
        "gru_model_history = model_3.fit(train_data,\n",
        "                                 epochs=10,\n",
        "                                 steps_per_epoch=len(train_data),\n",
        "                                 validation_data=val_data,\n",
        "                                 validation_steps=len(val_data),\n",
        "                                 callbacks=[create_tensorboard_callback(SAVE_DIR, model_3.name)])"
      ]
    },
    {
      "cell_type": "code",
      "source": [
        "# Calculate gru results\n",
        "gru_results = calculate_results(val_labels_encoded, make_preds(model_3))\n",
        "gru_results"
      ],
      "metadata": {
        "colab": {
          "base_uri": "https://localhost:8080/"
        },
        "id": "E04FqTJTLypF",
        "outputId": "2042841c-354a-4a8c-f3d1-9a231d314477"
      },
      "id": "E04FqTJTLypF",
      "execution_count": 48,
      "outputs": [
        {
          "output_type": "execute_result",
          "data": {
            "text/plain": [
              "{'accuracy': 92.95408605255558,\n",
              " 'f1': 0.9284437658857343,\n",
              " 'precision': 0.93052369447302,\n",
              " 'recall': 0.9295408605255558}"
            ]
          },
          "metadata": {},
          "execution_count": 48
        }
      ]
    },
    {
      "cell_type": "code",
      "source": [
        "model_3.evaluate(test_data)"
      ],
      "metadata": {
        "colab": {
          "base_uri": "https://localhost:8080/"
        },
        "id": "Gz16ecqyVqsJ",
        "outputId": "da58d912-f45d-48d3-bdc2-47e9914b56ab"
      },
      "id": "Gz16ecqyVqsJ",
      "execution_count": 65,
      "outputs": [
        {
          "output_type": "stream",
          "name": "stdout",
          "text": [
            "136/136 [==============================] - 3s 22ms/step - loss: 0.3208 - accuracy: 0.9369\n"
          ]
        },
        {
          "output_type": "execute_result",
          "data": {
            "text/plain": [
              "[0.3208496868610382, 0.9369369149208069]"
            ]
          },
          "metadata": {},
          "execution_count": 65
        }
      ]
    },
    {
      "cell_type": "markdown",
      "source": [
        "### Bidirectional model\n"
      ],
      "metadata": {
        "id": "_cVyXwoWNiWq"
      },
      "id": "_cVyXwoWNiWq"
    },
    {
      "cell_type": "code",
      "source": [
        "# Recreate another embedding layer\n",
        "embedding_4 = Embedding(input_dim=max_vocab_length,\n",
        "                       output_dim=128,\n",
        "                        input_length=max_length,\n",
        "                       name=\"embedding_4\")\n",
        "\n",
        "# Create LSTM model with functional API\n",
        "inputs = Input(shape=(1,), dtype=\"string\", name=\"input_layer\")\n",
        "x = text_vectorizer(inputs)\n",
        "x = embedding_4(x)\n",
        "x = Bidirectional(GRU(64))(x)\n",
        "outputs = Dense(5, activation=\"softmax\", name=\"output_layer\")(x)\n",
        "\n",
        "model_4 = Model(inputs, outputs, name=\"bidirectional_model\")\n",
        "\n",
        "# Compile the model\n",
        "model_4.compile(loss=\"sparse_categorical_crossentropy\",\n",
        "               optimizer='adam',\n",
        "               metrics=[\"accuracy\"])\n",
        "\n",
        "\n",
        "# Fit the model\n",
        "bidirectional_model_history = model_4.fit(train_data,\n",
        "                                 epochs=10,\n",
        "                                 steps_per_epoch=len(train_data),\n",
        "                                 validation_data=val_data,\n",
        "                                 validation_steps=len(val_data),\n",
        "                                 callbacks=[create_tensorboard_callback(SAVE_DIR, model_3.name)])"
      ],
      "metadata": {
        "colab": {
          "base_uri": "https://localhost:8080/"
        },
        "id": "lNaAiOTiNkEa",
        "outputId": "1633fe00-d7f5-4326-e3ac-eaa933cca2c7"
      },
      "id": "lNaAiOTiNkEa",
      "execution_count": 49,
      "outputs": [
        {
          "output_type": "stream",
          "name": "stdout",
          "text": [
            "Saving TensorBoard log files to: model_logs/gru_model/20220219-135508\n",
            "Epoch 1/10\n",
            "433/433 [==============================] - 43s 84ms/step - loss: 0.5704 - accuracy: 0.7873 - val_loss: 0.2645 - val_accuracy: 0.9062\n",
            "Epoch 2/10\n",
            "433/433 [==============================] - 35s 82ms/step - loss: 0.1426 - accuracy: 0.9546 - val_loss: 0.2455 - val_accuracy: 0.9252\n",
            "Epoch 3/10\n",
            "433/433 [==============================] - 35s 81ms/step - loss: 0.0596 - accuracy: 0.9831 - val_loss: 0.2880 - val_accuracy: 0.9249\n",
            "Epoch 4/10\n",
            "433/433 [==============================] - 35s 82ms/step - loss: 0.0292 - accuracy: 0.9926 - val_loss: 0.2786 - val_accuracy: 0.9275\n",
            "Epoch 5/10\n",
            "433/433 [==============================] - 35s 82ms/step - loss: 0.0137 - accuracy: 0.9962 - val_loss: 0.3253 - val_accuracy: 0.9252\n",
            "Epoch 6/10\n",
            "433/433 [==============================] - 35s 81ms/step - loss: 0.0095 - accuracy: 0.9973 - val_loss: 0.3956 - val_accuracy: 0.9180\n",
            "Epoch 7/10\n",
            "433/433 [==============================] - 35s 82ms/step - loss: 0.0090 - accuracy: 0.9972 - val_loss: 0.4094 - val_accuracy: 0.9189\n",
            "Epoch 8/10\n",
            "433/433 [==============================] - 37s 87ms/step - loss: 0.0055 - accuracy: 0.9988 - val_loss: 0.3682 - val_accuracy: 0.9264\n",
            "Epoch 9/10\n",
            "433/433 [==============================] - 35s 81ms/step - loss: 0.0038 - accuracy: 0.9989 - val_loss: 0.3762 - val_accuracy: 0.9261\n",
            "Epoch 10/10\n",
            "433/433 [==============================] - 35s 81ms/step - loss: 0.0030 - accuracy: 0.9988 - val_loss: 0.4033 - val_accuracy: 0.9226\n"
          ]
        }
      ]
    },
    {
      "cell_type": "code",
      "source": [
        "# Calculate bidirectional results\n",
        "bidirectional_results = calculate_results(val_labels_encoded, make_preds(model_4))\n",
        "bidirectional_results"
      ],
      "metadata": {
        "colab": {
          "base_uri": "https://localhost:8080/"
        },
        "id": "kuVxUV5FQ8yi",
        "outputId": "e80c524a-4211-4be6-fda8-07d9f7231508"
      },
      "id": "kuVxUV5FQ8yi",
      "execution_count": 50,
      "outputs": [
        {
          "output_type": "execute_result",
          "data": {
            "text/plain": [
              "{'accuracy': 92.26104533641352,\n",
              " 'f1': 0.9206923918858719,\n",
              " 'precision': 0.9215861155976968,\n",
              " 'recall': 0.9226104533641352}"
            ]
          },
          "metadata": {},
          "execution_count": 50
        }
      ]
    },
    {
      "cell_type": "code",
      "source": [
        "model_4.evaluate(test_data)"
      ],
      "metadata": {
        "colab": {
          "base_uri": "https://localhost:8080/"
        },
        "id": "g8kC975_StQn",
        "outputId": "ac558498-a141-4a37-adb2-7bb90124a194"
      },
      "id": "g8kC975_StQn",
      "execution_count": 66,
      "outputs": [
        {
          "output_type": "stream",
          "name": "stdout",
          "text": [
            "136/136 [==============================] - 5s 34ms/step - loss: 0.4021 - accuracy: 0.9282\n"
          ]
        },
        {
          "output_type": "execute_result",
          "data": {
            "text/plain": [
              "[0.4020584523677826, 0.9281589388847351]"
            ]
          },
          "metadata": {},
          "execution_count": 66
        }
      ]
    },
    {
      "cell_type": "code",
      "source": [
        "# Visualise model predictions\n",
        "visualize_random_preds(model_3)"
      ],
      "metadata": {
        "colab": {
          "base_uri": "https://localhost:8080/"
        },
        "id": "w3y9wUBvUrRS",
        "outputId": "ae67c335-cf8b-4fb4-becd-a1063351ff98"
      },
      "id": "w3y9wUBvUrRS",
      "execution_count": 70,
      "outputs": [
        {
          "output_type": "stream",
          "name": "stdout",
          "text": [
            "Text: \n",
            "ఆర్ట్‌ ఆఫ్‌ లివింగ్‌ నుంచి అనుమానాస్పద యోగా!ప్రజ్ఞా యోగ పేరిట ‘అతీంద్రియ’ ప్రచారంగంతలు కట్టినా పిల్లలు చదువుతారట!గోడకు అవతల ఏముందో చెబుతారట!భవిష్యత్తునూ ఊహించే శక్తి వస్తుంది!నాలుగు గంటల శిక్షణకు 10 వేల ఫీజుఇదంతా ‘ట్రిక్‌’ అంటున్న మెజీషియన్లుయోగా... మనసుకు ప్రశాంతతను ఇస్తుంది. శరీరానికి ఆరోగ్యాన్ని కూడా ఇస్తుంది. ఇది అందరికీ తెలిసిన విషయం. అందుకే ప్రపంచమంతా నేడు యోగ ముద్ర వేస్తోంది. మరి... ఇదే యోగాలోని ఒక ప్రక్రియ వల్ల ‘భవిష్యత్తును ఊహించగలిగే’ శక్తి వస్తుందా? పరీక్షల్లో రాబోయే ప్రశ్నలు ముందే తెలిసిపోతాయా? కళ్లకు గంతలు కట్టినా, కనపడకున్నా చదివేస్తారా? నాస్తికుల సంగతి పక్కనపెడితే... హేతుబద్ధంగా ఆలోచించే వారెవరూ ఈ ప్రశ్నలకు ‘ఔను’ అని సమాధానం చెప్పరు. ‘ప్రజ్ఞా యోగ’ అనే ప్రక్రియతో పిల్లలకు ఇలాంటి అద్భుత శక్తులు వస్తాయట! వాళ్లూ వీళ్లూ... ఊరూపేరు లేని వాళ్లు కాదు! పద్మ విభూషణ్‌, ప్రపంచ ప్రఖ్యాతి గాంచిన ఆధ్యాత్మిక వేత్త శ్రీశ్రీ రవిశంకర్‌  గురూజీ ఆధ్వర్యంలో నడుస్తున్న ఆర్ట్‌ ఆఫ్‌ లివింగ్‌ స్వయంగా చెబుతున్న మాట ఇది! ‘ప్రజ్ఞా యోగ’ పేరిట ఇప్పుడు భారీ స్థాయి ప్రచారం జరుగుతోంది. గురూజీ నిజంగా  ఏం చెప్పారో తెలియదుకానీ... కిందిస్థాయి ప్రచారకులు మాత్రం ‘ప్రజ్ఞా యోగ సాధనతో గోడ అవతల ఏముందో కూడా చెప్పే శక్తి మీ పిల్లలకు వస్తుంది’ అని తల్లిదండ్రులకు చెబుతున్నారు. పెద్దసంఖ్యలో పిల్లలను శిబిరాల్లో చేర్చుకుంటున్నారు. రోజుకు రెండుగంటల చొప్పున  రెండు రోజులపాటు జరిగే ‘ప్రజ్ఞా యోగ’ శిక్షణ ఫీజు... అక్షరాలా పదివేల రూపాయలు. ఇలా మొదలవుతుంది...ఆర్ట్‌ ఆఫ్‌ లివింగ్‌కు ఆధ్యాత్మిక సంస్థగా అంతర్జాతీయ స్థాయిలో పేరు ఉంది. యోగా సాధనతో ఆత్మ విశ్వాసం పెరుగుతుందని, సత్వరం సరైన నిర్ణయాలు తీసుకునే శక్తి  వస్తుందని చెప్పవచ్చు. అది నిజమని కూడా నమ్మవచ్చు. కానీ... ‘ప్రజ్ఞా యోగ’లో ఇంతకు మించి జరుగుతుందని నమ్మబలుకుతున్నారు. వివిధ మార్గాల ద్వారా ఫోన్‌ నెంబర్లు తీసుకుని తల్లిదండ్రులను సంప్రదిస్తారు. కొంచెం ఆసక్తి ప్రదర్శించగానే టైమ్‌ తీసుకుని నేరుగా ఇంటికి వచ్చేస్తారు. ప్రజ్ఞా యోగ గురించి వివరిస్తారు. ‘‘పరీక్షల్లో మార్కుల కోసం అందరూ చదువుతారు. కానీ, పరీక్ష పత్రంలో ఎలాంటి ప్రశ్నలు వస్తాయో ముందే తెలిస్తే... మీరే నెంబర్‌ వన్‌ అవుతారు.  ప్రజ్ఞా యోగ సాధనతో మీ పిల్లలకు ఆ శక్తి వస్తుంది. అంతేకాదు... భవిష్యత్తును కూడా మీ పిల్లలు ఊహించగలుగుతారు’’ అని చెబుతున్నారు. వీటన్నింటినీ పక్కన పెడితే... ‘మీ పిల్లల కళ్లకు గంతలు కట్టినా చదివే శక్తి వస్తుంది’ అని కూడా ప్రచారకులు చెబుతారు. ‘అదెలా సాధ్యం?’ అని ప్రశ్నిస్తే... అప్పటికప్పుడు వీడియోలు చూపిస్తారు. ఆ వీడియోల్లో... కళ్లకు గంతలు కట్టుకున్న పిల్లలు అక్షరాలను, రంగులను, బొమ్మలను గుర్తిస్తున్న చిత్రాలను చూసి తల్లిదండ్రులు అబ్బురపడతారు. తమ పిల్లలకూ ఇలాంటి అద్భుత శక్తులు వస్తే ఎంత బాగుంటుంది? అని అనుకుంటారు. ఆర్ట్‌ ఆఫ్‌ లివింగ్‌కు ఉన్న పేరు దృష్ట్యా... బాగా చదువుకున్న వారు, హేతుబద్ధంగా ఆలోచిస్తున్న వారు కూడా దీనిని నమ్ముతున్నారు. అప్పటికప్పుడు పదివేలు కట్టేసి... పిల్లలను యోగ కోర్సులో చేర్పిస్తున్నారు. అనుమానాస్పదం...అప్పటికప్పుడు శిక్షకులు చెప్పింది నమ్మి, పదివేలు కట్టి పిల్లలకు ప్రజ్ఞా యోగ శిక్షణ ఇప్పించిన కొందరి మెదళ్లను...  ‘కనిపించనంత గట్టిగా కళ్లకు గంతలు కడితే చూడటం, రంగులు గుర్తుపట్టడం ఎలా సాధ్యం?’ అనే ప్రశ్న తొలిచింది. ఇలాంటివి ఇంద్రజాలికులు చేస్తారు. అయితే... ఇది ట్రిక్‌, మ్యాజిక్‌ అని వారు బహిరంగంగానే చెబుతారు. మరి... ఆర్ట్‌ ఆఫ్‌ లివింగ్‌ చెబుతున్న టెక్నిక్‌లు మరే రూపంలోనైనా ఉన్నాయా? అని ఇంటర్నెట్‌లో శోధించారు.  ఈ క్రమంలోనే కేరళ, తమిళనాడులో కొన్నాళ్ల కిందటి వరకు  విస్తృతంగా ఉన్న మిడ్‌  బ్రెయిన్‌ యాక్టివేషన్‌, బ్రెయిన్‌ షార్ప్‌నెస్‌ ఇలా పలురకాల పేర్లతో ‘ప్రోగ్రామ్స్‌’ కనిపించాయి. పేరు వేరు కానీ... ఇది కూడా ప్రజ్ఞ యోగా లాంటిదే. అక్కడ కూడా భారీగా ఫీజు తీసుకుని, పిల్లల కళ్లకు గంతలు కట్టి చదివించడం నేర్పిస్తారు. దీనికి వ్యతిరేకంగా కేరళలో హేతువాదులు, మెజీషియన్లు భారీ పోరాటం చేశారు. ఇతర రాష్ట్రాల మెజీషియన్లతో కలిసి... ఇదంతా ఒట్టి ‘హంబక్‌’ అని తేల్చారు. కనిపించే విధంగానే  కళ్లకు గంతలు కడతారని... ‘పైకి’ ఎంత గట్టిగా బిగించినా... ముక్కు దూలం సందు నుంచి కిందికి నిశితంగా చూస్తే కనిపిస్తుందని స్పష్టం చేశారు. మీడియా ముందు, టీవీ చానళ్ల ముందు ఈ టెక్నిక్‌ను పిల్లల చేతనే స్వయంగా చేసి చూపించారు. ఇప్పుడు ఆర్ట్‌ ఆఫ్‌ లివింగ్‌ సంస్థ కూడా మిడ్‌ బ్రెయిన్‌ యాక్టివేషన్‌ ప్రోగ్రామ్‌నే ‘ప్రజ్ఞా  యోగ’ పేరిట కొంత ఆధ్యాత్మికతను జోడించి నిర్వహిస్తున్నట్లు తెలుస్తోంది. గంతల్లో ఉండే అతిచిన్న సందు నుంచి చూసి రంగులు, బొమ్మలు గుర్తించారు సరే... గోడకు అవతల ఏముందో ఎలా చెప్పగలుగుతున్నారన్నదే మీ ప్రశ్నా? ప్రతి ఇంట్లో కామన్‌గా ఉండే వస్తువులు కొన్ని ఉంటాయి. అవే... పిల్లలు చెబుతారు. అందులో నాలుగో, ఐదో నిజమవుతాయి! బయటికి చెప్పుకోలేక...‘కళ్లతో చూసిందే నమ్మాలి’... అనేది ఒక సిద్ధాంతం. కానీ... కళ్లుమూసుకుని చూడటం ఎలా సాధ్యం? అనే ప్రశ్నకు అసాధ్యం అనే సమాధానమే వస్తుంది. కళ్లకు గంతలు కట్టుకుని ఎందుకు... కళ్లు గట్టిగా మూసుకుని అదే పని చేయమనండి అంటే చేయలేరు. అలా చేయించరు. ఈ విషయం తల్లిదండ్రులకు కొద్దిరోజులకే తెలిసిపోతుంది. కానీ... చాలామంది రోజువారీ పనుల్లో పడి దీనిని అంతటితో వదిలేస్తారు. అతి కొద్ది మాత్రమే.. దీనిని సందేహిస్తున్నారు. తమ పిల్లలను ముందు కూర్చోబెట్టుకుని, ‘నిజంగానే కళ్లు మూసుకుని బొమ్మలు గుర్తించావా?’ అని బుజ్జగించి, ప్రశాంతం అడిగితే... ‘లేదు! కింది నుంచి కొంచెంగా కనిపిస్తుంది’ అని ఒప్పుకుంటారు. అదీ అసలు సంగతి! కానీ... ఆర్ట్‌ ఆఫ్‌ లివింగ్‌ ప్రచారకులు మాత్రం సోషల్‌ మీడియాతోపాటు ఇతరత్రా మార్గాల్లో భారీగా దీనిపై ప్రచారం చేస్తున్నారు. అంతేకాదు... శనివారం, ఆదివారం జరిగే ‘ప్రజ్ఞా యోగ’ శిక్షణ మరింత ప్రత్యేకమని, గురూజీ లైవ్‌ వెబ్‌కాస్ట్‌ ద్వారా సాధకులతో మాట్లాడతారని చెబుతూ పెద్దసంఖ్యలో తల్లిదండ్రులను కలుస్తున్నారు. పదివేల చొప్పున కట్టించుకుంటూ పిల్లలను చేర్చుకుంటున్నారు. దేశవ్యాప్తంగా ఒకేసారి వేలసంఖ్యలో పిల్లలకు శని, ఆదివారం ప్రజ్ఞ యోగ శిక్షణ ప్రారంభం కానుంది.  అసలేం జరుగుతుంది‘ప్రజ్ఞా యోగ’లో భాగంగా పిల్లలందరినీ ఒక గదిలోకి తీసుకెళతారు. ఆడిస్తారు. పాడిస్తారు. కాసేపు యోగా చేయిస్తారు. ధ్యానం గురించి చెబుతారు. లోపల ఏం జరుగుతోందో చూసేందుకు తల్లిదండ్రులకు మాత్రం అనుమతించరు. ఇలాగే రెండు రోజుల శిక్షణ (మొత్తం నాలుగు గంటలు) పూర్తవుతుంది. తర్వాత తల్లిదండ్రులను పిలిపిస్తారు. ‘చూడండి... మీ పిల్లల కళ్లకు గంతలు కట్టినా చూడగలరు’ అని చెబుతారు. నిజంగానే కళ్లకు గంతలు కడతారు. బొమ్మలు, పెద్ద అక్షరాలు, రంగులు ఉన్న కార్డులను చేతికి ఇస్తారు.  పిల్లలు   ఆ బొమ్మలను, అక్షరాలను, రంగులను గుర్తుపడతారు. ఇదంతా చూస్తూ తల్లిదండ్రులు ఆనందంతో పొంగిపోతారు. తమ పిల్లలకు అద్భుత శక్తులు వచ్చాయని నమ్ముతారు. ఈ ‘శక్తి’లో పరాకాష్ఠ ఏమిటంటే... ఒక పిల్లాడిని నిల్చోమని, ‘ఈ గోడకు అవతల ఉన్న గదిలో ఏమున్నాయో చెప్పమంటారు!’ ఆ పిల్లాడు... చీపురు, బిందె, గిన్నె, పరుపు, మంచం ఇలా ఓ పది చెబుతాడు. అందులో నాలుగో, ఐదో నిజమవుతాయి. దీంతో తల్లిదండ్రులు విభ్రములై గట్టిగా చప్పట్లు కొడతారు.  పదివేలు పోతేపోయాయి... అద్భుత శక్తులు వచ్చేశాయని సంతృప్తి వ్యక్తం చేస్తారు.  సులువుగా వలలో...‘‘పిల్లల మనసులు స్వచ్ఛమైనవి! పెద్దలు చెప్పింది ఇట్టే నమ్మేస్తారు. గంతలు కట్టుకున్నప్పటికీ సూక్ష్మమైన రంధ్రాల నుంచి కనిపిస్తున్న బొమ్మలు, రంగులను గుర్తిస్తున్నప్పటికీ... తాము పొందిన శిక్షణ వల్లే ఇదంతా సాధ్యపడుతుందని నమ్ముతారు. ఆ తర్వాత అసలు విషయం గుర్తించినప్పటికీ... అప్పటిదాకా తమను తల్లిదండ్రులతో సహా అందరూ ప్రత్యేకంగా చూస్తుండటాన్ని ‘ఎంజాయ్‌’ చేస్తూ వస్తారు’’ అని ఒక మెజీషియన్‌ తెలిపారు. అది అసాధ్యం!‘‘కళ్లకు గంతలు కట్టి పుస్తకాలు చదవటం.. మోటార్‌సైకిల్స్‌ నడపటం కేవలం ట్రిక్కులు. మెజీషియన్‌గా ఉన్నప్పుడు నేనూ ఇలాంటివి చేసేవాడిని. తమ పిల్లలు కళ్లకు గంతలు కట్టుకొని కూడా చదివేస్తారని ఇద్దరు తల్లిదండ్రులు నా వద్దకు వచ్చారు. ఆ ఇద్దరి పిల్లలకు నేను స్వయంగా గంతలు కట్టి చదవమంటే చదవలేకపోయారు. అలా చదివించగలం అని ఎవరు చెప్పినా అది మోసమే! ఇలాంటి ప్రక్రియలను ఖండిస్తున్నా.’’ బీవీ పట్టాభిరాం, వ్యక్తిత్వ వికాస నిపుణుడు, మెజీషియన్‌ సైన్స్‌కు అందదు... ‘‘కంటి రెటీనాపై కాంతి పడకుండా మనుషులు దేనిని గుర్తించలేరు. కంటికి గంతలు కట్టి వారి చేత చదివిస్తామని చెప్పే సంస్థల పట్ల అప్రమత్తంగా ఉండాలి. కళ్లకు గట్టిగా గుడ్డలు కట్టడం.. వారిని రకరకాల ప్రక్రియలకు గురిచేయటం వల్ల.. పిల్లలు శారీరకంగా, మానసికంగా ఎంతో ఒత్తిడికి గురవుతారు. ఇలాంటి కోర్సులలో పిల్లలను చేర్చవద్దు!’’ డాక్టర్‌ సాయి గిరిధర్‌ కామత్‌, కర్ణాటక కంటి డాక్టర్ల సమాఖ్య పిల్లలతో ప్రయోగాలు వద్దు!‘‘పిల్లలు చాలా సున్నిత మనస్కులు. చిన్నతనంలో జరిగే సంఘటనల ప్రభావం వారిపై తీవ్రంగా ఉంటుంది. ఉదాహరణకు ఎవరైనా అబద్ధాలు చెప్పటం ఒక అలవాటుగా చేసుకున్నారంటే- దాని మూలం వారి చిన్నతనంలో ఉంటుంది. ఇలాంటి కోర్సుల్లో చేరినప్పుడు వారు తాము ఇతరుల కన్నా గొప్పవాళ్లమనే భావిస్తారు. ఇరుగుపొరుగు వారి ప్రశంసలు వారిపై తీవ్ర ప్రభావం చూపుతాయి. ఈ స్టేట్‌సను కొనసాగించటానికి అబద్ధాలు చెబుతారు. గొప్పలు చెబుతారు. పిల్లలను గొప్పవాళ్లగా తీర్చిదిద్దాలనుకోవటం తప్పు లేదు. కానీ దానికి ఎంచుకొనే మార్గం సరైనదై ఉండాలి.’’  ప్రణీవ్‌ కుమార్‌, ప్రముఖ మానసిక వైద్య నిపుణుడు ఇదీ ఆర్ట్‌ ఆఫ్‌ లివింగ్‌ వాదన...‘‘పిల్లలలో దాగి ఉన్న శక్తులను వెలికితీయటమే ఈ కోర్సు ఉద్దేశం. గురువుగారు (శ్రీశ్రీ రవిశంకర్‌) మెడిటేషన్‌ను, కొన్ని టెక్నిక్‌లను కలిపి ఈ పద్ధతిని అభివృద్ధి చేశారు. 2 రోజులు క్లాసులో నేర్చుకున్న తర్వాత నలభై రోజులు సాధన చేయాల్సి ఉంటుంది. ఇది ఒక విధమైన సూపర్‌ బ్రెయిన్‌ యోగా. దీనిపై మా సంస్థలో పరిశోధనలు కూడా చేస్తున్నారు. మిడ్‌ మైండ్‌ మేనేజ్‌మెంట్‌ టెక్నిక్‌కు దీంతో సంబంధం లేదు. మా పద్ధతిలో పిల్లలు పూర్తిగా రిలాక్స్‌ అవుతారు. ఆ తర్వాత వారిలో ఏకాగ్రత పెరుగుతుంది. కళ్లకు గంతలు కట్టుకొని చదవగలుగతారు. రంగులు చెప్పగలుగుతారు. ఇలా 40 రోజులు సాధన చేస్తే భవిష్యత్తును చెప్పే శక్తి కూడా కొందరిలో వస్తుంది!’’ దుర్గ, ప్రజ్ఞా యోగ శిక్షకురాలు  అసలేం జరుగుతుంది‘ప్రజ్ఞా యోగ’లో భాగంగా పిల్లలందరినీ ఒక గదిలోకి తీసుకెళతారు. ఆడిస్తారు. పాడిస్తారు. కాసేపు యోగా చేయిస్తారు. ధ్యానం గురించి చెబుతారు. లోపల ఏం జరుగుతోందో చూసేందుకు తల్లిదండ్రులకు మాత్రం అనుమతించరు. ఇలాగే రెండు రోజుల శిక్షణ (మొత్తం నాలుగు గంటలు) పూర్తవుతుంది. తర్వాత తల్లిదండ్రులను పిలిపిస్తారు. ‘చూడండి... మీ పిల్లల కళ్లకు గంతలు కట్టినా చూడగలరు’ అని చెబుతారు. నిజంగానే కళ్లకు గంతలు కడతారు. బొమ్మలు, పెద్ద అక్షరాలు, రంగులు ఉన్న కార్డులను చేతికి ఇస్తారు.  పిల్లలు   ఆ బొమ్మలను, అక్షరాలను, రంగులను గుర్తుపడతారు. ఇదంతా చూస్తూ తల్లిదండ్రులు ఆనందంతో పొంగిపోతారు. తమ పిల్లలకు అద్భుత శక్తులు వచ్చాయని నమ్ముతారు. ఈ ‘శక్తి’లో పరాకాష్ఠ ఏమిటంటే... ఒక పిల్లాడిని నిల్చోమని, ‘ఈ గోడకు అవతల ఉన్న గదిలో ఏమున్నాయో చెప్పమంటారు!’ ఆ పిల్లాడు... చీపురు, బిందె, గిన్నె, పరుపు, మంచం ఇలా ఓ పది చెబుతాడు. అందులో నాలుగో, ఐదో నిజమవుతాయి. దీంతో తల్లిదండ్రులు విభ్రములై గట్టిగా చప్పట్లు కొడతారు.  పదివేలు పోతేపోయాయి... అద్భుత శక్తులు వచ్చేశాయని సంతృప్తి వ్యక్తం చేస్తారు.  సులువుగా వలలో...‘‘పిల్లల మనసులు స్వచ్ఛమైనవి! పెద్దలు చెప్పింది ఇట్టే నమ్మేస్తారు. గంతలు కట్టుకున్నప్పటికీ సూక్ష్మమైన రంధ్రాల నుంచి కనిపిస్తున్న బొమ్మలు, రంగులను గుర్తిస్తున్నప్పటికీ... తాము పొందిన శిక్షణ వల్లే ఇదంతా సాధ్యపడుతుందని నమ్ముతారు. ఆ తర్వాత అసలు విషయం గుర్తించినప్పటికీ... అప్పటిదాకా తమను తల్లిదండ్రులతో సహా అందరూ ప్రత్యేకంగా చూస్తుండటాన్ని ‘ఎంజాయ్‌’ చేస్తూ వస్తారు’’ అని ఒక మెజీషియన్‌ తెలిపారు. అది అసాధ్యం!‘‘కళ్లకు గంతలు కట్టి పుస్తకాలు చదవటం.. మోటార్‌సైకిల్స్‌ నడపటం కేవలం ట్రిక్కులు. మెజీషియన్‌గా ఉన్నప్పుడు నేనూ ఇలాంటివి చేసేవాడిని. తమ పిల్లలు కళ్లకు గంతలు కట్టుకొని కూడా చదివేస్తారని ఇద్దరు తల్లిదండ్రులు నా వద్దకు వచ్చారు. ఆ ఇద్దరి పిల్లలకు నేను స్వయంగా గంతలు కట్టి చదవమంటే చదవలేకపోయారు. అలా చదివించగలం అని ఎవరు చెప్పినా అది మోసమే! ఇలాంటి ప్రక్రియలను ఖండిస్తున్నా.’’ బీవీ పట్టాభిరాం, వ్యక్తిత్వ వికాస నిపుణుడు, మెజీషియన్‌ సైన్స్‌కు అందదు... ‘‘కంటి రెటీనాపై కాంతి పడకుండా మనుషులు దేనిని గుర్తించలేరు. కంటికి గంతలు కట్టి వారి చేత చదివిస్తామని చెప్పే సంస్థల పట్ల అప్రమత్తంగా ఉండాలి. కళ్లకు గట్టిగా గుడ్డలు కట్టడం.. వారిని రకరకాల ప్రక్రియలకు గురిచేయటం వల్ల.. పిల్లలు శారీరకంగా, మానసికంగా ఎంతో ఒత్తిడికి గురవుతారు. ఇలాంటి కోర్సులలో పిల్లలను చేర్చవద్దు!’’ డాక్టర్‌ సాయి గిరిధర్‌ కామత్‌, కర్ణాటక కంటి డాక్టర్ల సమాఖ్య పిల్లలతో ప్రయోగాలు వద్దు!‘‘పిల్లలు చాలా సున్నిత మనస్కులు. చిన్నతనంలో జరిగే సంఘటనల ప్రభావం వారిపై తీవ్రంగా ఉంటుంది. ఉదాహరణకు ఎవరైనా అబద్ధాలు చెప్పటం ఒక అలవాటుగా చేసుకున్నారంటే- దాని మూలం వారి చిన్నతనంలో ఉంటుంది. ఇలాంటి కోర్సుల్లో చేరినప్పుడు వారు తాము ఇతరుల కన్నా గొప్పవాళ్లమనే భావిస్తారు. ఇరుగుపొరుగు వారి ప్రశంసలు వారిపై తీవ్ర ప్రభావం చూపుతాయి. ఈ స్టేట్‌సను కొనసాగించటానికి అబద్ధాలు చెబుతారు. గొప్పలు చెబుతారు. పిల్లలను గొప్పవాళ్లగా తీర్చిదిద్దాలనుకోవటం తప్పు లేదు. కానీ దానికి ఎంచుకొనే మార్గం సరైనదై ఉండాలి.’’  ప్రణీవ్‌ కుమార్‌, ప్రముఖ మానసిక వైద్య నిపుణుడు ఇదీ ఆర్ట్‌ ఆఫ్‌ లివింగ్‌ వాదన...‘‘పిల్లలలో దాగి ఉన్న శక్తులను వెలికితీయటమే ఈ కోర్సు ఉద్దేశం. గురువుగారు (శ్రీశ్రీ రవిశంకర్‌) మెడిటేషన్‌ను, కొన్ని టెక్నిక్‌లను కలిపి ఈ పద్ధతిని అభివృద్ధి చేశారు. 2 రోజులు క్లాసులో నేర్చుకున్న తర్వాత నలభై రోజులు సాధన చేయాల్సి ఉంటుంది. ఇది ఒక విధమైన సూపర్‌ బ్రెయిన్‌ యోగా. దీనిపై మా సంస్థలో పరిశోధనలు కూడా చేస్తున్నారు. మిడ్‌ మైండ్‌ మేనేజ్‌మెంట్‌ టెక్నిక్‌కు దీంతో సంబంధం లేదు. మా పద్ధతిలో పిల్లలు పూర్తిగా రిలాక్స్‌ అవుతారు. ఆ తర్వాత వారిలో ఏకాగ్రత పెరుగుతుంది. కళ్లకు గంతలు కట్టుకొని చదవగలుగతారు. రంగులు చెప్పగలుగుతారు. ఇలా 40 రోజులు సాధన చేస్తే భవిష్యత్తును చెప్పే శక్తి కూడా కొందరిలో వస్తుంది!’’ దుర్గ, ప్రజ్ఞా యోగ శిక్షకురాలు ‘‘పిల్లల మనసులు స్వచ్ఛమైనవి! పెద్దలు చెప్పింది ఇట్టే నమ్మేస్తారు. గంతలు కట్టుకున్నప్పటికీ సూక్ష్మమైన రంధ్రాల నుంచి కనిపిస్తున్న బొమ్మలు, రంగులను గుర్తిస్తున్నప్పటికీ... తాము పొందిన శిక్షణ వల్లే ఇదంతా సాధ్యపడుతుందని నమ్ముతారు. ఆ తర్వాత అసలు విషయం గుర్తించినప్పటికీ... అప్పటిదాకా తమను తల్లిదండ్రులతో సహా అందరూ ప్రత్యేకంగా చూస్తుండటాన్ని ‘ఎంజాయ్‌’ చేస్తూ వస్తారు’’ అని ఒక మెజీషియన్‌ తెలిపారు. అది అసాధ్యం!‘‘కళ్లకు గంతలు కట్టి పుస్తకాలు చదవటం.. మోటార్‌సైకిల్స్‌ నడపటం కేవలం ట్రిక్కులు. మెజీషియన్‌గా ఉన్నప్పుడు నేనూ ఇలాంటివి చేసేవాడిని. తమ పిల్లలు కళ్లకు గంతలు కట్టుకొని కూడా చదివేస్తారని ఇద్దరు తల్లిదండ్రులు నా వద్దకు వచ్చారు. ఆ ఇద్దరి పిల్లలకు నేను స్వయంగా గంతలు కట్టి చదవమంటే చదవలేకపోయారు. అలా చదివించగలం అని ఎవరు చెప్పినా అది మోసమే! ఇలాంటి ప్రక్రియలను ఖండిస్తున్నా.’’ బీవీ పట్టాభిరాం, వ్యక్తిత్వ వికాస నిపుణుడు, మెజీషియన్‌ సైన్స్‌కు అందదు... ‘‘కంటి రెటీనాపై కాంతి పడకుండా మనుషులు దేనిని గుర్తించలేరు. కంటికి గంతలు కట్టి వారి చేత చదివిస్తామని చెప్పే సంస్థల పట్ల అప్రమత్తంగా ఉండాలి. కళ్లకు గట్టిగా గుడ్డలు కట్టడం.. వారిని రకరకాల ప్రక్రియలకు గురిచేయటం వల్ల.. పిల్లలు శారీరకంగా, మానసికంగా ఎంతో ఒత్తిడికి గురవుతారు. ఇలాంటి కోర్సులలో పిల్లలను చేర్చవద్దు!’’ డాక్టర్‌ సాయి గిరిధర్‌ కామత్‌, కర్ణాటక కంటి డాక్టర్ల సమాఖ్య పిల్లలతో ప్రయోగాలు వద్దు!‘‘పిల్లలు చాలా సున్నిత మనస్కులు. చిన్నతనంలో జరిగే సంఘటనల ప్రభావం వారిపై తీవ్రంగా ఉంటుంది. ఉదాహరణకు ఎవరైనా అబద్ధాలు చెప్పటం ఒక అలవాటుగా చేసుకున్నారంటే- దాని మూలం వారి చిన్నతనంలో ఉంటుంది. ఇలాంటి కోర్సుల్లో చేరినప్పుడు వారు తాము ఇతరుల కన్నా గొప్పవాళ్లమనే భావిస్తారు. ఇరుగుపొరుగు వారి ప్రశంసలు వారిపై తీవ్ర ప్రభావం చూపుతాయి. ఈ స్టేట్‌సను కొనసాగించటానికి అబద్ధాలు చెబుతారు. గొప్పలు చెబుతారు. పిల్లలను గొప్పవాళ్లగా తీర్చిదిద్దాలనుకోవటం తప్పు లేదు. కానీ దానికి ఎంచుకొనే మార్గం సరైనదై ఉండాలి.’’  ప్రణీవ్‌ కుమార్‌, ప్రముఖ మానసిక వైద్య నిపుణుడు ఇదీ ఆర్ట్‌ ఆఫ్‌ లివింగ్‌ వాదన...‘‘పిల్లలలో దాగి ఉన్న శక్తులను వెలికితీయటమే ఈ కోర్సు ఉద్దేశం. గురువుగారు (శ్రీశ్రీ రవిశంకర్‌) మెడిటేషన్‌ను, కొన్ని టెక్నిక్‌లను కలిపి ఈ పద్ధతిని అభివృద్ధి చేశారు. 2 రోజులు క్లాసులో నేర్చుకున్న తర్వాత నలభై రోజులు సాధన చేయాల్సి ఉంటుంది. ఇది ఒక విధమైన సూపర్‌ బ్రెయిన్‌ యోగా. దీనిపై మా సంస్థలో పరిశోధనలు కూడా చేస్తున్నారు. మిడ్‌ మైండ్‌ మేనేజ్‌మెంట్‌ టెక్నిక్‌కు దీంతో సంబంధం లేదు. మా పద్ధతిలో పిల్లలు పూర్తిగా రిలాక్స్‌ అవుతారు. ఆ తర్వాత వారిలో ఏకాగ్రత పెరుగుతుంది. కళ్లకు గంతలు కట్టుకొని చదవగలుగతారు. రంగులు చెప్పగలుగుతారు. ఇలా 40 రోజులు సాధన చేస్తే భవిష్యత్తును చెప్పే శక్తి కూడా కొందరిలో వస్తుంది!’’ దుర్గ, ప్రజ్ఞా యోగ శిక్షకురాలు\n",
            "\n",
            "Predicted label: nation\n",
            "\n",
            "Original label: nation\n",
            "\n"
          ]
        }
      ]
    },
    {
      "cell_type": "code",
      "source": [
        ""
      ],
      "metadata": {
        "id": "CBHOVtiTZIgo"
      },
      "id": "CBHOVtiTZIgo",
      "execution_count": null,
      "outputs": []
    }
  ],
  "metadata": {
    "colab": {
      "name": "telugu-news.ipynb",
      "provenance": [],
      "collapsed_sections": [
        "42f2f1e1",
        "3f7d7bec",
        "41d437bb"
      ]
    },
    "kernelspec": {
      "display_name": "Python 3 (ipykernel)",
      "language": "python",
      "name": "python3"
    },
    "language_info": {
      "codemirror_mode": {
        "name": "ipython",
        "version": 3
      },
      "file_extension": ".py",
      "mimetype": "text/x-python",
      "name": "python",
      "nbconvert_exporter": "python",
      "pygments_lexer": "ipython3",
      "version": "3.9.7"
    },
    "accelerator": "GPU"
  },
  "nbformat": 4,
  "nbformat_minor": 5
}