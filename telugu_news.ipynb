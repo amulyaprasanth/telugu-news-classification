{
  "cells": [
    {
      "cell_type": "markdown",
      "source": [
        "# Telugu News Article Classification Using Natural Language Processing\n",
        "\n",
        "**Problem Statement:** In this notebook, I tried to classify news paper articles using Natural Language Processing in TensorFlow\n",
        "\n",
        "* **Data:** The data is taken from Kaggle datasets. You can find the data [here]('https://www.kaggle.com/sudalairajkumar/telugu-nlp?select=telugu_news').\n",
        "\n",
        "* **Evaluation:** We used accuracy to evaluate the model\n",
        "\n",
        "I've tried various models for text classification like\n",
        "* Naive Bayes model\n",
        "* FeedForward Neural Network\n",
        "* LSTM\n",
        "* GRU\n",
        "* Bidirectional GRU\n",
        "\n",
        "and found that **GRU model** performs better with accuracy of ***93.69%***  on **validation data** accuracy.\n",
        "\n",
        "and normal **feedforward network** got an accurary of ***95%*** on **test data**\n",
        "\n",
        "**Note:** Results may diffeer due to the randomness in our models"
      ],
      "metadata": {
        "id": "nxYI5xWyW0cH"
      },
      "id": "nxYI5xWyW0cH"
    },
    {
      "cell_type": "code",
      "execution_count": 1,
      "id": "2710c1d9",
      "metadata": {
        "id": "2710c1d9"
      },
      "outputs": [],
      "source": [
        "import tensorflow as tf\n",
        "import numpy as np\n",
        "import pandas as pd\n",
        "%matplotlib inline\n",
        "import seaborn as sns\n",
        "from sklearn.model_selection import train_test_split\n"
      ]
    },
    {
      "cell_type": "code",
      "execution_count": 2,
      "id": "a80af5f1",
      "metadata": {
        "id": "a80af5f1"
      },
      "outputs": [],
      "source": [
        "# Function to evaluate: accuracy, precision, recall, f1-score\n",
        "from sklearn.metrics import accuracy_score, precision_recall_fscore_support\n",
        "\n",
        "def calculate_results(y_true, y_pred):\n",
        "  \"\"\"\n",
        "  Calculates model accuracy, precision, recall and f1 score of a binary classification model.\n",
        "\n",
        "  Args:\n",
        "  -----\n",
        "  y_true = true labels in the form of a 1D array\n",
        "  y_pred = predicted labels in the form of a 1D array\n",
        "\n",
        "  Returns a dictionary of accuracy, precision, recall, f1-score.\n",
        "  \"\"\"\n",
        "  # Calculate model accuracy\n",
        "  model_accuracy = accuracy_score(y_true, y_pred) * 100\n",
        "  # Calculate model precision, recall and f1 score using \"weighted\" average\n",
        "  model_precision, model_recall, model_f1, _ = precision_recall_fscore_support(y_true, y_pred, average=\"weighted\")\n",
        "  model_results = {\"accuracy\": model_accuracy,\n",
        "                  \"precision\": model_precision,\n",
        "                  \"recall\": model_recall,\n",
        "                  \"f1\": model_f1}\n",
        "  return model_results"
      ]
    },
    {
      "cell_type": "code",
      "execution_count": 42,
      "id": "453c14cd",
      "metadata": {
        "id": "453c14cd"
      },
      "outputs": [],
      "source": [
        "# Function to convert pred probs into labels\n",
        "def make_preds(model, data):\n",
        "    \"\"\"\n",
        "    This function make predictions on the validation data and returns the prediction labels\n",
        "    \"\"\"\n",
        "    pred_probs = model.predict(data)\n",
        "    preds = tf.argmax(pred_probs, axis=1)\n",
        "    \n",
        "    return preds"
      ]
    },
    {
      "cell_type": "code",
      "execution_count": 4,
      "id": "6f1886b0",
      "metadata": {
        "id": "6f1886b0"
      },
      "outputs": [],
      "source": [
        "# Make a function some predictions on test data and visualize them\n",
        "def visualize_random_preds(model):\n",
        "    \"\"\"\n",
        "    Make predictions with our model and visualize them with their labels\n",
        "    r\n",
        "    Args:\n",
        "        model: model you want to predict the labels with\n",
        "         \n",
        "    \"\"\"\n",
        "    \n",
        "    \n",
        "    # Selecting a random sentence from our validation dataset\n",
        "    random_number = random.randint(0, len(test_sentences))\n",
        "    pred_probs = model.predict(test_data)\n",
        "    y_preds = tf.argmax(pred_probs, axis=1)\n",
        "    print(f\"Text: \\n{test_sentences[random_number]}\\n\")\n",
        "    print(f\"Predicted label: {class_names[y_preds[random_number]]}\\n\")\n",
        "    print(f\"Original label: {test_labels[random_number]}\\n\" )\n",
        "\n"
      ]
    },
    {
      "cell_type": "code",
      "execution_count": 5,
      "id": "d3c6ed49",
      "metadata": {
        "id": "d3c6ed49"
      },
      "outputs": [],
      "source": [
        "train = pd.read_csv(\"https://raw.githubusercontent.com/amulyaprasanth/telugu-news-nlp/main/train_telugu_news.csv?token=GHSAT0AAAAAABRUD26EMMTNW7DJCP2RMRSMYQ2HQIA\")\n",
        "test = pd.read_csv(\"https://raw.githubusercontent.com/amulyaprasanth/telugu-news-nlp/main/test_telugu_news.csv?token=GHSAT0AAAAAABRUD26FEIFCFECPDR4QRQWIYQ2HSFQ\")"
      ]
    },
    {
      "cell_type": "code",
      "execution_count": 6,
      "id": "24f359fb",
      "metadata": {
        "id": "24f359fb",
        "scrolled": true,
        "colab": {
          "base_uri": "https://localhost:8080/",
          "height": 206
        },
        "outputId": "d5c8501e-3988-4dfd-c282-276e1585477b"
      },
      "outputs": [
        {
          "output_type": "execute_result",
          "data": {
            "text/html": [
              "\n",
              "  <div id=\"df-01457e25-c9e1-49d9-94f2-9be96e45b484\">\n",
              "    <div class=\"colab-df-container\">\n",
              "      <div>\n",
              "<style scoped>\n",
              "    .dataframe tbody tr th:only-of-type {\n",
              "        vertical-align: middle;\n",
              "    }\n",
              "\n",
              "    .dataframe tbody tr th {\n",
              "        vertical-align: top;\n",
              "    }\n",
              "\n",
              "    .dataframe thead th {\n",
              "        text-align: right;\n",
              "    }\n",
              "</style>\n",
              "<table border=\"1\" class=\"dataframe\">\n",
              "  <thead>\n",
              "    <tr style=\"text-align: right;\">\n",
              "      <th></th>\n",
              "      <th>SNo</th>\n",
              "      <th>date</th>\n",
              "      <th>heading</th>\n",
              "      <th>body</th>\n",
              "      <th>topic</th>\n",
              "    </tr>\n",
              "  </thead>\n",
              "  <tbody>\n",
              "    <tr>\n",
              "      <th>0</th>\n",
              "      <td>414</td>\n",
              "      <td>11-05-2017 00:39:13</td>\n",
              "      <td>ఐడిబిఐపై ఆర్‌బిఐ నజర్‌</td>\n",
              "      <td>భారీ ఎత్తున మొండిబకాయిలు పెరిగిపోవడంతో ఐడిబిఐ ...</td>\n",
              "      <td>business</td>\n",
              "    </tr>\n",
              "    <tr>\n",
              "      <th>1</th>\n",
              "      <td>2668</td>\n",
              "      <td>12-06-2017 00:40:32</td>\n",
              "      <td>బ్యాంకింగ్‌ చీఫ్‌లతో నేడు జైట్లీ భేటీ</td>\n",
              "      <td>న్యూఢిల్లీ : ఆర్థిక మంత్రి అరుణ్‌ జైట్లీ సోమవా...</td>\n",
              "      <td>business</td>\n",
              "    </tr>\n",
              "    <tr>\n",
              "      <th>2</th>\n",
              "      <td>19923</td>\n",
              "      <td>19-01-2017 19:51:31</td>\n",
              "      <td>కీలక వికెట్ తీసిన జడేజా..</td>\n",
              "      <td>కటక్: ఇంగ్లండ్‌తో జరుగుతున్న సెకండ్ వన్డే మ్యా...</td>\n",
              "      <td>sports</td>\n",
              "    </tr>\n",
              "    <tr>\n",
              "      <th>3</th>\n",
              "      <td>15762</td>\n",
              "      <td>23-11-2017 17:29:04</td>\n",
              "      <td>మరో రెచ్చగొట్టే చర్యకు దిగిన పాకిస్థాన్</td>\n",
              "      <td>\\nఇస్లామాబాద్ : పాకిస్థాన్ అంతర్జాతీయ ఉగ్రవాది...</td>\n",
              "      <td>nation</td>\n",
              "    </tr>\n",
              "    <tr>\n",
              "      <th>4</th>\n",
              "      <td>8624</td>\n",
              "      <td>03-04-2017 15:48:23</td>\n",
              "      <td>గోవాలో కొడుకుతో కలిసి అల్లు అర్జున్ స్విమ్మింగ్!</td>\n",
              "      <td>స్టార్‌ హీరోగా వరుస సినిమాలతో బిజీగా ఉన్నప్పటి...</td>\n",
              "      <td>entertainment</td>\n",
              "    </tr>\n",
              "  </tbody>\n",
              "</table>\n",
              "</div>\n",
              "      <button class=\"colab-df-convert\" onclick=\"convertToInteractive('df-01457e25-c9e1-49d9-94f2-9be96e45b484')\"\n",
              "              title=\"Convert this dataframe to an interactive table.\"\n",
              "              style=\"display:none;\">\n",
              "        \n",
              "  <svg xmlns=\"http://www.w3.org/2000/svg\" height=\"24px\"viewBox=\"0 0 24 24\"\n",
              "       width=\"24px\">\n",
              "    <path d=\"M0 0h24v24H0V0z\" fill=\"none\"/>\n",
              "    <path d=\"M18.56 5.44l.94 2.06.94-2.06 2.06-.94-2.06-.94-.94-2.06-.94 2.06-2.06.94zm-11 1L8.5 8.5l.94-2.06 2.06-.94-2.06-.94L8.5 2.5l-.94 2.06-2.06.94zm10 10l.94 2.06.94-2.06 2.06-.94-2.06-.94-.94-2.06-.94 2.06-2.06.94z\"/><path d=\"M17.41 7.96l-1.37-1.37c-.4-.4-.92-.59-1.43-.59-.52 0-1.04.2-1.43.59L10.3 9.45l-7.72 7.72c-.78.78-.78 2.05 0 2.83L4 21.41c.39.39.9.59 1.41.59.51 0 1.02-.2 1.41-.59l7.78-7.78 2.81-2.81c.8-.78.8-2.07 0-2.86zM5.41 20L4 18.59l7.72-7.72 1.47 1.35L5.41 20z\"/>\n",
              "  </svg>\n",
              "      </button>\n",
              "      \n",
              "  <style>\n",
              "    .colab-df-container {\n",
              "      display:flex;\n",
              "      flex-wrap:wrap;\n",
              "      gap: 12px;\n",
              "    }\n",
              "\n",
              "    .colab-df-convert {\n",
              "      background-color: #E8F0FE;\n",
              "      border: none;\n",
              "      border-radius: 50%;\n",
              "      cursor: pointer;\n",
              "      display: none;\n",
              "      fill: #1967D2;\n",
              "      height: 32px;\n",
              "      padding: 0 0 0 0;\n",
              "      width: 32px;\n",
              "    }\n",
              "\n",
              "    .colab-df-convert:hover {\n",
              "      background-color: #E2EBFA;\n",
              "      box-shadow: 0px 1px 2px rgba(60, 64, 67, 0.3), 0px 1px 3px 1px rgba(60, 64, 67, 0.15);\n",
              "      fill: #174EA6;\n",
              "    }\n",
              "\n",
              "    [theme=dark] .colab-df-convert {\n",
              "      background-color: #3B4455;\n",
              "      fill: #D2E3FC;\n",
              "    }\n",
              "\n",
              "    [theme=dark] .colab-df-convert:hover {\n",
              "      background-color: #434B5C;\n",
              "      box-shadow: 0px 1px 3px 1px rgba(0, 0, 0, 0.15);\n",
              "      filter: drop-shadow(0px 1px 2px rgba(0, 0, 0, 0.3));\n",
              "      fill: #FFFFFF;\n",
              "    }\n",
              "  </style>\n",
              "\n",
              "      <script>\n",
              "        const buttonEl =\n",
              "          document.querySelector('#df-01457e25-c9e1-49d9-94f2-9be96e45b484 button.colab-df-convert');\n",
              "        buttonEl.style.display =\n",
              "          google.colab.kernel.accessAllowed ? 'block' : 'none';\n",
              "\n",
              "        async function convertToInteractive(key) {\n",
              "          const element = document.querySelector('#df-01457e25-c9e1-49d9-94f2-9be96e45b484');\n",
              "          const dataTable =\n",
              "            await google.colab.kernel.invokeFunction('convertToInteractive',\n",
              "                                                     [key], {});\n",
              "          if (!dataTable) return;\n",
              "\n",
              "          const docLinkHtml = 'Like what you see? Visit the ' +\n",
              "            '<a target=\"_blank\" href=https://colab.research.google.com/notebooks/data_table.ipynb>data table notebook</a>'\n",
              "            + ' to learn more about interactive tables.';\n",
              "          element.innerHTML = '';\n",
              "          dataTable['output_type'] = 'display_data';\n",
              "          await google.colab.output.renderOutput(dataTable, element);\n",
              "          const docLink = document.createElement('div');\n",
              "          docLink.innerHTML = docLinkHtml;\n",
              "          element.appendChild(docLink);\n",
              "        }\n",
              "      </script>\n",
              "    </div>\n",
              "  </div>\n",
              "  "
            ],
            "text/plain": [
              "     SNo  ...          topic\n",
              "0    414  ...       business\n",
              "1   2668  ...       business\n",
              "2  19923  ...         sports\n",
              "3  15762  ...         nation\n",
              "4   8624  ...  entertainment\n",
              "\n",
              "[5 rows x 5 columns]"
            ]
          },
          "metadata": {},
          "execution_count": 6
        }
      ],
      "source": [
        "train.head()"
      ]
    },
    {
      "cell_type": "code",
      "execution_count": 7,
      "id": "f5efa780",
      "metadata": {
        "colab": {
          "base_uri": "https://localhost:8080/",
          "height": 206
        },
        "id": "f5efa780",
        "outputId": "147bd18a-0781-4398-c15b-120c79132494"
      },
      "outputs": [
        {
          "output_type": "execute_result",
          "data": {
            "text/html": [
              "\n",
              "  <div id=\"df-584fec34-5022-496f-b662-9fcc9aded73b\">\n",
              "    <div class=\"colab-df-container\">\n",
              "      <div>\n",
              "<style scoped>\n",
              "    .dataframe tbody tr th:only-of-type {\n",
              "        vertical-align: middle;\n",
              "    }\n",
              "\n",
              "    .dataframe tbody tr th {\n",
              "        vertical-align: top;\n",
              "    }\n",
              "\n",
              "    .dataframe thead th {\n",
              "        text-align: right;\n",
              "    }\n",
              "</style>\n",
              "<table border=\"1\" class=\"dataframe\">\n",
              "  <thead>\n",
              "    <tr style=\"text-align: right;\">\n",
              "      <th></th>\n",
              "      <th>SNo</th>\n",
              "      <th>date</th>\n",
              "      <th>heading</th>\n",
              "      <th>body</th>\n",
              "      <th>topic</th>\n",
              "    </tr>\n",
              "  </thead>\n",
              "  <tbody>\n",
              "    <tr>\n",
              "      <th>0</th>\n",
              "      <td>7771</td>\n",
              "      <td>19-05-2017 13:44:10</td>\n",
              "      <td>కేశవ</td>\n",
              "      <td>హీరోగా తెలుగు సినిమాల్లోకి ఎంట్రీ ఇచ్చిన నిఖిల...</td>\n",
              "      <td>entertainment</td>\n",
              "    </tr>\n",
              "    <tr>\n",
              "      <th>1</th>\n",
              "      <td>9591</td>\n",
              "      <td>01-08-2017 13:58:24</td>\n",
              "      <td>డబ్బుల కోసం ప్రాణాల మీదకు తెచ్చుకుంటారా.. హీరో...</td>\n",
              "      <td>సినిమాల్లో యాక్షన్ స్టంట్లు చేసేటప్పుడు ఎక్కు...</td>\n",
              "      <td>entertainment</td>\n",
              "    </tr>\n",
              "    <tr>\n",
              "      <th>2</th>\n",
              "      <td>12622</td>\n",
              "      <td>05-04-2017 00:31:58</td>\n",
              "      <td>దక్షిణాదిన బీజేపీ పప్పులుడకవ్‌</td>\n",
              "      <td>దక్షిణ భారతాన్ని ఆక్రమించేందుకు బీజేపీ పంచెలు ...</td>\n",
              "      <td>nation</td>\n",
              "    </tr>\n",
              "    <tr>\n",
              "      <th>3</th>\n",
              "      <td>16401</td>\n",
              "      <td>30-08-2017 03:34:37</td>\n",
              "      <td>పీఎస్‌ఎల్వీ-సీ39కి గ్రీన్‌సిగ్నల్‌</td>\n",
              "      <td>నేటి మధ్యాహ్నం 1.59కి కౌంట్‌డౌన్‌ షురూశ్రీహరి...</td>\n",
              "      <td>nation</td>\n",
              "    </tr>\n",
              "    <tr>\n",
              "      <th>4</th>\n",
              "      <td>10422</td>\n",
              "      <td>10-04-2017 09:00:48</td>\n",
              "      <td>ఏయ్ జయప్రకాష్ అనే కేక వినిపించింది.. వెనక్కి త...</td>\n",
              "      <td>‘ఏమి రా... అబ్బి... యాడికి పోయినావు’ అంటూ రాయ...</td>\n",
              "      <td>entertainment</td>\n",
              "    </tr>\n",
              "  </tbody>\n",
              "</table>\n",
              "</div>\n",
              "      <button class=\"colab-df-convert\" onclick=\"convertToInteractive('df-584fec34-5022-496f-b662-9fcc9aded73b')\"\n",
              "              title=\"Convert this dataframe to an interactive table.\"\n",
              "              style=\"display:none;\">\n",
              "        \n",
              "  <svg xmlns=\"http://www.w3.org/2000/svg\" height=\"24px\"viewBox=\"0 0 24 24\"\n",
              "       width=\"24px\">\n",
              "    <path d=\"M0 0h24v24H0V0z\" fill=\"none\"/>\n",
              "    <path d=\"M18.56 5.44l.94 2.06.94-2.06 2.06-.94-2.06-.94-.94-2.06-.94 2.06-2.06.94zm-11 1L8.5 8.5l.94-2.06 2.06-.94-2.06-.94L8.5 2.5l-.94 2.06-2.06.94zm10 10l.94 2.06.94-2.06 2.06-.94-2.06-.94-.94-2.06-.94 2.06-2.06.94z\"/><path d=\"M17.41 7.96l-1.37-1.37c-.4-.4-.92-.59-1.43-.59-.52 0-1.04.2-1.43.59L10.3 9.45l-7.72 7.72c-.78.78-.78 2.05 0 2.83L4 21.41c.39.39.9.59 1.41.59.51 0 1.02-.2 1.41-.59l7.78-7.78 2.81-2.81c.8-.78.8-2.07 0-2.86zM5.41 20L4 18.59l7.72-7.72 1.47 1.35L5.41 20z\"/>\n",
              "  </svg>\n",
              "      </button>\n",
              "      \n",
              "  <style>\n",
              "    .colab-df-container {\n",
              "      display:flex;\n",
              "      flex-wrap:wrap;\n",
              "      gap: 12px;\n",
              "    }\n",
              "\n",
              "    .colab-df-convert {\n",
              "      background-color: #E8F0FE;\n",
              "      border: none;\n",
              "      border-radius: 50%;\n",
              "      cursor: pointer;\n",
              "      display: none;\n",
              "      fill: #1967D2;\n",
              "      height: 32px;\n",
              "      padding: 0 0 0 0;\n",
              "      width: 32px;\n",
              "    }\n",
              "\n",
              "    .colab-df-convert:hover {\n",
              "      background-color: #E2EBFA;\n",
              "      box-shadow: 0px 1px 2px rgba(60, 64, 67, 0.3), 0px 1px 3px 1px rgba(60, 64, 67, 0.15);\n",
              "      fill: #174EA6;\n",
              "    }\n",
              "\n",
              "    [theme=dark] .colab-df-convert {\n",
              "      background-color: #3B4455;\n",
              "      fill: #D2E3FC;\n",
              "    }\n",
              "\n",
              "    [theme=dark] .colab-df-convert:hover {\n",
              "      background-color: #434B5C;\n",
              "      box-shadow: 0px 1px 3px 1px rgba(0, 0, 0, 0.15);\n",
              "      filter: drop-shadow(0px 1px 2px rgba(0, 0, 0, 0.3));\n",
              "      fill: #FFFFFF;\n",
              "    }\n",
              "  </style>\n",
              "\n",
              "      <script>\n",
              "        const buttonEl =\n",
              "          document.querySelector('#df-584fec34-5022-496f-b662-9fcc9aded73b button.colab-df-convert');\n",
              "        buttonEl.style.display =\n",
              "          google.colab.kernel.accessAllowed ? 'block' : 'none';\n",
              "\n",
              "        async function convertToInteractive(key) {\n",
              "          const element = document.querySelector('#df-584fec34-5022-496f-b662-9fcc9aded73b');\n",
              "          const dataTable =\n",
              "            await google.colab.kernel.invokeFunction('convertToInteractive',\n",
              "                                                     [key], {});\n",
              "          if (!dataTable) return;\n",
              "\n",
              "          const docLinkHtml = 'Like what you see? Visit the ' +\n",
              "            '<a target=\"_blank\" href=https://colab.research.google.com/notebooks/data_table.ipynb>data table notebook</a>'\n",
              "            + ' to learn more about interactive tables.';\n",
              "          element.innerHTML = '';\n",
              "          dataTable['output_type'] = 'display_data';\n",
              "          await google.colab.output.renderOutput(dataTable, element);\n",
              "          const docLink = document.createElement('div');\n",
              "          docLink.innerHTML = docLinkHtml;\n",
              "          element.appendChild(docLink);\n",
              "        }\n",
              "      </script>\n",
              "    </div>\n",
              "  </div>\n",
              "  "
            ],
            "text/plain": [
              "     SNo  ...          topic\n",
              "0   7771  ...  entertainment\n",
              "1   9591  ...  entertainment\n",
              "2  12622  ...         nation\n",
              "3  16401  ...         nation\n",
              "4  10422  ...  entertainment\n",
              "\n",
              "[5 rows x 5 columns]"
            ]
          },
          "metadata": {},
          "execution_count": 7
        }
      ],
      "source": [
        "test.head()"
      ]
    },
    {
      "cell_type": "code",
      "execution_count": 8,
      "id": "d0f957c9",
      "metadata": {
        "colab": {
          "base_uri": "https://localhost:8080/"
        },
        "id": "d0f957c9",
        "outputId": "a1b339bb-40e6-40fb-f8c7-9403aaf06510"
      },
      "outputs": [
        {
          "output_type": "execute_result",
          "data": {
            "text/plain": [
              "nation           6628\n",
              "entertainment    5145\n",
              "business         2572\n",
              "sports           1908\n",
              "editorial        1059\n",
              "Name: topic, dtype: int64"
            ]
          },
          "metadata": {},
          "execution_count": 8
        }
      ],
      "source": [
        "# How many classes are there\n",
        "train[\"topic\"].value_counts()"
      ]
    },
    {
      "cell_type": "code",
      "execution_count": 9,
      "id": "1dc6c9ff",
      "metadata": {
        "colab": {
          "base_uri": "https://localhost:8080/"
        },
        "id": "1dc6c9ff",
        "outputId": "d8c14855-c714-47e9-a4e9-f935dde47dfd"
      },
      "outputs": [
        {
          "output_type": "execute_result",
          "data": {
            "text/plain": [
              "((17312, 5), (4329, 5))"
            ]
          },
          "metadata": {},
          "execution_count": 9
        }
      ],
      "source": [
        "# Check the data types and shapes of our datasets\n",
        "train.shape, test.shape"
      ]
    },
    {
      "cell_type": "code",
      "execution_count": 10,
      "id": "dc573b78",
      "metadata": {
        "id": "dc573b78"
      },
      "outputs": [],
      "source": [
        "# Before preprocessing our data let's extract the features we need to work with \n",
        "features = train[\"body\"].to_numpy()\n",
        "labels = train[\"topic\"].to_numpy()\n",
        "\n",
        "test_sentences = test[\"body\"].to_numpy()\n",
        "test_labels = test[\"topic\"].to_numpy()"
      ]
    },
    {
      "cell_type": "code",
      "execution_count": 11,
      "id": "14f9e501",
      "metadata": {
        "id": "14f9e501",
        "colab": {
          "base_uri": "https://localhost:8080/"
        },
        "outputId": "3c5c8011-0c0e-42c8-afce-00eb28894142"
      },
      "outputs": [
        {
          "output_type": "execute_result",
          "data": {
            "text/plain": [
              "(13849, 13849, 3463, 3463)"
            ]
          },
          "metadata": {},
          "execution_count": 11
        }
      ],
      "source": [
        "# Split our data into train and validation_sets\n",
        "train_sentences, val_sentences, train_labels, val_labels = train_test_split(features, labels, test_size=0.2, random_state=42)\n",
        "\n",
        "# Check the length of valid and train datasets\n",
        "len(train_sentences), len(train_labels), len(val_sentences), len(val_labels)"
      ]
    },
    {
      "cell_type": "code",
      "execution_count": 12,
      "id": "2b098f44",
      "metadata": {
        "scrolled": true,
        "id": "2b098f44"
      },
      "outputs": [],
      "source": [
        "# Convert our labels into numbers\n",
        "from sklearn.preprocessing import LabelEncoder\n",
        "enc = LabelEncoder()\n",
        "train_labels_encoded = enc.fit_transform(train_labels)\n",
        "val_labels_encoded = enc.transform(val_labels)\n",
        "test_labels_encoded = enc.transform(test_labels)"
      ]
    },
    {
      "cell_type": "code",
      "execution_count": 13,
      "id": "24381bb3",
      "metadata": {
        "colab": {
          "base_uri": "https://localhost:8080/"
        },
        "id": "24381bb3",
        "outputId": "aed161fc-e51a-45ec-9cd6-7ecfaf53d78b"
      },
      "outputs": [
        {
          "output_type": "execute_result",
          "data": {
            "text/plain": [
              "array(['business', 'editorial', 'entertainment', 'nation', 'sports'],\n",
              "      dtype=object)"
            ]
          },
          "metadata": {},
          "execution_count": 13
        }
      ],
      "source": [
        "class_names = np.unique(train_labels)\n",
        "class_names"
      ]
    },
    {
      "cell_type": "markdown",
      "id": "806586ef",
      "metadata": {
        "id": "806586ef"
      },
      "source": [
        "## Becoming one with the data (Inspecting the data)"
      ]
    },
    {
      "cell_type": "code",
      "execution_count": 14,
      "id": "ddddce7f",
      "metadata": {
        "colab": {
          "base_uri": "https://localhost:8080/"
        },
        "id": "ddddce7f",
        "outputId": "3e02bee9-b5af-4305-cbb4-0ee8ab42622e"
      },
      "outputs": [
        {
          "output_type": "execute_result",
          "data": {
            "text/plain": [
              "17312"
            ]
          },
          "metadata": {},
          "execution_count": 14
        }
      ],
      "source": [
        "len(features)"
      ]
    },
    {
      "cell_type": "code",
      "execution_count": 15,
      "id": "92c2a963",
      "metadata": {
        "scrolled": true,
        "colab": {
          "base_uri": "https://localhost:8080/"
        },
        "id": "92c2a963",
        "outputId": "548819f0-a9c0-4a0d-dca9-c97fe161ab69"
      },
      "outputs": [
        {
          "output_type": "stream",
          "name": "stdout",
          "text": [
            "‘‘ఎదుటివారి మనసును తెలుసుకుని ప్రవర్తించడం గొప్ప గుణం. అలాంటి అద్భుతమైన గుణాన్ని నేను పవర్‌స్టార్‌లో చూశాను. నా జీవితంలో ఇంత గొప్ప వ్యక్తితో కలిసి పనిచేయడానికి మర్చిపోలేను’’ అని అన్నారు అను ఇమ్మాన్యుయేల్‌. ఈ భామ ప్రస్తుతం త్రివిక్రమ్‌ దర్శకత్వంలో పవనకల్యాణ్‌ సినిమాలో నటిస్తోంది. అను మాట్లాడుతూ ‘‘ఇటీవల ‘మీకు ఇష్టమైన ఆహారం ఏంటి’ అని పవనకల్యాణ్‌గారు అడిగారు. ‘ఆప్పమ్‌’ అని సమాధానమిచ్చాను. కేజువల్‌గానే అడుగుతున్నారని అనకున్నా. మరుసటి రోజు ఉదయం నాకు ఆప్పమ్‌ పార్శిల్‌ వచ్చేసింది. చూసి ఆశ్చర్యపోయాను. నా జీవితంలో ఇలాంటి గొప్ప వ్యక్తిని మర్చిపోలేను’’ అని చెప్పారు.\n"
          ]
        }
      ],
      "source": [
        "# visuolise random train data and its labels\n",
        "import random \n",
        "random_sentence = random.choice(features)\n",
        "print(random_sentence)"
      ]
    },
    {
      "cell_type": "markdown",
      "id": "42f2f1e1",
      "metadata": {
        "id": "42f2f1e1"
      },
      "source": [
        "### Creating a baseline model\n",
        "\n",
        "This is a model we've to beat\n"
      ]
    },
    {
      "cell_type": "code",
      "execution_count": 16,
      "id": "0275a7b2",
      "metadata": {
        "colab": {
          "base_uri": "https://localhost:8080/"
        },
        "id": "0275a7b2",
        "outputId": "7cf30392-d500-4d97-b0a4-4468a8391b2f"
      },
      "outputs": [
        {
          "output_type": "execute_result",
          "data": {
            "text/plain": [
              "Pipeline(steps=[('tfidf_vectorizer', TfidfVectorizer()),\n",
              "                ('naive_bayes', MultinomialNB())])"
            ]
          },
          "metadata": {},
          "execution_count": 16
        }
      ],
      "source": [
        "# Let's train a naive bayes model using tf-idf-vectorizer\n",
        "\n",
        "from sklearn.pipeline import Pipeline\n",
        "from sklearn.feature_extraction.text import TfidfVectorizer\n",
        "from sklearn.naive_bayes import MultinomialNB\n",
        "\n",
        "baseline_model = Pipeline([\n",
        "    (\"tfidf_vectorizer\", TfidfVectorizer()),\n",
        "    (\"naive_bayes\", MultinomialNB())\n",
        "])\n",
        "\n",
        "baseline_model.fit(train_sentences, train_labels_encoded)"
      ]
    },
    {
      "cell_type": "code",
      "execution_count": 17,
      "id": "8a3b9c05",
      "metadata": {
        "colab": {
          "base_uri": "https://localhost:8080/"
        },
        "id": "8a3b9c05",
        "outputId": "85196b04-1d1b-4acf-ed3b-5bfe14d4fb46"
      },
      "outputs": [
        {
          "output_type": "execute_result",
          "data": {
            "text/plain": [
              "0.7403984984117817"
            ]
          },
          "metadata": {},
          "execution_count": 17
        }
      ],
      "source": [
        "# Evaluate the base model \n",
        "baseline_model.score(val_sentences, val_labels_encoded)"
      ]
    },
    {
      "cell_type": "code",
      "execution_count": 18,
      "id": "34b9e86e",
      "metadata": {
        "colab": {
          "base_uri": "https://localhost:8080/"
        },
        "id": "34b9e86e",
        "outputId": "3ac0f47a-f457-47c0-ec6c-d9fa878210ef"
      },
      "outputs": [
        {
          "output_type": "execute_result",
          "data": {
            "text/plain": [
              "(array([2, 3, 3, 3, 2, 3, 3, 3, 3, 3]), 3463)"
            ]
          },
          "metadata": {},
          "execution_count": 18
        }
      ],
      "source": [
        "# Making predictions with our model\n",
        "baseline_preds = baseline_model.predict(val_sentences)\n",
        "baseline_preds[:10], len(baseline_preds)"
      ]
    },
    {
      "cell_type": "code",
      "execution_count": 19,
      "id": "19a5fb74",
      "metadata": {
        "colab": {
          "base_uri": "https://localhost:8080/"
        },
        "id": "19a5fb74",
        "outputId": "cd205e93-9c82-4015-dbdb-e157e1c90a09"
      },
      "outputs": [
        {
          "output_type": "stream",
          "name": "stderr",
          "text": [
            "/usr/local/lib/python3.7/dist-packages/sklearn/metrics/_classification.py:1318: UndefinedMetricWarning: Precision and F-score are ill-defined and being set to 0.0 in labels with no predicted samples. Use `zero_division` parameter to control this behavior.\n",
            "  _warn_prf(average, modifier, msg_start, len(result))\n"
          ]
        },
        {
          "output_type": "execute_result",
          "data": {
            "text/plain": [
              "{'accuracy': 74.03984984117817,\n",
              " 'f1': 0.7024314343853166,\n",
              " 'precision': 0.766110761383885,\n",
              " 'recall': 0.7403984984117817}"
            ]
          },
          "metadata": {},
          "execution_count": 19
        }
      ],
      "source": [
        "# Get basemodel results\n",
        "baseline_results = calculate_results(val_labels_encoded, baseline_preds)\n",
        "baseline_results"
      ]
    },
    {
      "cell_type": "markdown",
      "id": "9fd9906e",
      "metadata": {
        "id": "9fd9906e"
      },
      "source": [
        "## Preprocess the data\n",
        "\n",
        "Before going to Neural Networks we need to turn our data into numerical format in which our model can understand\n",
        "\n",
        "* TextVectorization  (Converting our text into numbers)\n",
        "* Embedding layer ( Creating embeddings from the text vectors)"
      ]
    },
    {
      "cell_type": "code",
      "execution_count": 20,
      "id": "550c908d",
      "metadata": {
        "id": "550c908d"
      },
      "outputs": [],
      "source": [
        "from tensorflow.keras.layers import TextVectorization, Embedding"
      ]
    },
    {
      "cell_type": "code",
      "execution_count": 21,
      "id": "bce09605",
      "metadata": {
        "colab": {
          "base_uri": "https://localhost:8080/"
        },
        "id": "bce09605",
        "outputId": "687622fc-0ba4-4658-94d0-3fb03a30be69"
      },
      "outputs": [
        {
          "output_type": "execute_result",
          "data": {
            "text/plain": [
              "172"
            ]
          },
          "metadata": {},
          "execution_count": 21
        }
      ],
      "source": [
        "# Find average number of tokens (words) in training Tweets\n",
        "round(sum([len(i.split()) for i in train_sentences])/len(train_sentences))"
      ]
    },
    {
      "cell_type": "code",
      "execution_count": 22,
      "id": "82468976",
      "metadata": {
        "id": "82468976"
      },
      "outputs": [],
      "source": [
        "# Instantiating our text vectorization layer with required parameters\n",
        "max_vocab_length = 10000 # Max number of words in our vocabulary\n",
        "max_length = 173 # Output sequence length\n",
        "text_vectorizer = TextVectorization(max_tokens=max_vocab_length,\n",
        "                                   output_sequence_length=max_length)"
      ]
    },
    {
      "cell_type": "code",
      "execution_count": 23,
      "id": "28b1f81f",
      "metadata": {
        "id": "28b1f81f"
      },
      "outputs": [],
      "source": [
        "# Fit the text vectorizer\n",
        "text_vectorizer.adapt(train_sentences)"
      ]
    },
    {
      "cell_type": "code",
      "execution_count": 24,
      "id": "cf4b9b01",
      "metadata": {
        "id": "cf4b9b01"
      },
      "outputs": [],
      "source": [
        "# Test out the text vectorization layer\n",
        "# sample_sentence = \"ఇండియ‌న్ వారెన్ బ‌ఫెట్ రాకేష్ ఝున్‌ఝున్ వాలా ఐటీ ఉద్యోగాల‌పై ఆస‌క్తిక‌ర విష‌యాల్ని వెల్ల‌డించారు.\"\n",
        "# text_vectorizer([sample_sentence]) # The text vectorization layer is working fine"
      ]
    },
    {
      "cell_type": "code",
      "execution_count": 25,
      "id": "0da228ad",
      "metadata": {
        "id": "0da228ad"
      },
      "outputs": [],
      "source": [
        "# Creating embedding layer\n",
        "embedding_1 = Embedding(input_dim=max_vocab_length,\n",
        "                       output_dim=128,\n",
        "                       embeddings_initializer='uniform',\n",
        "                       input_length=max_length,\n",
        "                       name=\"embedding_1\")"
      ]
    },
    {
      "cell_type": "code",
      "execution_count": 26,
      "id": "890d2895",
      "metadata": {
        "id": "890d2895"
      },
      "outputs": [],
      "source": [
        "# Test out the embedding layer\n",
        "# sample_sentence = \"ఇండియ‌న్ వారెన్ బ‌ఫెట్ రాకేష్ ఝున్‌ఝున్ వాలా ఐటీ ఉద్యోగాల‌పై ఆస‌క్తిక‌ర విష‌యాల్ని వెల్ల‌డించారు.\"\n",
        "# sample_embedding = embedding_1(text_vectorizer([sample_sentence]))\n",
        "# sample_embedding"
      ]
    },
    {
      "cell_type": "code",
      "execution_count": 27,
      "id": "869618bd",
      "metadata": {
        "colab": {
          "base_uri": "https://localhost:8080/"
        },
        "id": "869618bd",
        "outputId": "ffd093f0-3319-4f7c-adc7-2989d7a8816e"
      },
      "outputs": [
        {
          "output_type": "execute_result",
          "data": {
            "text/plain": [
              "(<PrefetchDataset element_spec=(TensorSpec(shape=(None,), dtype=tf.string, name=None), TensorSpec(shape=(None,), dtype=tf.int64, name=None))>,\n",
              " <PrefetchDataset element_spec=(TensorSpec(shape=(None,), dtype=tf.string, name=None), TensorSpec(shape=(None,), dtype=tf.int64, name=None))>,\n",
              " <PrefetchDataset element_spec=(TensorSpec(shape=(None,), dtype=tf.string, name=None), TensorSpec(shape=(None,), dtype=tf.int64, name=None))>)"
            ]
          },
          "metadata": {},
          "execution_count": 27
        }
      ],
      "source": [
        "# turn our data into tensorflow datasets\n",
        "train_sentences_dataset = tf.data.Dataset.from_tensor_slices(train_sentences)\n",
        "train_labels_encoded_dataset = tf.data.Dataset.from_tensor_slices(train_labels_encoded)\n",
        "train_data = tf.data.Dataset.zip((train_sentences_dataset, train_labels_encoded_dataset)).batch(32).prefetch(tf.data.AUTOTUNE)\n",
        "\n",
        "val_sentences_dataset = tf.data.Dataset.from_tensor_slices(val_sentences)\n",
        "val_labels_encoded_dataset = tf.data.Dataset.from_tensor_slices(val_labels_encoded)\n",
        "val_data = tf.data.Dataset.zip((val_sentences_dataset, val_labels_encoded_dataset)).batch(32).prefetch(tf.data.AUTOTUNE)\n",
        "\n",
        "test_sentences_dataset = tf.data.Dataset.from_tensor_slices(test_sentences)\n",
        "test_labels_encoded_dataset = tf.data.Dataset.from_tensor_slices(test_labels_encoded)\n",
        "test_data = tf.data.Dataset.zip((test_sentences_dataset, test_labels_encoded_dataset)).batch(32).prefetch(tf.data.AUTOTUNE)\n",
        "\n",
        "train_data, val_data, test_data"
      ]
    },
    {
      "cell_type": "markdown",
      "id": "e0e764cf",
      "metadata": {
        "id": "e0e764cf"
      },
      "source": [
        "## Let's build some models\n",
        "We've converted our text into numbers.\n",
        "Now let's build some models\n",
        "* Dense model\n",
        "* LSTM\n",
        "* GRU\n",
        "* Bidirectional LSTM\n",
        "* 1D Conv network\n",
        "* Transfer Learning"
      ]
    },
    {
      "cell_type": "markdown",
      "id": "3f7d7bec",
      "metadata": {
        "id": "3f7d7bec"
      },
      "source": [
        "### Dense model"
      ]
    },
    {
      "cell_type": "code",
      "execution_count": 28,
      "id": "fe4f5cbf",
      "metadata": {
        "id": "fe4f5cbf"
      },
      "outputs": [],
      "source": [
        "from tensorflow.keras.models import Sequential, Model\n",
        "from tensorflow.keras.layers import Dense, LSTM, GRU, Conv1D, Bidirectional, Input, GlobalAveragePooling1D, GlobalMaxPooling1D"
      ]
    },
    {
      "cell_type": "code",
      "execution_count": 29,
      "id": "26e6ef01",
      "metadata": {
        "id": "26e6ef01"
      },
      "outputs": [],
      "source": [
        "# Create dense model with Functinal API\n",
        "inputs = Input(shape=(1,), dtype=\"string\", name=\"input_layer\")\n",
        "x = text_vectorizer(inputs)\n",
        "x = embedding_1(x)\n",
        "x = GlobalAveragePooling1D(name='global_pooling_layer')(x)\n",
        "outputs = Dense(5, activation=\"softmax\", name=\"output_layer\")(x)\n",
        "\n",
        "model_1 = Model(inputs, outputs, name=\"dense_model\")"
      ]
    },
    {
      "cell_type": "code",
      "execution_count": 30,
      "id": "d42b229f",
      "metadata": {
        "colab": {
          "base_uri": "https://localhost:8080/"
        },
        "id": "d42b229f",
        "outputId": "15ca103d-7338-4b23-8db6-2ed9d2a84e44"
      },
      "outputs": [
        {
          "output_type": "stream",
          "name": "stdout",
          "text": [
            "Model: \"dense_model\"\n",
            "_________________________________________________________________\n",
            " Layer (type)                Output Shape              Param #   \n",
            "=================================================================\n",
            " input_layer (InputLayer)    [(None, 1)]               0         \n",
            "                                                                 \n",
            " text_vectorization (TextVec  (None, 173)              0         \n",
            " torization)                                                     \n",
            "                                                                 \n",
            " embedding_1 (Embedding)     (None, 173, 128)          1280000   \n",
            "                                                                 \n",
            " global_pooling_layer (Globa  (None, 128)              0         \n",
            " lAveragePooling1D)                                              \n",
            "                                                                 \n",
            " output_layer (Dense)        (None, 5)                 645       \n",
            "                                                                 \n",
            "=================================================================\n",
            "Total params: 1,280,645\n",
            "Trainable params: 1,280,645\n",
            "Non-trainable params: 0\n",
            "_________________________________________________________________\n"
          ]
        }
      ],
      "source": [
        "# Check the summary of the model\n",
        "model_1.summary()"
      ]
    },
    {
      "cell_type": "code",
      "execution_count": 31,
      "id": "4b5b9502",
      "metadata": {
        "id": "4b5b9502"
      },
      "outputs": [],
      "source": [
        "# Compile the model\n",
        "model_1.compile(loss=\"sparse_categorical_crossentropy\",\n",
        "               optimizer='adam',\n",
        "               metrics=[\"accuracy\"])"
      ]
    },
    {
      "cell_type": "code",
      "execution_count": 32,
      "id": "8e32310a",
      "metadata": {
        "colab": {
          "base_uri": "https://localhost:8080/"
        },
        "id": "8e32310a",
        "outputId": "3061a9dc-f2e0-4774-f268-84b0f7a2a307"
      },
      "outputs": [
        {
          "output_type": "stream",
          "name": "stdout",
          "text": [
            "Epoch 1/10\n",
            "433/433 [==============================] - 13s 18ms/step - loss: 1.0687 - accuracy: 0.6402 - val_loss: 0.6340 - val_accuracy: 0.7996\n",
            "Epoch 2/10\n",
            "433/433 [==============================] - 8s 18ms/step - loss: 0.4392 - accuracy: 0.8828 - val_loss: 0.3572 - val_accuracy: 0.8929\n",
            "Epoch 3/10\n",
            "433/433 [==============================] - 7s 15ms/step - loss: 0.2647 - accuracy: 0.9315 - val_loss: 0.2713 - val_accuracy: 0.9125\n",
            "Epoch 4/10\n",
            "433/433 [==============================] - 5s 11ms/step - loss: 0.1887 - accuracy: 0.9499 - val_loss: 0.2293 - val_accuracy: 0.9261\n",
            "Epoch 5/10\n",
            "433/433 [==============================] - 5s 11ms/step - loss: 0.1431 - accuracy: 0.9636 - val_loss: 0.2053 - val_accuracy: 0.9327\n",
            "Epoch 6/10\n",
            "433/433 [==============================] - 5s 11ms/step - loss: 0.1121 - accuracy: 0.9735 - val_loss: 0.1908 - val_accuracy: 0.9394\n",
            "Epoch 7/10\n",
            "433/433 [==============================] - 5s 11ms/step - loss: 0.0895 - accuracy: 0.9793 - val_loss: 0.1820 - val_accuracy: 0.9422\n",
            "Epoch 8/10\n",
            "433/433 [==============================] - 5s 11ms/step - loss: 0.0726 - accuracy: 0.9840 - val_loss: 0.1770 - val_accuracy: 0.9428\n",
            "Epoch 9/10\n",
            "433/433 [==============================] - 5s 11ms/step - loss: 0.0594 - accuracy: 0.9869 - val_loss: 0.1746 - val_accuracy: 0.9428\n",
            "Epoch 10/10\n",
            "433/433 [==============================] - 5s 11ms/step - loss: 0.0491 - accuracy: 0.9897 - val_loss: 0.1744 - val_accuracy: 0.9434\n"
          ]
        }
      ],
      "source": [
        "# Fit the model\n",
        "dense_model_history = model_1.fit(train_data,\n",
        "                                 epochs=10,\n",
        "                                 steps_per_epoch=len(train_data),\n",
        "                                 validation_data=val_data,\n",
        "                                 validation_steps=len(val_data))"
      ]
    },
    {
      "cell_type": "code",
      "source": [
        "# Get evaluation metrics for our dense model\n",
        "dense_results = calculate_results(val_labels_encoded, make_preds(model_1, val_data))\n",
        "dense_results"
      ],
      "metadata": {
        "colab": {
          "base_uri": "https://localhost:8080/"
        },
        "id": "WDljXEKB5TYO",
        "outputId": "3bf2e320-91cf-490f-c885-7daa6825474e"
      },
      "id": "WDljXEKB5TYO",
      "execution_count": 43,
      "outputs": [
        {
          "output_type": "execute_result",
          "data": {
            "text/plain": [
              "{'accuracy': 94.34016748483972,\n",
              " 'f1': 0.9433388059707539,\n",
              " 'precision': 0.9445587397947284,\n",
              " 'recall': 0.9434016748483973}"
            ]
          },
          "metadata": {},
          "execution_count": 43
        }
      ]
    },
    {
      "cell_type": "code",
      "execution_count": 33,
      "id": "64304742",
      "metadata": {
        "colab": {
          "base_uri": "https://localhost:8080/"
        },
        "id": "64304742",
        "outputId": "851d36a1-6e87-4a4a-c38d-000a39238395"
      },
      "outputs": [
        {
          "output_type": "stream",
          "name": "stdout",
          "text": [
            "136/136 [==============================] - 1s 6ms/step - loss: 0.1625 - accuracy: 0.9506\n"
          ]
        },
        {
          "output_type": "execute_result",
          "data": {
            "text/plain": [
              "[0.16247162222862244, 0.9505659341812134]"
            ]
          },
          "metadata": {},
          "execution_count": 33
        }
      ],
      "source": [
        "# calculate results\n",
        "dense_results = model_1.evaluate(test_data)\n",
        "dense_results"
      ]
    },
    {
      "cell_type": "markdown",
      "id": "41d437bb",
      "metadata": {
        "id": "41d437bb"
      },
      "source": [
        "### LSTM model"
      ]
    },
    {
      "cell_type": "code",
      "execution_count": 34,
      "id": "bce036ed",
      "metadata": {
        "colab": {
          "base_uri": "https://localhost:8080/"
        },
        "id": "bce036ed",
        "outputId": "15bf84ba-1fc6-4a9f-b92c-b05ae1478746"
      },
      "outputs": [
        {
          "output_type": "stream",
          "name": "stdout",
          "text": [
            "Epoch 1/10\n",
            "433/433 [==============================] - 24s 46ms/step - loss: 1.3746 - accuracy: 0.3958 - val_loss: 1.3763 - val_accuracy: 0.3910\n",
            "Epoch 2/10\n",
            "433/433 [==============================] - 19s 45ms/step - loss: 1.2767 - accuracy: 0.4639 - val_loss: 1.4096 - val_accuracy: 0.4069\n",
            "Epoch 3/10\n",
            "433/433 [==============================] - 20s 46ms/step - loss: 1.0236 - accuracy: 0.6313 - val_loss: 0.8356 - val_accuracy: 0.7173\n",
            "Epoch 4/10\n",
            "433/433 [==============================] - 19s 45ms/step - loss: 0.5983 - accuracy: 0.8090 - val_loss: 0.4366 - val_accuracy: 0.8727\n",
            "Epoch 5/10\n",
            "433/433 [==============================] - 19s 45ms/step - loss: 0.2850 - accuracy: 0.9233 - val_loss: 0.2877 - val_accuracy: 0.9197\n",
            "Epoch 6/10\n",
            "433/433 [==============================] - 19s 44ms/step - loss: 0.1431 - accuracy: 0.9615 - val_loss: 0.2376 - val_accuracy: 0.9327\n",
            "Epoch 7/10\n",
            "433/433 [==============================] - 19s 44ms/step - loss: 0.0869 - accuracy: 0.9783 - val_loss: 0.2276 - val_accuracy: 0.9379\n",
            "Epoch 8/10\n",
            "433/433 [==============================] - 19s 44ms/step - loss: 0.0639 - accuracy: 0.9851 - val_loss: 0.2317 - val_accuracy: 0.9391\n",
            "Epoch 9/10\n",
            "433/433 [==============================] - 19s 44ms/step - loss: 0.0492 - accuracy: 0.9893 - val_loss: 0.2444 - val_accuracy: 0.9411\n",
            "Epoch 10/10\n",
            "433/433 [==============================] - 19s 45ms/step - loss: 0.0349 - accuracy: 0.9923 - val_loss: 0.2968 - val_accuracy: 0.9356\n"
          ]
        }
      ],
      "source": [
        "# Recreate another embedding layer\n",
        "embedding_2 = Embedding(input_dim=max_vocab_length,\n",
        "                       output_dim=128,\n",
        "                        input_length=max_length,\n",
        "                       name=\"embedding_2\")\n",
        "\n",
        "# Create LSTM model with functional API\n",
        "inputs = Input(shape=(1,), dtype=\"string\", name=\"input_layer\")\n",
        "x = text_vectorizer(inputs)\n",
        "x = embedding_2(x)\n",
        "# x = LSTM(64, return_sequences=True)(x)\n",
        "x = LSTM(64)(x)\n",
        "outputs = Dense(5, activation=\"softmax\", name=\"output_layer\")(x)\n",
        "\n",
        "model_2 = Model(inputs, outputs, name=\"lstm_model\")\n",
        "\n",
        "# Compile the model\n",
        "model_2.compile(loss=\"sparse_categorical_crossentropy\",\n",
        "               optimizer='adam',\n",
        "               metrics=[\"accuracy\"])\n",
        "\n",
        "\n",
        "# Fit the model\n",
        "lstm_model_history = model_2.fit(train_data,\n",
        "                                 epochs=10,\n",
        "                                 steps_per_epoch=len(train_data),\n",
        "                                 validation_data=val_data,\n",
        "                                 validation_steps=len(val_data))"
      ]
    },
    {
      "cell_type": "code",
      "source": [
        "# Get evaluation metrics for our lstm model\n",
        "lstm_results = calculate_results(val_labels_encoded, make_preds(model_2, val_data))\n",
        "lstm_results"
      ],
      "metadata": {
        "colab": {
          "base_uri": "https://localhost:8080/"
        },
        "id": "57fNKRYm5reV",
        "outputId": "bc74e462-9669-419d-ff14-f281b7120833"
      },
      "id": "57fNKRYm5reV",
      "execution_count": 45,
      "outputs": [
        {
          "output_type": "execute_result",
          "data": {
            "text/plain": [
              "{'accuracy': 93.5604966791799,\n",
              " 'f1': 0.934641100429773,\n",
              " 'precision': 0.9364202501786795,\n",
              " 'recall': 0.935604966791799}"
            ]
          },
          "metadata": {},
          "execution_count": 45
        }
      ]
    },
    {
      "cell_type": "code",
      "source": [
        "# Evaluate on test data\n",
        "model_2.evaluate(test_data)"
      ],
      "metadata": {
        "id": "r0AHNDclViO0",
        "colab": {
          "base_uri": "https://localhost:8080/"
        },
        "outputId": "dd5f44aa-2977-4e27-d23b-d40b3a66ada3"
      },
      "id": "r0AHNDclViO0",
      "execution_count": 37,
      "outputs": [
        {
          "output_type": "stream",
          "name": "stdout",
          "text": [
            "136/136 [==============================] - 2s 17ms/step - loss: 0.2800 - accuracy: 0.9386\n"
          ]
        },
        {
          "output_type": "execute_result",
          "data": {
            "text/plain": [
              "[0.28002414107322693, 0.9385539293289185]"
            ]
          },
          "metadata": {},
          "execution_count": 37
        }
      ]
    },
    {
      "cell_type": "markdown",
      "source": [
        "### GRU model"
      ],
      "metadata": {
        "id": "szB3CaSdNfDE"
      },
      "id": "szB3CaSdNfDE"
    },
    {
      "cell_type": "code",
      "execution_count": 38,
      "id": "c41e1841",
      "metadata": {
        "id": "c41e1841",
        "colab": {
          "base_uri": "https://localhost:8080/"
        },
        "outputId": "2350fcfd-3a0c-4336-caf9-43da83ea5037"
      },
      "outputs": [
        {
          "output_type": "stream",
          "name": "stdout",
          "text": [
            "Epoch 1/10\n",
            "433/433 [==============================] - 28s 57ms/step - loss: 1.3656 - accuracy: 0.4115 - val_loss: 0.8978 - val_accuracy: 0.6708\n",
            "Epoch 2/10\n",
            "433/433 [==============================] - 21s 49ms/step - loss: 0.4159 - accuracy: 0.8577 - val_loss: 0.2154 - val_accuracy: 0.9324\n",
            "Epoch 3/10\n",
            "433/433 [==============================] - 23s 53ms/step - loss: 0.1097 - accuracy: 0.9692 - val_loss: 0.2092 - val_accuracy: 0.9385\n",
            "Epoch 4/10\n",
            "433/433 [==============================] - 19s 45ms/step - loss: 0.0493 - accuracy: 0.9880 - val_loss: 0.2214 - val_accuracy: 0.9417\n",
            "Epoch 5/10\n",
            "433/433 [==============================] - 19s 45ms/step - loss: 0.0258 - accuracy: 0.9943 - val_loss: 0.2473 - val_accuracy: 0.9417\n",
            "Epoch 6/10\n",
            "433/433 [==============================] - 19s 45ms/step - loss: 0.0130 - accuracy: 0.9966 - val_loss: 0.2512 - val_accuracy: 0.9414\n",
            "Epoch 7/10\n",
            "433/433 [==============================] - 20s 45ms/step - loss: 0.0078 - accuracy: 0.9982 - val_loss: 0.2932 - val_accuracy: 0.9399\n",
            "Epoch 8/10\n",
            "433/433 [==============================] - 20s 45ms/step - loss: 0.0080 - accuracy: 0.9981 - val_loss: 0.2916 - val_accuracy: 0.9399\n",
            "Epoch 9/10\n",
            "433/433 [==============================] - 19s 45ms/step - loss: 0.0037 - accuracy: 0.9990 - val_loss: 0.3568 - val_accuracy: 0.9394\n",
            "Epoch 10/10\n",
            "433/433 [==============================] - 20s 45ms/step - loss: 0.0047 - accuracy: 0.9984 - val_loss: 0.3339 - val_accuracy: 0.9434\n"
          ]
        }
      ],
      "source": [
        "# Recreate another embedding layer\n",
        "embedding_3 = Embedding(input_dim=max_vocab_length,\n",
        "                       output_dim=128,\n",
        "                        input_length=max_length,\n",
        "                       name=\"embedding_3\")\n",
        "\n",
        "# Create LSTM model with functional API\n",
        "inputs = Input(shape=(1,), dtype=\"string\", name=\"input_layer\")\n",
        "x = text_vectorizer(inputs)\n",
        "x = embedding_3(x)\n",
        "x = GRU(64)(x)\n",
        "outputs = Dense(5, activation=\"softmax\", name=\"output_layer\")(x)\n",
        "\n",
        "model_3 = Model(inputs, outputs, name=\"gru_model\")\n",
        "\n",
        "# Compile the model\n",
        "model_3.compile(loss=\"sparse_categorical_crossentropy\",\n",
        "               optimizer='adam',\n",
        "               metrics=[\"accuracy\"])\n",
        "\n",
        "\n",
        "# Fit the model\n",
        "gru_model_history = model_3.fit(train_data,\n",
        "                                 epochs=10,\n",
        "                                 steps_per_epoch=len(train_data),\n",
        "                                 validation_data=val_data,\n",
        "                                 validation_steps=len(val_data))"
      ]
    },
    {
      "cell_type": "code",
      "source": [
        "# Get evaluation metrics for our gru model\n",
        "gru_results = calculate_results(val_labels_encoded, make_preds(model_3, val_data)) \n",
        "gru_results"
      ],
      "metadata": {
        "colab": {
          "base_uri": "https://localhost:8080/"
        },
        "id": "ghBCZptv533r",
        "outputId": "f678b754-0cbb-460b-d04b-f6f69d4a14ea"
      },
      "id": "ghBCZptv533r",
      "execution_count": 46,
      "outputs": [
        {
          "output_type": "execute_result",
          "data": {
            "text/plain": [
              "{'accuracy': 94.34016748483972,\n",
              " 'f1': 0.9430489184705798,\n",
              " 'precision': 0.9432792111940288,\n",
              " 'recall': 0.9434016748483973}"
            ]
          },
          "metadata": {},
          "execution_count": 46
        }
      ]
    },
    {
      "cell_type": "code",
      "source": [
        "model_3.evaluate(test_data)"
      ],
      "metadata": {
        "id": "Gz16ecqyVqsJ",
        "colab": {
          "base_uri": "https://localhost:8080/"
        },
        "outputId": "8b177dee-e652-4cbb-df90-0fe21b8a08cf"
      },
      "id": "Gz16ecqyVqsJ",
      "execution_count": 39,
      "outputs": [
        {
          "output_type": "stream",
          "name": "stdout",
          "text": [
            "136/136 [==============================] - 2s 18ms/step - loss: 0.3548 - accuracy: 0.9319\n"
          ]
        },
        {
          "output_type": "execute_result",
          "data": {
            "text/plain": [
              "[0.35483884811401367, 0.9318549036979675]"
            ]
          },
          "metadata": {},
          "execution_count": 39
        }
      ]
    },
    {
      "cell_type": "markdown",
      "source": [
        "### Bidirectional model\n"
      ],
      "metadata": {
        "id": "_cVyXwoWNiWq"
      },
      "id": "_cVyXwoWNiWq"
    },
    {
      "cell_type": "code",
      "source": [
        "# Recreate another embedding layer\n",
        "embedding_4 = Embedding(input_dim=max_vocab_length,\n",
        "                       output_dim=128,\n",
        "                        input_length=max_length,\n",
        "                       name=\"embedding_4\")\n",
        "\n",
        "# Create LSTM model with functional API\n",
        "inputs = Input(shape=(1,), dtype=\"string\", name=\"input_layer\")\n",
        "x = text_vectorizer(inputs)\n",
        "x = embedding_4(x)\n",
        "x = Bidirectional(GRU(64))(x)\n",
        "outputs = Dense(5, activation=\"softmax\", name=\"output_layer\")(x)\n",
        "\n",
        "model_4 = Model(inputs, outputs, name=\"bidirectional_model\")\n",
        "\n",
        "# Compile the model\n",
        "model_4.compile(loss=\"sparse_categorical_crossentropy\",\n",
        "               optimizer='adam',\n",
        "               metrics=[\"accuracy\"])\n",
        "\n",
        "\n",
        "# Fit the model\n",
        "bidirectional_model_history = model_4.fit(train_data,\n",
        "                                 epochs=10,\n",
        "                                 steps_per_epoch=len(train_data),\n",
        "                                 validation_data=val_data,\n",
        "                                 validation_steps=len(val_data))"
      ],
      "metadata": {
        "id": "lNaAiOTiNkEa",
        "colab": {
          "base_uri": "https://localhost:8080/"
        },
        "outputId": "110b071f-56a9-4915-defd-d9846731b0af"
      },
      "id": "lNaAiOTiNkEa",
      "execution_count": 40,
      "outputs": [
        {
          "output_type": "stream",
          "name": "stdout",
          "text": [
            "Epoch 1/10\n",
            "433/433 [==============================] - 40s 84ms/step - loss: 0.5583 - accuracy: 0.7965 - val_loss: 0.2442 - val_accuracy: 0.9174\n",
            "Epoch 2/10\n",
            "433/433 [==============================] - 35s 82ms/step - loss: 0.1426 - accuracy: 0.9539 - val_loss: 0.2380 - val_accuracy: 0.9255\n",
            "Epoch 3/10\n",
            "433/433 [==============================] - 35s 82ms/step - loss: 0.0596 - accuracy: 0.9845 - val_loss: 0.2410 - val_accuracy: 0.9310\n",
            "Epoch 4/10\n",
            "433/433 [==============================] - 37s 86ms/step - loss: 0.0283 - accuracy: 0.9926 - val_loss: 0.2837 - val_accuracy: 0.9324\n",
            "Epoch 5/10\n",
            "433/433 [==============================] - 39s 90ms/step - loss: 0.0140 - accuracy: 0.9962 - val_loss: 0.2987 - val_accuracy: 0.9249\n",
            "Epoch 6/10\n",
            "433/433 [==============================] - 38s 87ms/step - loss: 0.0086 - accuracy: 0.9979 - val_loss: 0.3284 - val_accuracy: 0.9261\n",
            "Epoch 7/10\n",
            "433/433 [==============================] - 38s 88ms/step - loss: 0.0086 - accuracy: 0.9979 - val_loss: 0.3434 - val_accuracy: 0.9209\n",
            "Epoch 8/10\n",
            "433/433 [==============================] - 38s 87ms/step - loss: 0.0059 - accuracy: 0.9986 - val_loss: 0.3587 - val_accuracy: 0.9246\n",
            "Epoch 9/10\n",
            "433/433 [==============================] - 38s 87ms/step - loss: 0.0053 - accuracy: 0.9985 - val_loss: 0.3554 - val_accuracy: 0.9243\n",
            "Epoch 10/10\n",
            "433/433 [==============================] - 37s 87ms/step - loss: 0.0041 - accuracy: 0.9989 - val_loss: 0.3806 - val_accuracy: 0.9217\n"
          ]
        }
      ]
    },
    {
      "cell_type": "code",
      "source": [
        "# Get results for the bidirectional model\n",
        "bidirectional_results = calculate_results(val_labels_encoded, make_preds(model_4, val_data))\n",
        "bidirectional_results"
      ],
      "metadata": {
        "colab": {
          "base_uri": "https://localhost:8080/"
        },
        "id": "pm1tIu1C6J-e",
        "outputId": "ec58c619-d546-4947-e034-6b57208f7217"
      },
      "id": "pm1tIu1C6J-e",
      "execution_count": 48,
      "outputs": [
        {
          "output_type": "execute_result",
          "data": {
            "text/plain": [
              "{'accuracy': 92.17441524689576,\n",
              " 'f1': 0.9200659982956063,\n",
              " 'precision': 0.9202233317405448,\n",
              " 'recall': 0.9217441524689576}"
            ]
          },
          "metadata": {},
          "execution_count": 48
        }
      ]
    },
    {
      "cell_type": "code",
      "source": [
        "model_4.evaluate(test_data)"
      ],
      "metadata": {
        "id": "g8kC975_StQn",
        "colab": {
          "base_uri": "https://localhost:8080/"
        },
        "outputId": "765d531e-b9b6-48b1-ff42-e0d45ebe220a"
      },
      "id": "g8kC975_StQn",
      "execution_count": 49,
      "outputs": [
        {
          "output_type": "stream",
          "name": "stdout",
          "text": [
            "136/136 [==============================] - 5s 34ms/step - loss: 0.4134 - accuracy: 0.9265\n"
          ]
        },
        {
          "output_type": "execute_result",
          "data": {
            "text/plain": [
              "[0.41337162256240845, 0.9265419244766235]"
            ]
          },
          "metadata": {},
          "execution_count": 49
        }
      ]
    },
    {
      "cell_type": "code",
      "source": [
        "# Visualize model metrics\n",
        "import pandas as pd\n",
        "\n",
        "results = pd.DataFrame({\"dense_model\": dense_results,\n",
        "                        \"lstm_model\": lstm_results,\n",
        "                        \"gru_model\": gru_results,\n",
        "                        \"bidirectional_model(GRU layer)\": bidirectional_results})\n",
        "results = results.T\n",
        "results"
      ],
      "metadata": {
        "colab": {
          "base_uri": "https://localhost:8080/",
          "height": 174
        },
        "id": "3IIFBjvj7J0V",
        "outputId": "8c76be89-fe1a-4044-9437-2db4cadfe1b7"
      },
      "id": "3IIFBjvj7J0V",
      "execution_count": 76,
      "outputs": [
        {
          "output_type": "execute_result",
          "data": {
            "text/html": [
              "\n",
              "  <div id=\"df-7cc5d270-675a-498f-aeaa-ee8a31cf84a5\">\n",
              "    <div class=\"colab-df-container\">\n",
              "      <div>\n",
              "<style scoped>\n",
              "    .dataframe tbody tr th:only-of-type {\n",
              "        vertical-align: middle;\n",
              "    }\n",
              "\n",
              "    .dataframe tbody tr th {\n",
              "        vertical-align: top;\n",
              "    }\n",
              "\n",
              "    .dataframe thead th {\n",
              "        text-align: right;\n",
              "    }\n",
              "</style>\n",
              "<table border=\"1\" class=\"dataframe\">\n",
              "  <thead>\n",
              "    <tr style=\"text-align: right;\">\n",
              "      <th></th>\n",
              "      <th>accuracy</th>\n",
              "      <th>precision</th>\n",
              "      <th>recall</th>\n",
              "      <th>f1</th>\n",
              "    </tr>\n",
              "  </thead>\n",
              "  <tbody>\n",
              "    <tr>\n",
              "      <th>dense_model</th>\n",
              "      <td>94.340167</td>\n",
              "      <td>0.944559</td>\n",
              "      <td>0.943402</td>\n",
              "      <td>0.943339</td>\n",
              "    </tr>\n",
              "    <tr>\n",
              "      <th>lstm_model</th>\n",
              "      <td>93.560497</td>\n",
              "      <td>0.936420</td>\n",
              "      <td>0.935605</td>\n",
              "      <td>0.934641</td>\n",
              "    </tr>\n",
              "    <tr>\n",
              "      <th>gru_model</th>\n",
              "      <td>94.340167</td>\n",
              "      <td>0.943279</td>\n",
              "      <td>0.943402</td>\n",
              "      <td>0.943049</td>\n",
              "    </tr>\n",
              "    <tr>\n",
              "      <th>bidirectional_model(GRU layer)</th>\n",
              "      <td>92.174415</td>\n",
              "      <td>0.920223</td>\n",
              "      <td>0.921744</td>\n",
              "      <td>0.920066</td>\n",
              "    </tr>\n",
              "  </tbody>\n",
              "</table>\n",
              "</div>\n",
              "      <button class=\"colab-df-convert\" onclick=\"convertToInteractive('df-7cc5d270-675a-498f-aeaa-ee8a31cf84a5')\"\n",
              "              title=\"Convert this dataframe to an interactive table.\"\n",
              "              style=\"display:none;\">\n",
              "        \n",
              "  <svg xmlns=\"http://www.w3.org/2000/svg\" height=\"24px\"viewBox=\"0 0 24 24\"\n",
              "       width=\"24px\">\n",
              "    <path d=\"M0 0h24v24H0V0z\" fill=\"none\"/>\n",
              "    <path d=\"M18.56 5.44l.94 2.06.94-2.06 2.06-.94-2.06-.94-.94-2.06-.94 2.06-2.06.94zm-11 1L8.5 8.5l.94-2.06 2.06-.94-2.06-.94L8.5 2.5l-.94 2.06-2.06.94zm10 10l.94 2.06.94-2.06 2.06-.94-2.06-.94-.94-2.06-.94 2.06-2.06.94z\"/><path d=\"M17.41 7.96l-1.37-1.37c-.4-.4-.92-.59-1.43-.59-.52 0-1.04.2-1.43.59L10.3 9.45l-7.72 7.72c-.78.78-.78 2.05 0 2.83L4 21.41c.39.39.9.59 1.41.59.51 0 1.02-.2 1.41-.59l7.78-7.78 2.81-2.81c.8-.78.8-2.07 0-2.86zM5.41 20L4 18.59l7.72-7.72 1.47 1.35L5.41 20z\"/>\n",
              "  </svg>\n",
              "      </button>\n",
              "      \n",
              "  <style>\n",
              "    .colab-df-container {\n",
              "      display:flex;\n",
              "      flex-wrap:wrap;\n",
              "      gap: 12px;\n",
              "    }\n",
              "\n",
              "    .colab-df-convert {\n",
              "      background-color: #E8F0FE;\n",
              "      border: none;\n",
              "      border-radius: 50%;\n",
              "      cursor: pointer;\n",
              "      display: none;\n",
              "      fill: #1967D2;\n",
              "      height: 32px;\n",
              "      padding: 0 0 0 0;\n",
              "      width: 32px;\n",
              "    }\n",
              "\n",
              "    .colab-df-convert:hover {\n",
              "      background-color: #E2EBFA;\n",
              "      box-shadow: 0px 1px 2px rgba(60, 64, 67, 0.3), 0px 1px 3px 1px rgba(60, 64, 67, 0.15);\n",
              "      fill: #174EA6;\n",
              "    }\n",
              "\n",
              "    [theme=dark] .colab-df-convert {\n",
              "      background-color: #3B4455;\n",
              "      fill: #D2E3FC;\n",
              "    }\n",
              "\n",
              "    [theme=dark] .colab-df-convert:hover {\n",
              "      background-color: #434B5C;\n",
              "      box-shadow: 0px 1px 3px 1px rgba(0, 0, 0, 0.15);\n",
              "      filter: drop-shadow(0px 1px 2px rgba(0, 0, 0, 0.3));\n",
              "      fill: #FFFFFF;\n",
              "    }\n",
              "  </style>\n",
              "\n",
              "      <script>\n",
              "        const buttonEl =\n",
              "          document.querySelector('#df-7cc5d270-675a-498f-aeaa-ee8a31cf84a5 button.colab-df-convert');\n",
              "        buttonEl.style.display =\n",
              "          google.colab.kernel.accessAllowed ? 'block' : 'none';\n",
              "\n",
              "        async function convertToInteractive(key) {\n",
              "          const element = document.querySelector('#df-7cc5d270-675a-498f-aeaa-ee8a31cf84a5');\n",
              "          const dataTable =\n",
              "            await google.colab.kernel.invokeFunction('convertToInteractive',\n",
              "                                                     [key], {});\n",
              "          if (!dataTable) return;\n",
              "\n",
              "          const docLinkHtml = 'Like what you see? Visit the ' +\n",
              "            '<a target=\"_blank\" href=https://colab.research.google.com/notebooks/data_table.ipynb>data table notebook</a>'\n",
              "            + ' to learn more about interactive tables.';\n",
              "          element.innerHTML = '';\n",
              "          dataTable['output_type'] = 'display_data';\n",
              "          await google.colab.output.renderOutput(dataTable, element);\n",
              "          const docLink = document.createElement('div');\n",
              "          docLink.innerHTML = docLinkHtml;\n",
              "          element.appendChild(docLink);\n",
              "        }\n",
              "      </script>\n",
              "    </div>\n",
              "  </div>\n",
              "  "
            ],
            "text/plain": [
              "                                 accuracy  precision    recall        f1\n",
              "dense_model                     94.340167   0.944559  0.943402  0.943339\n",
              "lstm_model                      93.560497   0.936420  0.935605  0.934641\n",
              "gru_model                       94.340167   0.943279  0.943402  0.943049\n",
              "bidirectional_model(GRU layer)  92.174415   0.920223  0.921744  0.920066"
            ]
          },
          "metadata": {},
          "execution_count": 76
        }
      ]
    },
    {
      "cell_type": "code",
      "source": [
        "import matplotlib.pyplot as plt\n",
        "results[\"accuracy\"].plot(kind=\"bar\", figsize=(10, 7))\n",
        "plt.legend(bbox_to_anchor=(1.05, 1));\n",
        "\n",
        "plt.show()"
      ],
      "metadata": {
        "colab": {
          "base_uri": "https://localhost:8080/",
          "height": 574
        },
        "id": "jImQ1aUU7s0c",
        "outputId": "b74c0084-ee43-4cbf-9e3f-d88822ebfdc6"
      },
      "id": "jImQ1aUU7s0c",
      "execution_count": 81,
      "outputs": [
        {
          "output_type": "display_data",
          "data": {
            "image/png": "[encoded data removed]",
            "text/plain": [
              "<Figure size 720x504 with 1 Axes>"
            ]
          },
          "metadata": {
            "needs_background": "light"
          }
        }
      ]
    },
    {
      "cell_type": "code",
      "source": [
        "# Visualise model predictions\n",
        "visualize_random_preds(model_3)"
      ],
      "metadata": {
        "id": "w3y9wUBvUrRS",
        "colab": {
          "base_uri": "https://localhost:8080/"
        },
        "outputId": "95482bc4-4844-4df7-eae7-449206a0cef3"
      },
      "id": "w3y9wUBvUrRS",
      "execution_count": 50,
      "outputs": [
        {
          "output_type": "stream",
          "name": "stdout",
          "text": [
            "Text: \n",
            "బెంగళూరు: విలక్షణ నటుడు ప్రకాష్ రాజ్ మరోసారి సంచలన వ్యాఖ్యలు చేశారు. సినిమా వాళ్లు రాజకీయాల్లోకి వస్తే దేశం నాశనమవుతుందని అన్నారు. తాను రాజకీయాల్లోకి రావాలనుకోవడం లేదని చెప్పారు. ఆదివారంనాడిక్కడ మీడియాతో ఆయన మాట్లాడుతూ, రాజకీయాల్లోకి నటులు రావడం తాను ఇష్టపడనని చెప్పారు. ఎందుకంటే వారు నటులని, అభిమానులు ఉంటారని అన్నారు. నటులుగా తమకున్న బాధ్యతలను వారు గుర్తెరగాలని ఆయన అన్నారు. ప్రకాష్ రాజ్ రాజకీయాల్లోకి వస్తారని కొద్దికాలంగా వస్తున్న ఊహాగానాలను ఆయన కొట్టివేశారు. ఏ రాజకీయ పార్టీలోనూ తాను చేరిదే లేదని స్పష్టం చేశారు. సినిమా హాళ్లలో జాతీయగీతాలాపన సమయంలో ప్రేక్షకులు తప్పనిసరిగా లేచి నిలబడి దేశభక్తిని  నిరూపించుకోవాలని తాను అనుకోవడం లేదని అన్నారు. పలు అంశాలపై తాను అభిప్రాయాలు చెప్పినప్పుడు కొందరు తన పనిని అడ్డుకోవాలని చూస్తున్నారని, అయితే వారి పేర్లు తాను వెల్లడించనని అన్నారు. 'నా చివరి క్షణం వరకూ తినేందుకు అవసరమైన డబ్బు నా దగ్గర ఉంది' అని ఆయన పేర్కొన్నారు. బెంగళూరులో జర్నలిస్టు గౌరీ లంకేష్ హత్య విషయంలో ప్రధాని మోదీ మౌనంగా ఉండటాన్ని గత నెలలో ప్రకాష్ రాజ్ ప్రశ్నించారు. మోదీ తనకంటే మంచి నటుడంటూ చమత్కరించారు.\n",
            "\n",
            "Predicted label: nation\n",
            "\n",
            "Original label: nation\n",
            "\n"
          ]
        }
      ]
    },
    {
      "cell_type": "code",
      "source": [
        "visualize_random_preds(model_3)"
      ],
      "metadata": {
        "id": "CBHOVtiTZIgo",
        "colab": {
          "base_uri": "https://localhost:8080/"
        },
        "outputId": "4c5f8a48-cc31-4f15-d5a3-af310a797a29"
      },
      "id": "CBHOVtiTZIgo",
      "execution_count": 51,
      "outputs": [
        {
          "output_type": "stream",
          "name": "stdout",
          "text": [
            "Text: \n",
            "క్లీన్‌స్వీప్ లక్ష్యంగా భారత్ప్రయోగాలకు సిద్ధం!నేడు శ్రీలంకతో చివరి టీ20 ‘రికార్డు’ స్థాయి ఆటతీరుతో వరుసగా రెండు టీ20 లను నెగ్గి ఇప్పటికే సిరీస్‌ను పట్టేశారు.. ఇక మిగిలింది లంకను వైట్‌వాష్‌ చేయడమే! టెస్టులు, వన్డేల్లో కాస్త పోటీ ఎదురైనా పొట్టి ఫార్మాట్‌లో భారత్‌ భీకర ఆటతీరుతో పర్యాటక జట్టుపై విరుచుకుపడుతోంది. ఇదే జోరును కొనసాగించడంతో పాటు తమ రిజర్వ్‌ బెంచ్‌ బలాన్ని పరీక్షించుకునేందుకూ భారత్‌కు ఇదే సరైన సమయం. అలాగే ఈ ఏడాదిని దిగ్విజయంగా ముగిస్తూ కఠినమైన దక్షిణాఫ్రికా పర్యటనకు జోష్‌గా వెళ్లాలని భావిస్తోంది. మరోవైపు బౌలర్ల నుంచి ఎలాంటి సహకారం అందని స్థితికి తోడు కీలక ఆటగాడు మాథ్యూస్‌ దూరం కావడం లంకను ఇబ్బంది పెడుతోంది. ఈ నేపథ్యంలో ఆఖరి పోరులోనైనా నెగ్గి పరువు కాపాడుకుంటుందో లేదో చూడాలి. ముంబై: భారత్‌తో జరుగుతున్న మూడు టీ20ల సిరీస్‌ నిజానికి శ్రీలంకకు పీడకలగా మిగులుతోంది. ఈ సిరీస్‌లో మొదటి మ్యాచ్‌ ఆ జట్టుకు ఓవరాల్‌గా వందోది.. చిరస్మరణీయం కావాల్సిన ఆ మ్యాచ్‌ వారికి చేదు అనుభ వాన్నే మిగిల్చింది. కేవలం 87 పరుగులకే కుప్పకూలి 93 రన్స్‌ తేడాతో ఓడింది. ఇది ఆ జట్టుకు అత్యధిక పరుగుల తేడా ఓట మి. ఇక రెండో మ్యాచ్‌లో రోహిత్‌ ఊచకోతతో 88 పరుగుల తేడాతో ఎదురైన పరాజయాన్ని అంత సులువుగా మర్చిపోరు. ఈ నేపథ్యంలో ఆత్మవిశ్వాసం పూర్తిగా అడుగంటిన వేళ లంక చివరి మ్యాచ్‌కు సిద్దమైంది. ఆదివారం వాంఖడే మైదా నంలో జరిగే ఈ మ్యాచ్‌లో భారత్‌ మాత్రం ప్రత్యర్థిని 3-0తో క్లీన్‌స్వీప్‌ చేసేందుకు వేచి చూస్తోంది. అన్ని విభాగాల్లో పటిష్టంగా కనిపిస్తు న్న వేళ ప్రయోగాలకు కూడా చోటివ్వాలనే ఆలోచనలో ఉంది. నిజానికి ఈ సిరీస్‌ లో ఇప్పటిదాకా జరిగిన రెండూ ఏకపక్ష మ్యాచ్‌లే.. సఫారీ పర్యటనకు ముందు ఇది వారికి సరైన సన్నాహకం అని పించుకోకపోయినా సీనియర్ల గై ర్హాజరీలోనూ యువ జట్టు మెరుగ్గా ఆడుతుండడం సానుకూలాంశమే.భారత్‌ జోరు..: టీ20ల్లో అత్యంత వేగవంతమైన సెంచరీని సమం చేసి ఊపుమీదున్న ఓపెనర్‌ రోహిత్‌ శర్మ ఎప్పటిలా గే జట్టు శుభారంభానికి కీలకం కానున్నాడు. మరో ఓపెనర్‌ రాహుల్‌ వరుసగా రెండు హాఫ్‌ సెంచరీలతో అదరగొ ట్టాడు. అయ్యర్‌, మనీశ్‌, ధోనీ అవసరమైనప్పుడల్లా తమ బ్యాట్లకు పనిచెబుతున్నారు. రెండో మ్యాచ్‌లో బ్యాటింగ్‌ ఆర్డర్‌లో ముందుగానే వచ్చిన ధోనీ ఆకట్టుకున్నాడు. ఈ మ్యాచ్‌లోనూ ఒకవేళ ఓపెనర్లు మెరుపు ఆరంభాన్నిస్తే మరోసారి ధోనీతో ప్రయోగం చేయవచ్చు. అయితే లోకల్‌ బాయ్‌ అయ్యర్‌ క్రీజులో  నిలదొక్కుకుని భారీస్కోర్లు సాధించాల్సిన అవసరం ఉంది. దశ, దిశ లేకుండా సాగుతున్న లంక బౌలింగ్‌ను భారత బ్యాటింగ్‌ ఆర్డర్‌ మరోసారి చావుదెబ్బ తీయడం ఖాయంగానే కనిపిస్తోంది. స్పిన్‌ ద్వయం యజ్వేంద్ర చాహల్‌, కుల్దీప్‌ యాదవ్‌ జట్టు తమపై పెట్టుకున్న ఆశలను ఏమాత్రం వమ్ము చేయడం లేదు. ఉనాద్కట్‌ ఇంకా మెరుగ్గా రాణించాల్సి ఉంది. బుమ్రా, పాండ్యా తమ స్థాయికి తగ్గ ప్రదర్శన కనబరుస్తున్నారు.  ప్రయోగాలకు చోటిస్తారా?సిరీస్‌లో కోల్పోవాల్సిందేమీ లేకపోవడంతో టీమ్‌ మేనేజిమెంట్‌ యువ ఆటగాళ్లకు చాన్స్‌ ఇవ్వవచ్చు. బాసిల్‌ థంపి, వాషింగ్టన్‌ సుందర్‌, దీపక్‌ హుడా అరంగేట్రం కోసం సిద్ధంగా ఉన్నారు. ఇద్దరు స్పిన్నర్ల స్థానంలో సుందర్‌, హుడాలలో ఒకరితో భర్తీ చేయవచ్చు. ఇక ఉనాద్కట్‌ను తొలగించదలుచుకుంటే థంపీకి అవకాశం చిక్కవచ్చు. దిక్కుతోచని స్థితిలో లంకమ్యాచ్‌కు ముందే లంకకు మాథ్యూస్‌ రూపంలో గట్టి ఎదురుదెబ్బ తగిలింది. ఈ ఆల్‌రౌండర్‌ గాయం కారణంగా దూరం కానున్నాడు. ఇక బ్యాటింగ్‌ భారమంతా ఉపుల్‌ తరంగపై పడనుంది. కుశాల్‌ పెరీరా రెండో మ్యాచ్‌లో 37 బంతుల్లో 77 పరుగులతో రాణించి జట్టులో ఆశలు రేపాడు. నేటి మ్యాచ్‌లో కూడా అలాంటి ఇన్నింగ్స్‌ను ఆశిస్తోంది. ఇక బౌలర్లంతా మూకుమ్మడిగా విఫలమై భారీగా పరుగులు సమర్పించుకోవడం వీరిని కోలుకోనీయడం లేదు.  జట్లు: (అంచనా)భారత్‌: రోహిత్‌ (కెప్టెన్‌), రాహుల్‌, అయ్యర్‌, దినేశ్‌ కార్తీక్‌, పాండే, ధోనీ, పాండ్యా, కుల్దీప్‌/సుందర్‌, ఉనాద్కట్‌ /థంపీ, బుమ్రా, యజ్వేంద్ర చాహల్‌.శ్రీలంక: తరంగ, డిక్‌వెలా, కుశాల్‌, సమరవిక్రమ, పెరీరా, గుణరత్నె, షనక/ఫెర్నాండో, ధనంజయ, డి సిల్వ/పథిరన, చమీర, ప్రదీప్‌. పిచ్‌, వాతావరణంవాంఖడే ఫ్లాట్‌ పిచ్‌.. వేగంగా స్పందించే అవుట్‌ ఫీల్డ్‌ ఏ బ్యాట్స్‌మన్‌కైనా పండగే..  అందుకే టీ20ల్లో ఇక్కడ 190కి పైగా పరుగులను కూడా అలవోకగా ఛేదించడం జరుగుతోంది. రాత్రి వేళ మంచు ప్రభావం చూపనుంది. టాస్‌ నెగ్గిన జట్టు బౌలింగ్‌ ఎంచుకోవచ్చు. వర్షం నుంచి ఎలాంటి ఇబ్బంది ఉండదు.\n",
            "\n",
            "Predicted label: sports\n",
            "\n",
            "Original label: sports\n",
            "\n"
          ]
        }
      ]
    },
    {
      "cell_type": "code",
      "source": [
        "visualize_random_preds(model_3)"
      ],
      "metadata": {
        "id": "725UsDFWcogg",
        "colab": {
          "base_uri": "https://localhost:8080/"
        },
        "outputId": "8e73442d-d99c-4b89-ba52-e1270a84d8e6"
      },
      "id": "725UsDFWcogg",
      "execution_count": 52,
      "outputs": [
        {
          "output_type": "stream",
          "name": "stdout",
          "text": [
            "Text: \n",
            "\n",
            "టర్కీ తీరంలో మృతశిశువు..అలన్‌ కుర్దీ గుర్తున్నాడా? ఆ బాలుడిలాంటి దీనగాథే ఈ పసికందుదీ!! అమ్మఒడిలో ఆనందంగా ఆటలాడుకోవాల్సిన పదహారు నెలల చిన్నారి.. ఇలా చనిపోయి బురదలో మృతశిశువుగా పడి ఉండటం వెనుక కూడా అదే కథ..! ఈ చిన్నారి పేరు మహ్మద్‌ షొహాయత. మయన్మార్‌లోని రఖైన్‌ ప్రాంతంలో నివసిస్తున్న రోహింగ్యా వర్గానికి చెందిన జాఫర్‌ ఆలం కుమారుడు. మయన్మార్‌లో రోహింగ్యా ముస్లిం వర్గంపై జరుగుతున్న దాడుల నుంచి తప్పించుకునేందుకు ఆలం కుటుంబం పడవలో బంగ్లాదేశ్‌కు బయల్దేరడానికి సిద్ధమైంది. ఈ విషయం తెలిసి మయన్మార్‌ పోలీసులు అక్కడికి చేరుకుని కాల్పులు ప్రారంభించారు. బోటు నడిపేవారు.. కాల్పులు తప్పించుకునే తొందరలో శరణార్థులందరినీ ఎక్కించుకుని బయల్దేరారు. పరిమితికి మించిన బరువుతో నిండుగర్భిణిలా బయల్దేరిన పడవ.. గమ్యం చేరకముందే నాఫ్‌ నదిలో మునిగిపోయింది. 16 నెలల షొహాయత, అతడి తల్లి, మేనమామ, మూడేళ్ల సోదరుడు ఈ ప్రమాదంలో అసువులు బాశారు. షొహాయత శరీరం ఇలా ఒడ్డుకు కొట్టుకొచ్చింది. ముద్దులొలికే బిడ్డను ఇలా మృతదేహంగా చూసి ఆ కన్నతండ్రి హృదయవిదారకంగా రోదిస్తున్నాడు. ఇక ఈ లోకంలో తాను బతికి అర్థంలేదని విలపిస్తున్నాడు.\n",
            "\n",
            "Predicted label: nation\n",
            "\n",
            "Original label: nation\n",
            "\n"
          ]
        }
      ]
    },
    {
      "cell_type": "code",
      "source": [
        "visualize_random_preds(model_3)"
      ],
      "metadata": {
        "id": "Dc7MIvpocpO2",
        "colab": {
          "base_uri": "https://localhost:8080/"
        },
        "outputId": "c487119a-cbd4-4b74-ede8-e087cb880521"
      },
      "id": "Dc7MIvpocpO2",
      "execution_count": 54,
      "outputs": [
        {
          "output_type": "stream",
          "name": "stdout",
          "text": [
            "Text: \n",
            " చెన్నై: ప్రసారమాధ్యమాల్లో నిర్వహించే చర్చావేదికల్లో పాల్గొని పార్టీలో చిచ్చు రగిలేందుకు కారణమవుతున్న సీనియర్‌ నేతలను ముఖ్యమంత్రి ఎడప్పాడి, ఉపముఖ్యమంత్రి పన్నీర్‌ సెల్వంలు తీవ్రంగా హెచ్చరించినట్టు తెలుస్తోంది. ఇకమీదట తదుపరి ఉత్తర్వులు అందేవరకు ఎవరూ టీవీ చర్చావేదికల్లో పాల్గొన కూడదని ఆంక్షలు విధించారు. మాజీ ముఖ్యమంత్రి జయలలిత హయాంలో పార్టీ నాయకులు గానీ, మంత్రులు గానీ ప్రసారమాధ్యమాలకు దూరంగా ఉండే వారు. ప్రత్యేకించి టీవీ ఛానళ్లలో జరిగే చర్చావేదికల్లో ఎవరినీ పాల్గొననీయకుండా జయలలిత కట్టుదిట్టం చేసేవారు. అయితే జయలలిత మరణం తరువాత ఈ పరిస్థితి పూర్తిగా తలకిందులైంది. పార్టీ సీనియర్‌ నాయకుల నుంచి మంత్రుల వరకు టీవీ మైక్‌ కనబడితే చాలు పరిగెత్తుకెళ్లి మరీ బైట్‌లు ఇవ్వడం సర్వసాధారణమైపోయింది.  ఇటీవలి కాలంలో టీవీ ఛానళ్లలో పలు కీలకమైన అంశాలపై జరిగిన చర్చావేదికల్లో పార్టీ నియమ నిబంధనలను సైతం ఉల్లంఘించి తమ ఇష్టానుసారం వ్యాఖ్యానాలు చేసి కొందరు నేతలు పార్టీలో అలజడిని సృష్టించారు. ప్రత్యేకించి మంత్రులు జయకుమార్‌, దిండుగల్‌ శీనివాసన్‌, సెల్లూరు రాజు, సీవీ షణ్ముగం, ఆర్‌పీ ఉదయ్‌కుమార్‌, ఓఎస్‌ మణియన్‌, రాజేంద్ర బాలాజీ, వెల్లమండి నటరాజన్‌ తదితరులు మీడియా ప్రతినిధుల వద్ద, టీవీ ఛానళ్ల చర్చావేదికల్లో తమ నోటికి వచ్చినట్టు వ్యాఖ్యలు చేయడంతో పార్టీ అధిష్ఠానం ఇరకాటంలో పడే పరిస్థితి ఏర్పడింది. ఈ నేపథ్యంలో మంత్రులు, పార్టీ సీనియర్‌ నాయకులు ప్రసార మాధ్యమాల్లో చర్చాకార్యక్రమాలకు ఆచితూచి వ్యవహరించాలని ఈపీఎస్‌, ఓపీఎస్‌ జారీ చేసిన మౌఖిక ఉత్తర్వులను సైతం వారు పట్టించుకోలేదు. మంత్రి జయకుమార్‌ ప్రసారమాధ్యమాలకు మరింత చేరువై ఆయన ఇంటి ముంగిట్లోనే టీవీ ఛానళ్ల ప్రతినిధులకు ప్రత్యేక స్థలాన్ని కేటాయించడం చర్చనీయాంశమైంది.  ఈ పరిస్థితులపై కలత చెందిన సీఎం, డిప్యూటీ సీఎంలు మంగళవారం రాత్రి ప్రసార మాధ్యమాల్లో భేటీలపై ఆంక్షలు విధించారు. ప్రసారమాధ్యమాల్లో ఇక మీదట చర్చావేదికల్లో పాల్గొనేందుకు ప్రత్యేక బృందాన్ని త్వరలో ఎంపిక చేస్తామని, అంతవరకు మంత్రులు, పార్టీ నేతలు ఎవరూ టీవీ ఛానళ్లలో కనిపించకూడదని సైతం హెచ్చరించినట్టు సమాచారం.\n",
            "\n",
            "Predicted label: nation\n",
            "\n",
            "Original label: nation\n",
            "\n"
          ]
        }
      ]
    },
    {
      "cell_type": "code",
      "source": [
        "visualize_random_preds(model_3)"
      ],
      "metadata": {
        "id": "hM0ZbjE3cqHK",
        "colab": {
          "base_uri": "https://localhost:8080/"
        },
        "outputId": "10503c33-f8c4-421c-cc3c-47f3dc307957"
      },
      "id": "hM0ZbjE3cqHK",
      "execution_count": 53,
      "outputs": [
        {
          "output_type": "stream",
          "name": "stdout",
          "text": [
            "Text: \n",
            "నిర్మాణ సంస్థలు: తెన్నాండాల్ స్టూడియోస్ లిమిటెడ్‌, నార్త్‌స్టార్ట్ ఎంట‌ర్‌టైన్మెంట్‌తారాగ‌ణం: విజ‌య్‌, స‌మంత‌, కాజ‌ల్ అగ‌ర్వాల్‌, నిత్యామీన‌న్‌, వ‌డివేలు, కోవై స‌ర‌ళ‌, ఎస్‌జెసూర్య‌, స‌త్య‌రాజ్‌, రాజేంద్ర‌న్ త‌దిత‌రులుసంగీతం: ఎ.ఆర్‌.రెహ‌మాన్‌ఛాయాగ్ర‌హ‌ణం: జి.కె.విష్ణునిర్మాత‌లు: ఎన్‌.రామ‌స్వామి, హేమ‌రుక్మిణిద‌ర్శ‌క‌త్వం: అట్లీ త‌మిళ హీరోలు చాలా మంది తెలుగు సినిమా మార్కెట్‌లో త‌మ‌కంటూ ఓ స్థానాన్ని క్రియేట్ చేసుకోవాల‌ని ప్ర‌య‌త్నాలు చేస్తున్నారు. ర‌జ‌నీకాంత్‌, సూర్య‌, కార్తి, విక్ర‌మ్ అలా స‌క్సెస్ సాధించిన వారే. ఇప్పుడు ఆ పోటీ మ‌రీ ఎక్కువైంది. త‌మిళంలో మాస్ ఇమేజ్ ఉన్న హీరోల్లో ఒక‌రైన విజ‌య్ ఇప్పుడు తెలుగు సినిమా మార్కెట్లోకి రావ‌డానికి ప్ర‌య‌త్నం చేస్తున్నాడు. అందులో భాగంగా విజ‌య్ హీరోగా తెర‌కెక్కిన మెర్స‌ల్ చిత్రాన్ని తెలుగులో అదిరింది పేరుతో విడుద‌ల చేయ‌డానికి ప్ర‌య‌త్నాలు చేశారు. సెన్సార్ ఆల‌స్యం కావ‌డంతో త‌మిళం కంటే తెలుగులో సినిమా లేట్‌గా విడుద‌లైంది. అయితే ఈ లోపు త‌మిళ సినిమా మెర్స‌ల్‌పై వ‌చ్చిన వివాదాలు సినిమాకు కావాల్సినంత క్రేజ్‌ను తెచ్చిపెట్టాయి. ఈ క్రేజ్‌తో తెలుగు ప్రేక్ష‌కుల్లో `అదిరింది` సినిమాపై ఆస‌క్తి ఏర్ప‌డింది. ఆ ఆస‌క్తి ఎంత వ‌ర‌కు స‌క్సెస్ అయ్యిందో లేదో తెలుసుకోవాలంటే సినిమా క‌థ‌లోకి చూద్దాం... ఓ హాస్పిట‌ల్‌కు సంబంధించిన అంబులెన్స్ డ్రైవ‌ర్‌, మెడిక‌ల్ బ్రోక‌ర్‌, హెచ్‌.ఆర్‌ను ఎవ‌రో కిడ్నాప్ చేయ‌డంతో క‌థ మొద‌లవుతుంది. ఈ కేసును ర‌త్న‌వేలు(స‌త్య‌రాజ్‌)కి అప్ప‌గిస్తారు. ఆయ‌న కేసుని శోధించి అస‌లు నేర‌స్థుడు డా.భార్గ‌వ్‌(విజ‌య్‌)గా గుర్తించి అరెస్ట్ చేస్తాడు. డా.భార్గ‌వ్ ఐదు రూపాయ‌లు మాత్ర‌మే తీసుకుని పేద‌ల‌కు వైద్యం చేస్తుంటాడు. అత‌నికి స‌మాజంలో చాలా మంచి పేరుంటుంది. డా.భార్గ‌వ్ క‌థ చెప్ప‌డంతో అస‌లు సినిమాలోకి ఎంట‌ర్ అవుతాం. భార్గ‌వ్ ఓ సెమినార్ ప‌నిమీద పారిస్ వెళ‌తాడు. అక్క‌డే త‌న‌కు అనుపల్ల‌వి(కాజ‌ల్ అగ‌ర్వాల్‌) ప‌రిచ‌యం అవుతుంది. అను ప‌ల్ల‌వి, త‌న బాస్‌ డా.అర్జున్ జ‌కారియా(హ‌రీష్ పేర‌డీ)తో క‌లిసి వ‌స్తుంది.  భార్గ‌వ్ వైద్యుడే కాకుండా మెజీషియ‌న్ కూడా. ఓ మెజీషియ‌న్ షోలో భార్గ‌వ్.. అర్జున్‌ను, జ‌కారియాను చంపేసి పారిపోతాడు. దాంతో పోలీసులు భార్గ‌వ్‌ని ప‌ట్టుకోవాల‌ని ప్ర‌య‌త్నాలు చేస్తుంటారు. ఇండియాకు వ‌చ్చిన భార్గ‌వ్‌కి తారా(స‌మంత‌) అనే టీవీ యాంక‌ర్ ప‌రిచ‌యం అవుతుంది. వారి మ‌ధ్య ప్రేమ పుట్టే స‌మ‌యంలో అనుకోని ఘ‌ట‌న‌లు ఎదుర‌వుతాయి. అస‌లు భార్గ‌వ్  మెజీషియ‌న్ ఎలా అవుతాడు? అర్జున్ జ‌కారియాను ఎందుకు చంపుతాడు? అస‌లు విజ‌య్‌, విజ‌య‌ భార్గ‌వ్‌కి, భార్గ‌వ్‌కి ఉన్న రిలేష‌న్ ఏంటి?  డా.భార్గ‌వ్‌కి, డా.డేనియ‌ల్‌కు ఉన్న రిలేష‌న్ ఏంటి?  అనే విష‌యాలు తెలుసుకోవాలంటే సినిమా చూడాల్సిందే... హీరో విజ‌య్ ఈ సినిమాలో త్రిపాత్రాభిన‌యం చేశాడు. తండ్రి, ఇద్ద‌రు కొడుకులుగా విజ‌య్ చూపించిన వేరియేష‌న్ చ‌క్క‌గా ఉంది. ఓ మంచి ప‌ని కోసం తండ్రి చేసే ప‌ని ఆగిపోయిన‌ప్పుడు అత‌ని ఇద్ద‌రి కొడుకులు ఏం చేస్తారనేదే ప్ర‌ధాన క‌థాంశం, డాక్ట‌ర్, మెజీషియ‌న్‌గా విజ‌య్ మంచి న‌ట‌న‌ చూపాడు. ఇక స‌మంత‌, కాజ‌ల్, నిత్యా పాత్ర‌ల్లో నిత్యా పాత్ర‌కు న‌ట‌న ప‌రంగా మంచి స్కోప్ దొరికింది. పాత్ర‌కు త‌గిన విధంగానే నిత్యా చ‌క్క‌టి న‌ట‌న‌ను ప్ర‌ద‌ర్శించింది. మంచి ఎమోష‌న్స్‌ను పండించింది. ఎస్‌జె.సూర్య స్టైలిష్ విల‌న్‌గా చ‌క్క‌గా మెప్పించాడు. ఇక స‌త్య‌రాజ్‌, రాజేంద్ర‌న్, వ‌డివేలు, కోవై స‌ర‌ళ‌లు వారివారి పాత్ర‌ల‌కు న్యాయం చేశారు. ఇక ఈ సినిమాకు విజ‌యేంద్ర ప్ర‌సాద్ స్కీన్‌ప్లే అందించ‌డం విశేషం. క‌థ‌లో కొత్త‌గా చెప్పుకోవ‌డానికి ఏమీ లేదు.  అయితే స్క్రీన్‌ప్లే సినిమాను ఆస‌క్తిక‌రంగా ముందుకు తీసుకెళ్లింది. విజ‌య్ మూడు పాత్ర‌ల్లో వేరియేష‌న్‌ను ఈ స్క్రీన్‌ప్లేతో చ‌క్క‌గా ప్రెజెంట్ చేశారు. ద‌ర్శ‌కుడు అట్లీ పూర్తి క‌మ‌ర్షియ‌ల్ హంగులు, మాస్ ఎలిమెంట్స్‌తో సినిమాను తెర‌కెక్కించిన‌ తీరు బావుంది. జీఎస్‌టీపై హీరో చెప్పే డైలాగ్స్‌కి త‌మిళంలో మంచి స్పంద‌న వ‌చ్చినా, ఇక్కడ మ్యూట్‌లో పెట్ట‌డం జ‌రిగింది. ఇదో ర‌కంగా మైన‌స్ అయ్యింద‌ని చెప్పొచ్చు. స‌మంత‌, విజ‌య్‌, రాజేంద్ర‌న్ మ‌ధ్య వ‌చ్చే స‌న్నివేశాల‌కు ప్రేక్ష‌కుల నుండి మంచి స్పంద‌న వ‌స్తుంది. నాయ‌కుడు అంటే ఆషామాషీ కాదు...ఓ త‌రం పెట్టుకున్న న‌మ్మ‌కం, మా చేతులు కింద‌నే ఉంటాయ‌నుకోకు, ఎప్పుడో ఒక‌రోజు ఆకాశాన్ని అందుకుంటాయి. ఒక మంచి ప‌ని చేస్తే ఒక‌టే తిరిగొస్తుంది. అదే చెడు చేస్తే..అది రెండుగా తిరిగొస్తాయి. నాకు చ‌చ్చి బత‌క‌డం మామూలే బ్రో.ఇలాంటి డైలాగ్స్ మాస్ ఆడియెన్స్‌ను ఆకట్టుకుంటాయి. కొన్ని సీన్స్‌ హార్ట్ ట‌చింగ్‌గా ఉంటాయి.   ప్ర‌స్తుతం కార్పొరేట్ హాస్పిట‌ల్స్ తీరుని చూపించిన తీరు చూస్తే భ‌య‌మేస్తుంది. ఇక పాట‌ల ప‌రంగా చూస్తే..నీ వ‌ల్లే సాంగ్ పిక్చ‌రైజేష‌న్ బావుంది. ఎ.ఆర్‌.రెహామాన్ బ్యాక్‌గ్రౌండ్ స్కోర్ సినిమా మూడ్‌ను ఎలివేట్ చేస్తుంది. విష్ణు సినిమాటోగ్ర‌ఫీ సినిమా రేంజ్‌ను పెంచింది. ఓ మంచి మెసేజ్‌ను క‌మ‌ర్షియ‌ల్ ఎలిమెంట్స్‌తో చెప్ప‌డం వ‌ల్ల సినిమా ప్రేక్ష‌కుల‌ను మెప్పిస్తుంది. అయితే ..క‌థ‌లో కొత్త‌ద‌నం లేక‌పోవ‌డంతో పాటు  ఇలాంటి క‌థ‌ల‌ను తెలుగు ప్రేక్ష‌కులు ఇది వ‌ర‌కే చూసేశారు. సెకండాఫ్ డ్యూరేష‌న్ ఎక్కువ‌గా ఉంది. అక్క‌డ‌క్క‌డా త‌మిళ నేటివిటీ కొట్టొచ్చిన‌ట్టు క‌న‌ప‌డుతుంది.\n",
            "\n",
            "Predicted label: entertainment\n",
            "\n",
            "Original label: entertainment\n",
            "\n"
          ]
        }
      ]
    }
  ],
  "metadata": {
    "colab": {
      "name": "telugu-news.ipynb",
      "provenance": [],
      "collapsed_sections": [
        "42f2f1e1",
        "3f7d7bec",
        "41d437bb"
      ]
    },
    "kernelspec": {
      "display_name": "Python 3 (ipykernel)",
      "language": "python",
      "name": "python3"
    },
    "language_info": {
      "codemirror_mode": {
        "name": "ipython",
        "version": 3
      },
      "file_extension": ".py",
      "mimetype": "text/x-python",
      "name": "python",
      "nbconvert_exporter": "python",
      "pygments_lexer": "ipython3",
      "version": "3.9.7"
    },
    "accelerator": "GPU"
  },
  "nbformat": 4,
  "nbformat_minor": 5
}
